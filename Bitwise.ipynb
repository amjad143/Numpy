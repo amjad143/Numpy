{
 "cells": [
  {
   "cell_type": "markdown",
   "id": "ef44841c",
   "metadata": {},
   "source": [
    "# Binary operation\n",
    "### Bitwise operation"
   ]
  },
  {
   "cell_type": "code",
   "execution_count": 1,
   "id": "93b0505b",
   "metadata": {},
   "outputs": [],
   "source": [
    "import numpy as np"
   ]
  },
  {
   "cell_type": "code",
   "execution_count": 2,
   "id": "428435c1",
   "metadata": {},
   "outputs": [
    {
     "data": {
      "text/plain": [
       "'100'"
      ]
     },
     "execution_count": 2,
     "metadata": {},
     "output_type": "execute_result"
    }
   ],
   "source": [
    "np.binary_repr(4)"
   ]
  },
  {
   "cell_type": "code",
   "execution_count": 3,
   "id": "ca964a7e",
   "metadata": {},
   "outputs": [
    {
     "data": {
      "text/plain": [
       "'0000000000000000000000000000000000000100'"
      ]
     },
     "execution_count": 3,
     "metadata": {},
     "output_type": "execute_result"
    }
   ],
   "source": [
    "np.binary_repr(4,40)"
   ]
  },
  {
   "cell_type": "code",
   "execution_count": 4,
   "id": "8a8d7a35",
   "metadata": {},
   "outputs": [
    {
     "data": {
      "text/plain": [
       "0"
      ]
     },
     "execution_count": 4,
     "metadata": {},
     "output_type": "execute_result"
    }
   ],
   "source": [
    "# whenever if we have atleast zero the output will be zero\n",
    "np.bitwise_and(5,0)"
   ]
  },
  {
   "cell_type": "code",
   "execution_count": 5,
   "id": "61711ad8",
   "metadata": {},
   "outputs": [
    {
     "data": {
      "text/plain": [
       "5"
      ]
     },
     "execution_count": 5,
     "metadata": {},
     "output_type": "execute_result"
    }
   ],
   "source": [
    "np.bitwise_and(5,5)"
   ]
  },
  {
   "cell_type": "code",
   "execution_count": 6,
   "id": "6d368ecf",
   "metadata": {},
   "outputs": [
    {
     "data": {
      "text/plain": [
       "43"
      ]
     },
     "execution_count": 6,
     "metadata": {},
     "output_type": "execute_result"
    }
   ],
   "source": [
    "#or\n",
    "np.bitwise_or(3,40)"
   ]
  },
  {
   "cell_type": "code",
   "execution_count": 7,
   "id": "96d9199c",
   "metadata": {},
   "outputs": [
    {
     "data": {
      "text/plain": [
       "15"
      ]
     },
     "execution_count": 7,
     "metadata": {},
     "output_type": "execute_result"
    }
   ],
   "source": [
    "np.bitwise_or(7,15)"
   ]
  },
  {
   "cell_type": "markdown",
   "id": "59b746eb",
   "metadata": {},
   "source": [
    "### Inverse function"
   ]
  },
  {
   "cell_type": "code",
   "execution_count": 8,
   "id": "2c7d2272",
   "metadata": {},
   "outputs": [
    {
     "data": {
      "text/plain": [
       "-11"
      ]
     },
     "execution_count": 8,
     "metadata": {},
     "output_type": "execute_result"
    }
   ],
   "source": [
    "np.invert(10)"
   ]
  },
  {
   "cell_type": "code",
   "execution_count": 9,
   "id": "e2724bfb",
   "metadata": {},
   "outputs": [
    {
     "data": {
      "text/plain": [
       "0"
      ]
     },
     "execution_count": 9,
     "metadata": {},
     "output_type": "execute_result"
    }
   ],
   "source": [
    "np.invert(-1)"
   ]
  },
  {
   "cell_type": "code",
   "execution_count": 10,
   "id": "aea98c08",
   "metadata": {},
   "outputs": [
    {
     "data": {
      "text/plain": [
       "32"
      ]
     },
     "execution_count": 10,
     "metadata": {},
     "output_type": "execute_result"
    }
   ],
   "source": [
    "#left shift -right shift = this means <8*2=16*2=32>\n",
    "np.left_shift(8,2)"
   ]
  },
  {
   "cell_type": "code",
   "execution_count": 11,
   "id": "214071c2",
   "metadata": {},
   "outputs": [
    {
     "data": {
      "text/plain": [
       "128"
      ]
     },
     "execution_count": 11,
     "metadata": {},
     "output_type": "execute_result"
    }
   ],
   "source": [
    "np.left_shift(8,4)"
   ]
  },
  {
   "cell_type": "markdown",
   "id": "e6556440",
   "metadata": {},
   "source": [
    "#### Right shift"
   ]
  },
  {
   "cell_type": "code",
   "execution_count": 12,
   "id": "847acd04",
   "metadata": {},
   "outputs": [
    {
     "data": {
      "text/plain": [
       "2"
      ]
     },
     "execution_count": 12,
     "metadata": {},
     "output_type": "execute_result"
    }
   ],
   "source": [
    "np.right_shift(10,2)"
   ]
  },
  {
   "cell_type": "code",
   "execution_count": null,
   "id": "b4369865",
   "metadata": {},
   "outputs": [],
   "source": []
  },
  {
   "cell_type": "markdown",
   "id": "73f8814a",
   "metadata": {},
   "source": [
    "***"
   ]
  },
  {
   "cell_type": "code",
   "execution_count": 13,
   "id": "aee795eb",
   "metadata": {},
   "outputs": [
    {
     "data": {
      "text/plain": [
       "21"
      ]
     },
     "execution_count": 13,
     "metadata": {},
     "output_type": "execute_result"
    }
   ],
   "source": [
    "# syntax : np.random.randint(start,end)\n",
    "np.random.randint(0,50) #it will display any number in b/w in it"
   ]
  },
  {
   "cell_type": "markdown",
   "id": "15eb6e3a",
   "metadata": {},
   "source": [
    "### Seed(any no will be fixed in random number-"
   ]
  },
  {
   "cell_type": "code",
   "execution_count": 14,
   "id": "2d7900be",
   "metadata": {},
   "outputs": [
    {
     "data": {
      "text/plain": [
       "42"
      ]
     },
     "execution_count": 14,
     "metadata": {},
     "output_type": "execute_result"
    }
   ],
   "source": [
    "np.random.seed(3)\n",
    "np.random.randint(0,50)"
   ]
  },
  {
   "cell_type": "code",
   "execution_count": 15,
   "id": "3ebb1779",
   "metadata": {},
   "outputs": [
    {
     "data": {
      "text/plain": [
       "array([ 0, 35, 12, 34, 16])"
      ]
     },
     "execution_count": 15,
     "metadata": {},
     "output_type": "execute_result"
    }
   ],
   "source": [
    "np.random.seed(41)\n",
    "np.random.randint(0,50,5)"
   ]
  },
  {
   "cell_type": "markdown",
   "id": "e80ee448",
   "metadata": {},
   "source": [
    "## Uniformly distributed data"
   ]
  },
  {
   "cell_type": "code",
   "execution_count": 16,
   "id": "b1761fcd",
   "metadata": {},
   "outputs": [
    {
     "data": {
      "text/plain": [
       "array([0.15535934, 0.60056724, 0.92435824])"
      ]
     },
     "execution_count": 16,
     "metadata": {},
     "output_type": "execute_result"
    }
   ],
   "source": [
    "np.random.rand(3)"
   ]
  },
  {
   "cell_type": "code",
   "execution_count": 17,
   "id": "576092c9",
   "metadata": {},
   "outputs": [
    {
     "data": {
      "text/plain": [
       "array([[0.78786441, 0.76383076, 0.70297401, 0.83393912, 0.80197789],\n",
       "       [0.17902873, 0.46033005, 0.69687815, 0.87372662, 0.51323781],\n",
       "       [0.23917082, 0.03684428, 0.13273989, 0.39575107, 0.72397414]])"
      ]
     },
     "execution_count": 17,
     "metadata": {},
     "output_type": "execute_result"
    }
   ],
   "source": [
    "np.random.rand(3,5)"
   ]
  },
  {
   "cell_type": "code",
   "execution_count": 18,
   "id": "1a582bde",
   "metadata": {},
   "outputs": [
    {
     "data": {
      "text/plain": [
       "array([[[0.50666758, 0.68372933, 0.56790823, 0.42265669],\n",
       "        [0.24581504, 0.69734101, 0.10965883, 0.69938159],\n",
       "        [0.94759455, 0.62309572, 0.32546768, 0.07769131]],\n",
       "\n",
       "       [[0.54688348, 0.46653609, 0.76310058, 0.19396291],\n",
       "        [0.47111394, 0.77246208, 0.59165399, 0.7682703 ],\n",
       "        [0.90985679, 0.87368137, 0.09973792, 0.69290895]],\n",
       "\n",
       "       [[0.54885526, 0.37056867, 0.05497942, 0.80208799],\n",
       "        [0.08611958, 0.41467625, 0.64034854, 0.24576913],\n",
       "        [0.37122991, 0.7630029 , 0.16588308, 0.62084396]]])"
      ]
     },
     "execution_count": 18,
     "metadata": {},
     "output_type": "execute_result"
    }
   ],
   "source": [
    "np.random.rand(3,3,4)"
   ]
  },
  {
   "cell_type": "markdown",
   "id": "b90c2876",
   "metadata": {},
   "source": [
    "# Random Numbers"
   ]
  },
  {
   "cell_type": "code",
   "execution_count": 19,
   "id": "951a93a9",
   "metadata": {},
   "outputs": [
    {
     "data": {
      "text/plain": [
       "array([0.4656638 , 0.16959622, 0.53128275])"
      ]
     },
     "execution_count": 19,
     "metadata": {},
     "output_type": "execute_result"
    }
   ],
   "source": [
    "np.random.rand(3)"
   ]
  },
  {
   "cell_type": "code",
   "execution_count": 20,
   "id": "84b7f918",
   "metadata": {},
   "outputs": [
    {
     "data": {
      "text/plain": [
       "array([[0.78537366, 0.25105698, 0.6429422 , 0.07787787, 0.14112023],\n",
       "       [0.47810158, 0.47313173, 0.33774415, 0.5762408 , 0.8224572 ],\n",
       "       [0.77143856, 0.12866412, 0.13215158, 0.50779541, 0.74242922]])"
      ]
     },
     "execution_count": 20,
     "metadata": {},
     "output_type": "execute_result"
    }
   ],
   "source": [
    "np.random.rand(3,5)"
   ]
  },
  {
   "cell_type": "code",
   "execution_count": 21,
   "id": "aac38953",
   "metadata": {},
   "outputs": [
    {
     "data": {
      "text/plain": [
       "array([[[0.96867439, 0.67860703, 0.77894277, 0.7429889 ],\n",
       "        [0.7690108 , 0.21937048, 0.418158  , 0.75472486],\n",
       "        [0.85787987, 0.97977982, 0.40618131, 0.93494623]],\n",
       "\n",
       "       [[0.61991989, 0.08633904, 0.35903517, 0.43274014],\n",
       "        [0.1380003 , 0.50980977, 0.08499531, 0.2387202 ],\n",
       "        [0.38567781, 0.46613848, 0.44001421, 0.23271233]],\n",
       "\n",
       "       [[0.40004678, 0.70108024, 0.33275932, 0.05419258],\n",
       "        [0.33544325, 0.12033919, 0.65954019, 0.39875724],\n",
       "        [0.28247643, 0.17320215, 0.22853691, 0.86366954]]])"
      ]
     },
     "execution_count": 21,
     "metadata": {},
     "output_type": "execute_result"
    }
   ],
   "source": [
    "np.random.rand(3,3,4)"
   ]
  },
  {
   "cell_type": "markdown",
   "id": "e22d12f3",
   "metadata": {},
   "source": [
    "## Normally distributed data\n",
    "### np.random.randn(number)"
   ]
  },
  {
   "cell_type": "code",
   "execution_count": 22,
   "id": "7e8730bf",
   "metadata": {},
   "outputs": [
    {
     "data": {
      "text/plain": [
       "array([-2.09146466,  0.34406315, -0.94464023])"
      ]
     },
     "execution_count": 22,
     "metadata": {},
     "output_type": "execute_result"
    }
   ],
   "source": [
    "np.random.randn(3)"
   ]
  },
  {
   "cell_type": "code",
   "execution_count": 23,
   "id": "615c5f0f",
   "metadata": {},
   "outputs": [
    {
     "data": {
      "text/plain": [
       "array([[-2.08217226, -0.60753147],\n",
       "       [-2.17474173,  0.04983896],\n",
       "       [ 0.6656216 ,  0.13175629]])"
      ]
     },
     "execution_count": 23,
     "metadata": {},
     "output_type": "execute_result"
    }
   ],
   "source": [
    "np.random.randn(3,2)"
   ]
  },
  {
   "cell_type": "code",
   "execution_count": 24,
   "id": "44ff3078",
   "metadata": {},
   "outputs": [
    {
     "data": {
      "text/plain": [
       "array([[[-0.09489876, -1.40001869, -0.33225027,  0.90029374,\n",
       "         -1.82096013],\n",
       "        [ 0.11193493,  0.90489358,  1.14633497, -0.08811598,\n",
       "         -1.84842577]],\n",
       "\n",
       "       [[ 1.36916701,  1.8850487 , -2.18295231,  0.24244992,\n",
       "          1.21908119],\n",
       "        [ 1.54735105, -0.57537551,  1.59811175, -0.8304095 ,\n",
       "          0.63993536]],\n",
       "\n",
       "       [[ 0.96727759,  0.81152888, -0.01700193,  0.78673616,\n",
       "         -2.26487679],\n",
       "        [-0.11293952, -0.36149605, -2.074649  ,  0.37865883,\n",
       "         -0.75072456]]])"
      ]
     },
     "execution_count": 24,
     "metadata": {},
     "output_type": "execute_result"
    }
   ],
   "source": [
    "np.random.randn(3,2,5)"
   ]
  },
  {
   "cell_type": "markdown",
   "id": "d059fe5e",
   "metadata": {},
   "source": [
    "### To check wether the data is Normally distributed?\n",
    "##### we use the help of matplotlib to display data"
   ]
  },
  {
   "cell_type": "code",
   "execution_count": 25,
   "id": "d7d56bfb",
   "metadata": {},
   "outputs": [],
   "source": [
    "import matplotlib.pyplot as plt"
   ]
  },
  {
   "cell_type": "code",
   "execution_count": 26,
   "id": "29eeefcd",
   "metadata": {},
   "outputs": [
    {
     "data": {
      "image/png": "[encoded data removed]",
      "text/plain": [
       "<Figure size 432x288 with 1 Axes>"
      ]
     },
     "metadata": {
      "needs_background": "light"
     },
     "output_type": "display_data"
    }
   ],
   "source": [
    "plt.hist(np.random.rand(10000)); #this is the uniformly distributed data"
   ]
  },
  {
   "cell_type": "code",
   "execution_count": 27,
   "id": "98f52b03",
   "metadata": {},
   "outputs": [
    {
     "data": {
      "image/png": "[encoded data removed]",
      "text/plain": [
       "<Figure size 432x288 with 1 Axes>"
      ]
     },
     "metadata": {
      "needs_background": "light"
     },
     "output_type": "display_data"
    }
   ],
   "source": [
    "# lets place the bins = numbers\n",
    "plt.hist(np.random.rand(10000),bins=50);"
   ]
  },
  {
   "cell_type": "markdown",
   "id": "0473b209",
   "metadata": {},
   "source": [
    "## Normally distributed data"
   ]
  },
  {
   "cell_type": "code",
   "execution_count": 28,
   "id": "dccd6b85",
   "metadata": {},
   "outputs": [
    {
     "data": {
      "image/png": "[encoded data removed]",
      "text/plain": [
       "<Figure size 432x288 with 1 Axes>"
      ]
     },
     "metadata": {
      "needs_background": "light"
     },
     "output_type": "display_data"
    }
   ],
   "source": [
    "plt.hist(np.random.randn(100000),bins=52);"
   ]
  },
  {
   "cell_type": "markdown",
   "id": "32cc2e98",
   "metadata": {},
   "source": [
    "#### By changing the values we will plot the diagram into right position\n",
    "#### if we change the height of the uniformly data and mean it will display in some other position"
   ]
  },
  {
   "cell_type": "code",
   "execution_count": 29,
   "id": "d881a7fb",
   "metadata": {},
   "outputs": [
    {
     "data": {
      "image/png": "[encoded data removed]",
      "text/plain": [
       "<Figure size 432x288 with 1 Axes>"
      ]
     },
     "metadata": {
      "needs_background": "light"
     },
     "output_type": "display_data"
    }
   ],
   "source": [
    "plt.hist(np.random.uniform(3,1,10000),bins=20);\n",
    "#uniformly distributed data"
   ]
  },
  {
   "cell_type": "markdown",
   "id": "f8236acb",
   "metadata": {},
   "source": [
    "### Normall distributed data\n",
    "#### np.random.normal(mean,std,generating number)"
   ]
  },
  {
   "cell_type": "code",
   "execution_count": 30,
   "id": "60ec4f44",
   "metadata": {},
   "outputs": [
    {
     "data": {
      "image/png": "[encoded data removed]",
      "text/plain": [
       "<Figure size 432x288 with 1 Axes>"
      ]
     },
     "metadata": {
      "needs_background": "light"
     },
     "output_type": "display_data"
    }
   ],
   "source": [
    "plt.hist(np.random.normal(3,1,100000),bins=20);"
   ]
  },
  {
   "cell_type": "markdown",
   "id": "a6f242f0",
   "metadata": {},
   "source": [
    "## Overlapping two graphs\n",
    "### uniform distributed-normal distributed"
   ]
  },
  {
   "cell_type": "code",
   "execution_count": 31,
   "id": "17433697",
   "metadata": {},
   "outputs": [
    {
     "data": {
      "image/png": "[encoded data removed]",
      "text/plain": [
       "<Figure size 432x288 with 1 Axes>"
      ]
     },
     "metadata": {
      "needs_background": "light"
     },
     "output_type": "display_data"
    }
   ],
   "source": [
    "plt.hist(np.random.uniform(3,5,100000));\n",
    "plt.hist(np.random.normal(3,1,100000),bins=20);"
   ]
  },
  {
   "cell_type": "markdown",
   "id": "068c8661",
   "metadata": {},
   "source": [
    "### Shuffle"
   ]
  },
  {
   "cell_type": "code",
   "execution_count": 32,
   "id": "41d1f2fc",
   "metadata": {},
   "outputs": [
    {
     "data": {
      "text/plain": [
       "array([0, 1, 2, 3, 4, 5, 6, 7, 8, 9])"
      ]
     },
     "execution_count": 32,
     "metadata": {},
     "output_type": "execute_result"
    }
   ],
   "source": [
    "num = np.arange(10)\n",
    "num"
   ]
  },
  {
   "cell_type": "code",
   "execution_count": 33,
   "id": "73301c4e",
   "metadata": {},
   "outputs": [
    {
     "data": {
      "text/plain": [
       "array([3, 2, 8, 9, 4, 7, 1, 0, 6, 5])"
      ]
     },
     "execution_count": 33,
     "metadata": {},
     "output_type": "execute_result"
    }
   ],
   "source": [
    "np.random.shuffle(num)\n",
    "num"
   ]
  },
  {
   "cell_type": "markdown",
   "id": "bf0c22e7",
   "metadata": {},
   "source": [
    "***"
   ]
  },
  {
   "cell_type": "markdown",
   "id": "9abe949a",
   "metadata": {},
   "source": [
    "# i/o\n",
    "### all your data into Text or Binary file"
   ]
  },
  {
   "cell_type": "code",
   "execution_count": 34,
   "id": "95e883e5",
   "metadata": {},
   "outputs": [
    {
     "data": {
      "text/plain": [
       "array([2, 5, 7])"
      ]
     },
     "execution_count": 34,
     "metadata": {},
     "output_type": "execute_result"
    }
   ],
   "source": [
    "# how to store array inyour file\n",
    "a = np.array([2,5,7])\n",
    "a"
   ]
  },
  {
   "cell_type": "code",
   "execution_count": 35,
   "id": "098207ba",
   "metadata": {},
   "outputs": [],
   "source": [
    "# to store into binary file : np.save('out.bin',variable)\n",
    "np.save('out.bin',a)"
   ]
  },
  {
   "cell_type": "code",
   "execution_count": 36,
   "id": "67f787f9",
   "metadata": {},
   "outputs": [],
   "source": [
    "# if we want to save text file\n",
    "np.savetxt('data.txt',a)"
   ]
  },
  {
   "cell_type": "code",
   "execution_count": 37,
   "id": "b77453a7",
   "metadata": {},
   "outputs": [
    {
     "data": {
      "text/plain": [
       "array([2., 5., 7.])"
      ]
     },
     "execution_count": 37,
     "metadata": {},
     "output_type": "execute_result"
    }
   ],
   "source": [
    "# if we want to read data\n",
    "np.loadtxt('data.txt')"
   ]
  },
  {
   "cell_type": "markdown",
   "id": "8a753633",
   "metadata": {},
   "source": [
    "***"
   ]
  },
  {
   "cell_type": "markdown",
   "id": "d274ad7e",
   "metadata": {},
   "source": [
    "# Linear Algebra"
   ]
  },
  {
   "cell_type": "code",
   "execution_count": 38,
   "id": "a4216885",
   "metadata": {},
   "outputs": [
    {
     "data": {
      "text/plain": [
       "array([[ 2,  5,  7],\n",
       "       [ 0,  9,  7],\n",
       "       [ 1, -5,  8]])"
      ]
     },
     "execution_count": 38,
     "metadata": {},
     "output_type": "execute_result"
    }
   ],
   "source": [
    "a = np.array([[2,5,7],[0,9,7],[1,-5,8]])\n",
    "a"
   ]
  },
  {
   "cell_type": "code",
   "execution_count": 39,
   "id": "3b2d1f48",
   "metadata": {},
   "outputs": [
    {
     "data": {
      "text/plain": [
       "3"
      ]
     },
     "execution_count": 39,
     "metadata": {},
     "output_type": "execute_result"
    }
   ],
   "source": [
    "# to check the \"Rankk\" matrix\n",
    "np.linalg.matrix_rank(a)"
   ]
  },
  {
   "cell_type": "code",
   "execution_count": 40,
   "id": "094d4262",
   "metadata": {},
   "outputs": [
    {
     "data": {
      "text/plain": [
       "19"
      ]
     },
     "execution_count": 40,
     "metadata": {},
     "output_type": "execute_result"
    }
   ],
   "source": [
    "# to add diagonal elements and it will dubut in core only\n",
    "np.trace(a)"
   ]
  },
  {
   "cell_type": "markdown",
   "id": "3edcd1d6",
   "metadata": {},
   "source": [
    "### square matrix-determination"
   ]
  },
  {
   "cell_type": "code",
   "execution_count": 41,
   "id": "4218c3e9",
   "metadata": {},
   "outputs": [
    {
     "data": {
      "text/plain": [
       "186.00000000000009"
      ]
     },
     "execution_count": 41,
     "metadata": {},
     "output_type": "execute_result"
    }
   ],
   "source": [
    "# to go inside the module\n",
    "np.linalg.det(a)"
   ]
  },
  {
   "cell_type": "markdown",
   "id": "fafc756d",
   "metadata": {},
   "source": [
    "### Inverse function"
   ]
  },
  {
   "cell_type": "code",
   "execution_count": 42,
   "id": "ac470124",
   "metadata": {},
   "outputs": [
    {
     "data": {
      "text/plain": [
       "array([[ 0.57526882, -0.40322581, -0.15053763],\n",
       "       [ 0.03763441,  0.0483871 , -0.07526882],\n",
       "       [-0.0483871 ,  0.08064516,  0.09677419]])"
      ]
     },
     "execution_count": 42,
     "metadata": {},
     "output_type": "execute_result"
    }
   ],
   "source": [
    "np.linalg.inv(a)"
   ]
  },
  {
   "cell_type": "markdown",
   "id": "bfd9e09f",
   "metadata": {},
   "source": [
    "### Power of the Matrix"
   ]
  },
  {
   "cell_type": "code",
   "execution_count": 43,
   "id": "02ce978f",
   "metadata": {},
   "outputs": [
    {
     "data": {
      "text/plain": [
       "array([[ 127, -290, 1057],\n",
       "       [ 133, -146, 1323],\n",
       "       [  56, -850, -202]])"
      ]
     },
     "execution_count": 43,
     "metadata": {},
     "output_type": "execute_result"
    }
   ],
   "source": [
    "np.linalg.matrix_power(a,3)"
   ]
  },
  {
   "cell_type": "markdown",
   "id": "f14c0256",
   "metadata": {},
   "source": [
    "### Eigen_value"
   ]
  },
  {
   "cell_type": "code",
   "execution_count": 44,
   "id": "e535e261",
   "metadata": {},
   "outputs": [
    {
     "data": {
      "text/plain": [
       "(array([1.80701898+0.j        , 8.59649051+5.38816368j,\n",
       "        8.59649051-5.38816368j]),\n",
       " array([[ 0.99213348+0.j        , -0.54097002-0.09822029j,\n",
       "         -0.54097002+0.09822029j],\n",
       "        [ 0.08730715+0.j        , -0.66121678+0.j        ,\n",
       "         -0.66121678-0.j        ],\n",
       "        [-0.0897141 +0.j        ,  0.03811532-0.50896346j,\n",
       "          0.03811532+0.50896346j]]))"
      ]
     },
     "execution_count": 44,
     "metadata": {},
     "output_type": "execute_result"
    }
   ],
   "source": [
    "np.linalg.eig(a)"
   ]
  },
  {
   "cell_type": "markdown",
   "id": "13a94d12",
   "metadata": {},
   "source": [
    "### Decomosition of original matrix into three diffrent matrix"
   ]
  },
  {
   "cell_type": "code",
   "execution_count": 45,
   "id": "51360b87",
   "metadata": {},
   "outputs": [
    {
     "data": {
      "text/plain": [
       "(array([[-0.60628635,  0.03765492, -0.79435444],\n",
       "        [-0.75847232, -0.32761986,  0.56336931],\n",
       "        [-0.23903266,  0.94405897,  0.22719166]]),\n",
       " array([14.44319001,  9.35408353,  1.37672937]),\n",
       " array([[-0.10050448, -0.59976496, -0.7938393 ],\n",
       "        [ 0.10897581, -0.79971479,  0.59040709],\n",
       "        [-0.98895052, -0.02717072,  0.14573479]]))"
      ]
     },
     "execution_count": 45,
     "metadata": {},
     "output_type": "execute_result"
    }
   ],
   "source": [
    "np.linalg.svd(a)"
   ]
  },
  {
   "cell_type": "markdown",
   "id": "5aad36bc",
   "metadata": {},
   "source": [
    "## Linear equation"
   ]
  },
  {
   "cell_type": "code",
   "execution_count": 46,
   "id": "6e70ef55",
   "metadata": {},
   "outputs": [],
   "source": [
    "a = np.array([[1,1],[2,-5]])\n",
    "b = np.array([5,10])"
   ]
  },
  {
   "cell_type": "code",
   "execution_count": 47,
   "id": "c012d22a",
   "metadata": {},
   "outputs": [
    {
     "data": {
      "text/plain": [
       "array([5., 0.])"
      ]
     },
     "execution_count": 47,
     "metadata": {},
     "output_type": "execute_result"
    }
   ],
   "source": [
    "np.linalg.solve(a,b)"
   ]
  },
  {
   "cell_type": "markdown",
   "id": "554de1e8",
   "metadata": {},
   "source": [
    "***"
   ]
  },
  {
   "cell_type": "markdown",
   "id": "088d09f7",
   "metadata": {},
   "source": [
    "# Problem"
   ]
  },
  {
   "cell_type": "code",
   "execution_count": 48,
   "id": "65b9e9d0",
   "metadata": {},
   "outputs": [
    {
     "data": {
      "text/plain": [
       "array([False, False,  True, False, False,  True,  True])"
      ]
     },
     "execution_count": 48,
     "metadata": {},
     "output_type": "execute_result"
    }
   ],
   "source": [
    "# replace all negative values into 1000?\n",
    "arr = np.array([5,0,-3,9,10,-5,-1])\n",
    "arr<0"
   ]
  },
  {
   "cell_type": "code",
   "execution_count": 49,
   "id": "74ba9ef0",
   "metadata": {},
   "outputs": [
    {
     "data": {
      "text/plain": [
       "array([ 5,  0, -3,  9, 10, -5, -1])"
      ]
     },
     "execution_count": 49,
     "metadata": {},
     "output_type": "execute_result"
    }
   ],
   "source": [
    "arr"
   ]
  },
  {
   "cell_type": "code",
   "execution_count": 50,
   "id": "28430727",
   "metadata": {},
   "outputs": [
    {
     "data": {
      "text/plain": [
       "array([   5,    0, 1000,    9,   10, 1000, 1000])"
      ]
     },
     "execution_count": 50,
     "metadata": {},
     "output_type": "execute_result"
    }
   ],
   "source": [
    "arr[arr<0] = 1000\n",
    "arr"
   ]
  },
  {
   "cell_type": "markdown",
   "id": "ab5c7383",
   "metadata": {},
   "source": [
    "#### Create array values b/w 1000 and 2000 all divisble by 5 but not 15?"
   ]
  },
  {
   "cell_type": "code",
   "execution_count": 51,
   "id": "3655717f",
   "metadata": {},
   "outputs": [
    {
     "name": "stdout",
     "output_type": "stream",
     "text": [
      "1000\n",
      "1010\n",
      "1015\n",
      "1025\n",
      "1030\n",
      "1040\n",
      "1045\n",
      "1055\n",
      "1060\n",
      "1070\n",
      "1075\n",
      "1085\n",
      "1090\n",
      "1100\n",
      "1105\n",
      "1115\n",
      "1120\n",
      "1130\n",
      "1135\n",
      "1145\n",
      "1150\n",
      "1160\n",
      "1165\n",
      "1175\n",
      "1180\n",
      "1190\n",
      "1195\n",
      "1205\n",
      "1210\n",
      "1220\n",
      "1225\n",
      "1235\n",
      "1240\n",
      "1250\n",
      "1255\n",
      "1265\n",
      "1270\n",
      "1280\n",
      "1285\n",
      "1295\n",
      "1300\n",
      "1310\n",
      "1315\n",
      "1325\n",
      "1330\n",
      "1340\n",
      "1345\n",
      "1355\n",
      "1360\n",
      "1370\n",
      "1375\n",
      "1385\n",
      "1390\n",
      "1400\n",
      "1405\n",
      "1415\n",
      "1420\n",
      "1430\n",
      "1435\n",
      "1445\n",
      "1450\n",
      "1460\n",
      "1465\n",
      "1475\n",
      "1480\n",
      "1490\n",
      "1495\n",
      "1505\n",
      "1510\n",
      "1520\n",
      "1525\n",
      "1535\n",
      "1540\n",
      "1550\n",
      "1555\n",
      "1565\n",
      "1570\n",
      "1580\n",
      "1585\n",
      "1595\n",
      "1600\n",
      "1610\n",
      "1615\n",
      "1625\n",
      "1630\n",
      "1640\n",
      "1645\n",
      "1655\n",
      "1660\n",
      "1670\n",
      "1675\n",
      "1685\n",
      "1690\n",
      "1700\n",
      "1705\n",
      "1715\n",
      "1720\n",
      "1730\n",
      "1735\n",
      "1745\n",
      "1750\n",
      "1760\n",
      "1765\n",
      "1775\n",
      "1780\n",
      "1790\n",
      "1795\n",
      "1805\n",
      "1810\n",
      "1820\n",
      "1825\n",
      "1835\n",
      "1840\n",
      "1850\n",
      "1855\n",
      "1865\n",
      "1870\n",
      "1880\n",
      "1885\n",
      "1895\n",
      "1900\n",
      "1910\n",
      "1915\n",
      "1925\n",
      "1930\n",
      "1940\n",
      "1945\n",
      "1955\n",
      "1960\n",
      "1970\n",
      "1975\n",
      "1985\n",
      "1990\n"
     ]
    }
   ],
   "source": [
    "for i in range(1000,2000,5):\n",
    "    if (i % 15 != 0):\n",
    "        print(i)"
   ]
  },
  {
   "cell_type": "code",
   "execution_count": 52,
   "id": "37d36704",
   "metadata": {},
   "outputs": [
    {
     "data": {
      "text/plain": [
       "array([1000, 1010, 1015, 1025, 1030, 1040, 1045, 1055, 1060, 1070, 1075,\n",
       "       1085, 1090, 1100, 1105, 1115, 1120, 1130, 1135, 1145, 1150, 1160,\n",
       "       1165, 1175, 1180, 1190, 1195, 1205, 1210, 1220, 1225, 1235, 1240,\n",
       "       1250, 1255, 1265, 1270, 1280, 1285, 1295, 1300, 1310, 1315, 1325,\n",
       "       1330, 1340, 1345, 1355, 1360, 1370, 1375, 1385, 1390, 1400, 1405,\n",
       "       1415, 1420, 1430, 1435, 1445, 1450, 1460, 1465, 1475, 1480, 1490,\n",
       "       1495, 1505, 1510, 1520, 1525, 1535, 1540, 1550, 1555, 1565, 1570,\n",
       "       1580, 1585, 1595, 1600, 1610, 1615, 1625, 1630, 1640, 1645, 1655,\n",
       "       1660, 1670, 1675, 1685, 1690, 1700, 1705, 1715, 1720, 1730, 1735,\n",
       "       1745, 1750, 1760, 1765, 1775, 1780, 1790, 1795, 1805, 1810, 1820,\n",
       "       1825, 1835, 1840, 1850, 1855, 1865, 1870, 1880, 1885, 1895, 1900,\n",
       "       1910, 1915, 1925, 1930, 1940, 1945, 1955, 1960, 1970, 1975, 1985,\n",
       "       1990])"
      ]
     },
     "execution_count": 52,
     "metadata": {},
     "output_type": "execute_result"
    }
   ],
   "source": [
    "arr = np.arange(1000,2000,5)\n",
    "arr[arr % 15!=0]"
   ]
  },
  {
   "cell_type": "markdown",
   "id": "8d130e39",
   "metadata": {},
   "source": [
    "### Write a function which caliculate \"std\" of 1_d array result within built infunction  : defcal_std(arr)"
   ]
  },
  {
   "cell_type": "code",
   "execution_count": 53,
   "id": "5095ccb0",
   "metadata": {},
   "outputs": [
    {
     "data": {
      "text/plain": [
       "array([ 1.61142047e+01,  1.15969637e+00, -3.05941434e+00,  2.73758647e+00,\n",
       "       -5.53700515e-01, -5.87477572e+00,  1.91187920e+01,  2.43479225e+00,\n",
       "       -1.33234114e+01,  1.55432122e+01,  1.07882431e+01,  4.87131843e+00,\n",
       "       -2.49591848e+01, -2.09354656e+01, -3.46939293e+00,  8.82004795e+00,\n",
       "        4.10912170e+00,  9.10102496e+00, -1.22659771e+01, -7.92480256e+00,\n",
       "       -4.48167973e+00, -2.79465662e+00, -3.47709894e+00,  1.34834202e+01,\n",
       "        2.26563319e+00,  2.08974199e+01,  4.20998849e+00,  1.15792039e+01,\n",
       "       -2.75736023e+00, -3.39814489e+00,  1.92561086e+01, -8.48099051e+00,\n",
       "       -8.25319911e-01,  6.01376761e+00, -1.23210748e+01, -7.23890522e-02,\n",
       "        1.41946383e+00,  2.08727155e+01,  7.98838274e+00, -9.52729268e+00,\n",
       "       -1.21135822e+00, -1.88382133e+00,  5.04794000e+00,  1.40810801e+01,\n",
       "        2.66706899e+01, -2.18959601e+01, -1.03928222e+01,  2.76180308e+00,\n",
       "       -5.06428315e+00, -4.68278485e+00, -6.11041972e+00, -1.92343196e+00,\n",
       "        8.21078397e+00,  4.89672439e+00, -8.32063110e+00, -1.45127877e+01,\n",
       "       -1.08647157e-02,  1.82585722e+01,  8.23070777e+00,  5.67286350e+00,\n",
       "        3.35135695e+00,  1.97223750e+01,  1.08901458e+01, -6.96554693e+00,\n",
       "        1.87199211e+01,  1.13781104e+00,  2.64603500e+00,  1.83901819e+00,\n",
       "        4.60682294e+00, -9.56365545e+00, -6.40332941e+00,  3.18709071e+00,\n",
       "       -4.10269117e+00, -2.85761603e+00, -4.07613884e+00, -9.34314502e+00,\n",
       "        1.40673948e+01, -6.36266231e-01,  2.18146081e+01, -8.29251635e+00,\n",
       "        2.02021384e+00,  7.51030012e-01, -7.30140984e+00,  1.33494154e+01,\n",
       "        4.87155473e+00, -4.51074728e+00, -8.16362694e-01, -1.10831020e+01,\n",
       "       -2.17814912e+00, -7.01179406e+00,  1.04601728e+01, -6.56205741e+00,\n",
       "       -7.36839680e+00,  8.09231128e+00,  5.22008318e+00,  4.21471391e+00,\n",
       "       -2.90962192e-01, -1.38924826e+01,  1.54041278e+01,  1.04071303e+01])"
      ]
     },
     "execution_count": 53,
     "metadata": {},
     "output_type": "execute_result"
    }
   ],
   "source": [
    "x = np.random.normal(0,10,100);\n",
    "x"
   ]
  },
  {
   "cell_type": "code",
   "execution_count": 54,
   "id": "ee9dbf6d",
   "metadata": {},
   "outputs": [
    {
     "data": {
      "text/plain": [
       "10.132343975599792"
      ]
     },
     "execution_count": 54,
     "metadata": {},
     "output_type": "execute_result"
    }
   ],
   "source": [
    "np.std(x)"
   ]
  },
  {
   "cell_type": "code",
   "execution_count": 55,
   "id": "d52b95ab",
   "metadata": {},
   "outputs": [],
   "source": [
    "# Numpy formate new function\n",
    "def cal_std(arr):\n",
    "    mean = np.mean(x)\n",
    "    diff = x-mean  # diff = define new value\n",
    "    square = np.sum(np.power(diff,2))/len(x) # 0.5 is the exponent\n",
    "    root = np.power(square,0.5)\n",
    "    return root"
   ]
  },
  {
   "cell_type": "code",
   "execution_count": 56,
   "id": "0c0005dc",
   "metadata": {},
   "outputs": [
    {
     "data": {
      "text/plain": [
       "10.132343975599792"
      ]
     },
     "execution_count": 56,
     "metadata": {},
     "output_type": "execute_result"
    }
   ],
   "source": [
    "cal_std(x)"
   ]
  },
  {
   "cell_type": "code",
   "execution_count": null,
   "id": "4245b2a5",
   "metadata": {},
   "outputs": [],
   "source": []
  }
 ],
 "metadata": {
  "kernelspec": {
   "display_name": "Python 3",
   "language": "python",
   "name": "python3"
  },
  "language_info": {
   "codemirror_mode": {
    "name": "ipython",
    "version": 3
   },
   "file_extension": ".py",
   "mimetype": "text/x-python",
   "name": "python",
   "nbconvert_exporter": "python",
   "pygments_lexer": "ipython3",
   "version": "3.8.8"
  }
 },
 "nbformat": 4,
 "nbformat_minor": 5
}

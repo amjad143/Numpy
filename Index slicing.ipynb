{
 "cells": [
  {
   "cell_type": "markdown",
   "id": "86508f27",
   "metadata": {},
   "source": [
    "# Indexing & Slicing"
   ]
  },
  {
   "cell_type": "markdown",
   "id": "3eb4dc12",
   "metadata": {},
   "source": [
    "# 1- dimensional"
   ]
  },
  {
   "cell_type": "code",
   "execution_count": 1,
   "id": "c30e9449",
   "metadata": {},
   "outputs": [],
   "source": [
    "import numpy as np"
   ]
  },
  {
   "cell_type": "code",
   "execution_count": 2,
   "id": "ebed1777",
   "metadata": {},
   "outputs": [],
   "source": [
    "a = np.arange(5,20)"
   ]
  },
  {
   "cell_type": "code",
   "execution_count": 3,
   "id": "40db5695",
   "metadata": {},
   "outputs": [
    {
     "data": {
      "text/plain": [
       "array([ 5,  6,  7,  8,  9, 10, 11, 12, 13, 14, 15, 16, 17, 18, 19])"
      ]
     },
     "execution_count": 3,
     "metadata": {},
     "output_type": "execute_result"
    }
   ],
   "source": [
    "a"
   ]
  },
  {
   "cell_type": "markdown",
   "id": "15be7a42",
   "metadata": {},
   "source": [
    "# Selecting particular cell in 1_d"
   ]
  },
  {
   "cell_type": "code",
   "execution_count": 4,
   "id": "12994f66",
   "metadata": {},
   "outputs": [
    {
     "data": {
      "text/plain": [
       "5"
      ]
     },
     "execution_count": 4,
     "metadata": {},
     "output_type": "execute_result"
    }
   ],
   "source": [
    "a[0]"
   ]
  },
  {
   "cell_type": "code",
   "execution_count": 5,
   "id": "fbc370cd",
   "metadata": {},
   "outputs": [
    {
     "data": {
      "text/plain": [
       "15"
      ]
     },
     "execution_count": 5,
     "metadata": {},
     "output_type": "execute_result"
    }
   ],
   "source": [
    "a[10]"
   ]
  },
  {
   "cell_type": "code",
   "execution_count": 6,
   "id": "e0cfc01e",
   "metadata": {},
   "outputs": [
    {
     "data": {
      "text/plain": [
       "array([ 8,  9, 10, 11, 12, 13, 14, 15, 16, 17, 18, 19])"
      ]
     },
     "execution_count": 6,
     "metadata": {},
     "output_type": "execute_result"
    }
   ],
   "source": [
    "a[3:] #from 3rd column to print entire values"
   ]
  },
  {
   "cell_type": "code",
   "execution_count": 7,
   "id": "e9074dad",
   "metadata": {},
   "outputs": [
    {
     "data": {
      "text/plain": [
       "array([12, 13])"
      ]
     },
     "execution_count": 7,
     "metadata": {},
     "output_type": "execute_result"
    }
   ],
   "source": [
    "a[7:9] # to print particular range"
   ]
  },
  {
   "cell_type": "code",
   "execution_count": 8,
   "id": "8db8f4ee",
   "metadata": {},
   "outputs": [
    {
     "data": {
      "text/plain": [
       "array([ 5,  6,  7,  8,  9, 10, 11, 12, 13, 14, 15, 16, 17, 18, 19])"
      ]
     },
     "execution_count": 8,
     "metadata": {},
     "output_type": "execute_result"
    }
   ],
   "source": [
    "a[:]  # to print entire column"
   ]
  },
  {
   "cell_type": "code",
   "execution_count": 9,
   "id": "b1467b0d",
   "metadata": {},
   "outputs": [
    {
     "data": {
      "text/plain": [
       "19"
      ]
     },
     "execution_count": 9,
     "metadata": {},
     "output_type": "execute_result"
    }
   ],
   "source": [
    "a[-1] #to select from reverse"
   ]
  },
  {
   "cell_type": "code",
   "execution_count": 10,
   "id": "889a02f8",
   "metadata": {},
   "outputs": [
    {
     "data": {
      "text/plain": [
       "array([17, 18, 19])"
      ]
     },
     "execution_count": 10,
     "metadata": {},
     "output_type": "execute_result"
    }
   ],
   "source": [
    "a[-3:]"
   ]
  },
  {
   "cell_type": "code",
   "execution_count": 11,
   "id": "88ef57dd",
   "metadata": {},
   "outputs": [
    {
     "data": {
      "text/plain": [
       "array([11, 12, 13, 14])"
      ]
     },
     "execution_count": 11,
     "metadata": {},
     "output_type": "execute_result"
    }
   ],
   "source": [
    "a[-9:-5]  #to print particular range from reverse\n",
    "          # a[-end : -start]"
   ]
  },
  {
   "cell_type": "code",
   "execution_count": 12,
   "id": "5fcc6941",
   "metadata": {},
   "outputs": [
    {
     "data": {
      "text/plain": [
       "array([10, 11, 12, 13, 14, 15])"
      ]
     },
     "execution_count": 12,
     "metadata": {},
     "output_type": "execute_result"
    }
   ],
   "source": [
    "a[-10:-4]"
   ]
  },
  {
   "cell_type": "code",
   "execution_count": 13,
   "id": "0839c3d3",
   "metadata": {},
   "outputs": [
    {
     "data": {
      "text/plain": [
       "array([ 5,  6,  7,  8,  9, 10, 11, 12, 13, 14, 15, 16, 17, 18, 19])"
      ]
     },
     "execution_count": 13,
     "metadata": {},
     "output_type": "execute_result"
    }
   ],
   "source": [
    "a"
   ]
  },
  {
   "cell_type": "code",
   "execution_count": 14,
   "id": "4d36cac0",
   "metadata": {},
   "outputs": [],
   "source": [
    "# to dselect particular number from single indexing?"
   ]
  },
  {
   "cell_type": "markdown",
   "id": "31d3a61b",
   "metadata": {},
   "source": [
    "***"
   ]
  },
  {
   "cell_type": "markdown",
   "id": "a5289923",
   "metadata": {},
   "source": [
    "# 2_d indexing"
   ]
  },
  {
   "cell_type": "code",
   "execution_count": 15,
   "id": "eef38412",
   "metadata": {},
   "outputs": [
    {
     "data": {
      "text/plain": [
       "array([50, 51, 52, 53, 54, 55, 56, 57, 58, 59, 60, 61, 62, 63, 64, 65, 66,\n",
       "       67, 68, 69, 70, 71, 72, 73, 74])"
      ]
     },
     "execution_count": 15,
     "metadata": {},
     "output_type": "execute_result"
    }
   ],
   "source": [
    "np.arange(50,75)"
   ]
  },
  {
   "cell_type": "code",
   "execution_count": 16,
   "id": "06e183f4",
   "metadata": {},
   "outputs": [
    {
     "data": {
      "text/plain": [
       "array([[50, 51, 52, 53, 54],\n",
       "       [55, 56, 57, 58, 59],\n",
       "       [60, 61, 62, 63, 64],\n",
       "       [65, 66, 67, 68, 69],\n",
       "       [70, 71, 72, 73, 74]])"
      ]
     },
     "execution_count": 16,
     "metadata": {},
     "output_type": "execute_result"
    }
   ],
   "source": [
    "np.arange(50,75).reshape(5,5)"
   ]
  },
  {
   "cell_type": "code",
   "execution_count": 17,
   "id": "1a712734",
   "metadata": {},
   "outputs": [],
   "source": [
    "b = np.arange(50,75).reshape(5,5)"
   ]
  },
  {
   "cell_type": "markdown",
   "id": "6382c4f9",
   "metadata": {},
   "source": [
    "### row_displaying"
   ]
  },
  {
   "cell_type": "code",
   "execution_count": 18,
   "id": "d54d4cbe",
   "metadata": {},
   "outputs": [
    {
     "data": {
      "text/plain": [
       "array([50, 51, 52, 53, 54])"
      ]
     },
     "execution_count": 18,
     "metadata": {},
     "output_type": "execute_result"
    }
   ],
   "source": [
    "b[0]"
   ]
  },
  {
   "cell_type": "code",
   "execution_count": 19,
   "id": "a1ed34b2",
   "metadata": {},
   "outputs": [
    {
     "data": {
      "text/plain": [
       "array([[50, 51, 52, 53, 54],\n",
       "       [55, 56, 57, 58, 59],\n",
       "       [60, 61, 62, 63, 64]])"
      ]
     },
     "execution_count": 19,
     "metadata": {},
     "output_type": "execute_result"
    }
   ],
   "source": [
    "b[0:3] "
   ]
  },
  {
   "cell_type": "code",
   "execution_count": 20,
   "id": "d6281811",
   "metadata": {},
   "outputs": [
    {
     "data": {
      "text/plain": [
       "array([[65, 66, 67, 68, 69]])"
      ]
     },
     "execution_count": 20,
     "metadata": {},
     "output_type": "execute_result"
    }
   ],
   "source": [
    "b[3:4] #selecting particular row"
   ]
  },
  {
   "cell_type": "code",
   "execution_count": 21,
   "id": "f756caaf",
   "metadata": {},
   "outputs": [
    {
     "data": {
      "text/plain": [
       "array([[50, 51, 52, 53, 54]])"
      ]
     },
     "execution_count": 21,
     "metadata": {},
     "output_type": "execute_result"
    }
   ],
   "source": [
    "b[:1]"
   ]
  },
  {
   "cell_type": "code",
   "execution_count": 22,
   "id": "6dfacecc",
   "metadata": {},
   "outputs": [
    {
     "data": {
      "text/plain": [
       "array([[50, 51, 52, 53, 54],\n",
       "       [55, 56, 57, 58, 59],\n",
       "       [60, 61, 62, 63, 64]])"
      ]
     },
     "execution_count": 22,
     "metadata": {},
     "output_type": "execute_result"
    }
   ],
   "source": [
    "b[:3]"
   ]
  },
  {
   "cell_type": "markdown",
   "id": "d4c232ce",
   "metadata": {},
   "source": [
    "### Column indexing"
   ]
  },
  {
   "cell_type": "code",
   "execution_count": 23,
   "id": "ffd0bb6e",
   "metadata": {},
   "outputs": [
    {
     "data": {
      "text/plain": [
       "array([[50, 51, 52, 53, 54],\n",
       "       [55, 56, 57, 58, 59],\n",
       "       [60, 61, 62, 63, 64],\n",
       "       [65, 66, 67, 68, 69],\n",
       "       [70, 71, 72, 73, 74]])"
      ]
     },
     "execution_count": 23,
     "metadata": {},
     "output_type": "execute_result"
    }
   ],
   "source": [
    "b"
   ]
  },
  {
   "cell_type": "code",
   "execution_count": 24,
   "id": "4ab3af75",
   "metadata": {},
   "outputs": [
    {
     "data": {
      "text/plain": [
       "array([50, 55, 60, 65, 70])"
      ]
     },
     "execution_count": 24,
     "metadata": {},
     "output_type": "execute_result"
    }
   ],
   "source": [
    "b[:,0] # \":\" start to end"
   ]
  },
  {
   "cell_type": "code",
   "execution_count": 25,
   "id": "e068b91e",
   "metadata": {},
   "outputs": [
    {
     "data": {
      "text/plain": [
       "array([53, 58, 63, 68, 73])"
      ]
     },
     "execution_count": 25,
     "metadata": {},
     "output_type": "execute_result"
    }
   ],
   "source": [
    "b[:,3]"
   ]
  },
  {
   "cell_type": "code",
   "execution_count": 26,
   "id": "d6ee7107",
   "metadata": {},
   "outputs": [
    {
     "data": {
      "text/plain": [
       "array([[50, 51, 52],\n",
       "       [55, 56, 57],\n",
       "       [60, 61, 62],\n",
       "       [65, 66, 67],\n",
       "       [70, 71, 72]])"
      ]
     },
     "execution_count": 26,
     "metadata": {},
     "output_type": "execute_result"
    }
   ],
   "source": [
    "b[:,0:3] # to select from a particular start to particular end"
   ]
  },
  {
   "cell_type": "code",
   "execution_count": 27,
   "id": "c3c40ef2",
   "metadata": {},
   "outputs": [
    {
     "data": {
      "text/plain": [
       "array([[52, 53],\n",
       "       [57, 58],\n",
       "       [62, 63],\n",
       "       [67, 68],\n",
       "       [72, 73]])"
      ]
     },
     "execution_count": 27,
     "metadata": {},
     "output_type": "execute_result"
    }
   ],
   "source": [
    "b[:,2:4]"
   ]
  },
  {
   "cell_type": "markdown",
   "id": "33c1d110",
   "metadata": {},
   "source": [
    "### Selecting from particular rows and columns"
   ]
  },
  {
   "cell_type": "code",
   "execution_count": 28,
   "id": "bad81366",
   "metadata": {},
   "outputs": [
    {
     "data": {
      "text/plain": [
       "array([[50, 51, 52, 53, 54],\n",
       "       [55, 56, 57, 58, 59],\n",
       "       [60, 61, 62, 63, 64],\n",
       "       [65, 66, 67, 68, 69],\n",
       "       [70, 71, 72, 73, 74]])"
      ]
     },
     "execution_count": 28,
     "metadata": {},
     "output_type": "execute_result"
    }
   ],
   "source": [
    "b"
   ]
  },
  {
   "cell_type": "code",
   "execution_count": 29,
   "id": "0d7f8936",
   "metadata": {},
   "outputs": [
    {
     "data": {
      "text/plain": [
       "array([[56, 57],\n",
       "       [61, 62]])"
      ]
     },
     "execution_count": 29,
     "metadata": {},
     "output_type": "execute_result"
    }
   ],
   "source": [
    "b[1:3,1:3] #b[row_1 start : row_2 end , column_1 start : column_2 end]"
   ]
  },
  {
   "cell_type": "code",
   "execution_count": 30,
   "id": "873cee80",
   "metadata": {},
   "outputs": [
    {
     "data": {
      "text/plain": [
       "array([[63, 64],\n",
       "       [68, 69]])"
      ]
     },
     "execution_count": 30,
     "metadata": {},
     "output_type": "execute_result"
    }
   ],
   "source": [
    "b[2:4,3:] "
   ]
  },
  {
   "cell_type": "code",
   "execution_count": 31,
   "id": "a1121379",
   "metadata": {},
   "outputs": [
    {
     "data": {
      "text/plain": [
       "array([[67, 68],\n",
       "       [72, 73]])"
      ]
     },
     "execution_count": 31,
     "metadata": {},
     "output_type": "execute_result"
    }
   ],
   "source": [
    "b[3:,2:4]"
   ]
  },
  {
   "cell_type": "code",
   "execution_count": 32,
   "id": "4dfd767d",
   "metadata": {},
   "outputs": [
    {
     "data": {
      "text/plain": [
       "array([[53, 54],\n",
       "       [58, 59]])"
      ]
     },
     "execution_count": 32,
     "metadata": {},
     "output_type": "execute_result"
    }
   ],
   "source": [
    "b[:2,3:]"
   ]
  },
  {
   "cell_type": "code",
   "execution_count": 33,
   "id": "2ecbdbf5",
   "metadata": {},
   "outputs": [
    {
     "data": {
      "text/plain": [
       "55"
      ]
     },
     "execution_count": 33,
     "metadata": {},
     "output_type": "execute_result"
    }
   ],
   "source": [
    "b[1,0] # to select \"55\" b[row : column]"
   ]
  },
  {
   "cell_type": "code",
   "execution_count": 34,
   "id": "0dc12275",
   "metadata": {},
   "outputs": [
    {
     "data": {
      "text/plain": [
       "array([[50, 51, 52, 53, 54],\n",
       "       [55, 56, 57, 58, 59],\n",
       "       [60, 61, 62, 63, 64],\n",
       "       [65, 66, 67, 68, 69],\n",
       "       [70, 71, 72, 73, 74]])"
      ]
     },
     "execution_count": 34,
     "metadata": {},
     "output_type": "execute_result"
    }
   ],
   "source": [
    "b"
   ]
  },
  {
   "cell_type": "code",
   "execution_count": 35,
   "id": "261da5a6",
   "metadata": {},
   "outputs": [
    {
     "data": {
      "text/plain": [
       "array([68])"
      ]
     },
     "execution_count": 35,
     "metadata": {},
     "output_type": "execute_result"
    }
   ],
   "source": [
    "b[3,3:4]  # to select '68' b[row,column_1 start : column_2 end]"
   ]
  },
  {
   "cell_type": "code",
   "execution_count": 36,
   "id": "0dda1da0",
   "metadata": {},
   "outputs": [
    {
     "data": {
      "text/plain": [
       "74"
      ]
     },
     "execution_count": 36,
     "metadata": {},
     "output_type": "execute_result"
    }
   ],
   "source": [
    "b[4,4]"
   ]
  },
  {
   "cell_type": "code",
   "execution_count": 37,
   "id": "bacef5a5",
   "metadata": {},
   "outputs": [
    {
     "data": {
      "text/plain": [
       "array([[63],\n",
       "       [68]])"
      ]
     },
     "execution_count": 37,
     "metadata": {},
     "output_type": "execute_result"
    }
   ],
   "source": [
    "b[2:4,3:4]"
   ]
  },
  {
   "cell_type": "code",
   "execution_count": 38,
   "id": "d902fc26",
   "metadata": {},
   "outputs": [
    {
     "data": {
      "text/plain": [
       "array([70, 71])"
      ]
     },
     "execution_count": 38,
     "metadata": {},
     "output_type": "execute_result"
    }
   ],
   "source": [
    "b[4,0:2]"
   ]
  },
  {
   "cell_type": "code",
   "execution_count": 39,
   "id": "c014bd70",
   "metadata": {},
   "outputs": [
    {
     "data": {
      "text/plain": [
       "array([62, 63])"
      ]
     },
     "execution_count": 39,
     "metadata": {},
     "output_type": "execute_result"
    }
   ],
   "source": [
    "b[2,2:4]"
   ]
  },
  {
   "cell_type": "markdown",
   "id": "cc6355f0",
   "metadata": {},
   "source": [
    "***"
   ]
  },
  {
   "cell_type": "markdown",
   "id": "adc4c217",
   "metadata": {},
   "source": [
    "## To select multiple rows"
   ]
  },
  {
   "cell_type": "code",
   "execution_count": 40,
   "id": "359260c4",
   "metadata": {},
   "outputs": [
    {
     "data": {
      "text/plain": [
       "array([[50, 51, 52, 53, 54],\n",
       "       [55, 56, 57, 58, 59],\n",
       "       [60, 61, 62, 63, 64],\n",
       "       [65, 66, 67, 68, 69],\n",
       "       [70, 71, 72, 73, 74]])"
      ]
     },
     "execution_count": 40,
     "metadata": {},
     "output_type": "execute_result"
    }
   ],
   "source": [
    "b"
   ]
  },
  {
   "cell_type": "code",
   "execution_count": 41,
   "id": "e3474446",
   "metadata": {},
   "outputs": [
    {
     "data": {
      "text/plain": [
       "array([50, 51, 52, 53, 54])"
      ]
     },
     "execution_count": 41,
     "metadata": {},
     "output_type": "execute_result"
    }
   ],
   "source": [
    "b[0] # to select single column we use single \"Braces\""
   ]
  },
  {
   "cell_type": "code",
   "execution_count": 42,
   "id": "f9a5edd1",
   "metadata": {},
   "outputs": [
    {
     "data": {
      "text/plain": [
       "array([[55, 56, 57, 58, 59],\n",
       "       [65, 66, 67, 68, 69]])"
      ]
     },
     "execution_count": 42,
     "metadata": {},
     "output_type": "execute_result"
    }
   ],
   "source": [
    "b[[1,3]] # to select multiple columns we use \"2_braces\""
   ]
  },
  {
   "cell_type": "code",
   "execution_count": 43,
   "id": "e60ac167",
   "metadata": {},
   "outputs": [
    {
     "data": {
      "text/plain": [
       "array([[50, 51, 52, 53, 54],\n",
       "       [70, 71, 72, 73, 74]])"
      ]
     },
     "execution_count": 43,
     "metadata": {},
     "output_type": "execute_result"
    }
   ],
   "source": [
    "b[[0,4]]"
   ]
  },
  {
   "cell_type": "markdown",
   "id": "228314df",
   "metadata": {},
   "source": [
    "### to select multile columns"
   ]
  },
  {
   "cell_type": "code",
   "execution_count": 44,
   "id": "b8c57403",
   "metadata": {},
   "outputs": [
    {
     "data": {
      "text/plain": [
       "array([[50, 51, 52, 53, 54],\n",
       "       [55, 56, 57, 58, 59],\n",
       "       [60, 61, 62, 63, 64],\n",
       "       [65, 66, 67, 68, 69],\n",
       "       [70, 71, 72, 73, 74]])"
      ]
     },
     "execution_count": 44,
     "metadata": {},
     "output_type": "execute_result"
    }
   ],
   "source": [
    "b[:]"
   ]
  },
  {
   "cell_type": "code",
   "execution_count": 45,
   "id": "4c60e003",
   "metadata": {},
   "outputs": [
    {
     "data": {
      "text/plain": [
       "array([50, 55, 60, 65, 70])"
      ]
     },
     "execution_count": 45,
     "metadata": {},
     "output_type": "execute_result"
    }
   ],
   "source": [
    "b[:,0]  # it displays in vertical"
   ]
  },
  {
   "cell_type": "code",
   "execution_count": 46,
   "id": "b1f274b9",
   "metadata": {},
   "outputs": [
    {
     "data": {
      "text/plain": [
       "array([[50],\n",
       "       [55],\n",
       "       [60],\n",
       "       [65],\n",
       "       [70]])"
      ]
     },
     "execution_count": 46,
     "metadata": {},
     "output_type": "execute_result"
    }
   ],
   "source": [
    "b[:,[0]]  # it displays in vertical"
   ]
  },
  {
   "cell_type": "code",
   "execution_count": 47,
   "id": "53d7c869",
   "metadata": {},
   "outputs": [
    {
     "data": {
      "text/plain": [
       "array([[50, 54],\n",
       "       [55, 59],\n",
       "       [60, 64],\n",
       "       [65, 69],\n",
       "       [70, 74]])"
      ]
     },
     "execution_count": 47,
     "metadata": {},
     "output_type": "execute_result"
    }
   ],
   "source": [
    "b[:,[0,4]]"
   ]
  },
  {
   "cell_type": "code",
   "execution_count": 48,
   "id": "a7e6d60d",
   "metadata": {},
   "outputs": [
    {
     "data": {
      "text/plain": [
       "array([[50, 51],\n",
       "       [55, 56],\n",
       "       [60, 61],\n",
       "       [65, 66],\n",
       "       [70, 71]])"
      ]
     },
     "execution_count": 48,
     "metadata": {},
     "output_type": "execute_result"
    }
   ],
   "source": [
    "b[:,0:2]"
   ]
  },
  {
   "cell_type": "code",
   "execution_count": 49,
   "id": "7bf7b185",
   "metadata": {},
   "outputs": [
    {
     "data": {
      "text/plain": [
       "array([[51, 53],\n",
       "       [56, 58],\n",
       "       [61, 63],\n",
       "       [66, 68],\n",
       "       [71, 73]])"
      ]
     },
     "execution_count": 49,
     "metadata": {},
     "output_type": "execute_result"
    }
   ],
   "source": [
    "b[:,[1,3]]"
   ]
  },
  {
   "cell_type": "code",
   "execution_count": 50,
   "id": "34002db7",
   "metadata": {},
   "outputs": [
    {
     "data": {
      "text/plain": [
       "array([[50, 51, 52, 53, 54],\n",
       "       [55, 56, 57, 58, 59],\n",
       "       [60, 61, 62, 63, 64],\n",
       "       [65, 66, 67, 68, 69],\n",
       "       [70, 71, 72, 73, 74]])"
      ]
     },
     "execution_count": 50,
     "metadata": {},
     "output_type": "execute_result"
    }
   ],
   "source": [
    "b"
   ]
  },
  {
   "cell_type": "code",
   "execution_count": 51,
   "id": "6c39b30d",
   "metadata": {},
   "outputs": [
    {
     "data": {
      "text/plain": [
       "array([[54, 51],\n",
       "       [59, 56],\n",
       "       [64, 61],\n",
       "       [69, 66],\n",
       "       [74, 71]])"
      ]
     },
     "execution_count": 51,
     "metadata": {},
     "output_type": "execute_result"
    }
   ],
   "source": [
    "b[:,[4,1]]"
   ]
  },
  {
   "cell_type": "code",
   "execution_count": 52,
   "id": "b5ec159c",
   "metadata": {},
   "outputs": [
    {
     "data": {
      "text/plain": [
       "array([57, 58, 59])"
      ]
     },
     "execution_count": 52,
     "metadata": {},
     "output_type": "execute_result"
    }
   ],
   "source": [
    "b[1,2:]"
   ]
  },
  {
   "cell_type": "code",
   "execution_count": 53,
   "id": "4679de5b",
   "metadata": {},
   "outputs": [
    {
     "data": {
      "text/plain": [
       "array([[57, 58],\n",
       "       [62, 63],\n",
       "       [67, 68]])"
      ]
     },
     "execution_count": 53,
     "metadata": {},
     "output_type": "execute_result"
    }
   ],
   "source": [
    "b[1:4,2:4]   #b[row_1 start : row_2 end ,column_1 start : column_2 end]"
   ]
  },
  {
   "cell_type": "code",
   "execution_count": 54,
   "id": "63b1befd",
   "metadata": {},
   "outputs": [
    {
     "data": {
      "text/plain": [
       "array([[57],\n",
       "       [62]])"
      ]
     },
     "execution_count": 54,
     "metadata": {},
     "output_type": "execute_result"
    }
   ],
   "source": [
    "b[1:3,2:3]"
   ]
  },
  {
   "cell_type": "code",
   "execution_count": 55,
   "id": "ecd670cf",
   "metadata": {},
   "outputs": [
    {
     "data": {
      "text/plain": [
       "array([[50, 51, 52, 53, 54],\n",
       "       [55, 56, 57, 58, 59],\n",
       "       [60, 61, 62, 63, 64],\n",
       "       [65, 66, 67, 68, 69],\n",
       "       [70, 71, 72, 73, 74]])"
      ]
     },
     "execution_count": 55,
     "metadata": {},
     "output_type": "execute_result"
    }
   ],
   "source": [
    "b"
   ]
  },
  {
   "cell_type": "code",
   "execution_count": 56,
   "id": "230d26fa",
   "metadata": {},
   "outputs": [],
   "source": [
    "c = b[:,[4,0]]"
   ]
  },
  {
   "cell_type": "code",
   "execution_count": 57,
   "id": "e2a6a626",
   "metadata": {},
   "outputs": [
    {
     "data": {
      "text/plain": [
       "array([[54, 50],\n",
       "       [59, 55],\n",
       "       [64, 60],\n",
       "       [69, 65],\n",
       "       [74, 70]])"
      ]
     },
     "execution_count": 57,
     "metadata": {},
     "output_type": "execute_result"
    }
   ],
   "source": [
    "c"
   ]
  },
  {
   "cell_type": "code",
   "execution_count": 58,
   "id": "93717d12",
   "metadata": {},
   "outputs": [
    {
     "data": {
      "text/plain": [
       "array([[64, 60],\n",
       "       [69, 65]])"
      ]
     },
     "execution_count": 58,
     "metadata": {},
     "output_type": "execute_result"
    }
   ],
   "source": [
    "c[2:4,:]"
   ]
  },
  {
   "cell_type": "code",
   "execution_count": 59,
   "id": "017c5ab4",
   "metadata": {},
   "outputs": [
    {
     "data": {
      "text/plain": [
       "array([[50, 51, 52, 53, 54],\n",
       "       [55, 56, 57, 58, 59],\n",
       "       [60, 61, 62, 63, 64],\n",
       "       [65, 66, 67, 68, 69],\n",
       "       [70, 71, 72, 73, 74]])"
      ]
     },
     "execution_count": 59,
     "metadata": {},
     "output_type": "execute_result"
    }
   ],
   "source": [
    "b"
   ]
  },
  {
   "cell_type": "code",
   "execution_count": 60,
   "id": "3ba86e59",
   "metadata": {},
   "outputs": [
    {
     "data": {
      "text/plain": [
       "array([[68]])"
      ]
     },
     "execution_count": 60,
     "metadata": {},
     "output_type": "execute_result"
    }
   ],
   "source": [
    "b[3:4,3:4]"
   ]
  },
  {
   "cell_type": "markdown",
   "id": "c738baeb",
   "metadata": {},
   "source": [
    "### selceting diffrent numbers from diffrent rows"
   ]
  },
  {
   "cell_type": "code",
   "execution_count": 61,
   "id": "92ae6ee8",
   "metadata": {},
   "outputs": [
    {
     "data": {
      "text/plain": [
       "array([[50, 51, 52, 53, 54],\n",
       "       [55, 56, 57, 58, 59],\n",
       "       [60, 61, 62, 63, 64],\n",
       "       [65, 66, 67, 68, 69],\n",
       "       [70, 71, 72, 73, 74]])"
      ]
     },
     "execution_count": 61,
     "metadata": {},
     "output_type": "execute_result"
    }
   ],
   "source": [
    "b"
   ]
  },
  {
   "cell_type": "code",
   "execution_count": 62,
   "id": "2e1f338b",
   "metadata": {},
   "outputs": [
    {
     "data": {
      "text/plain": [
       "array([[55, 56, 57, 58, 59],\n",
       "       [60, 61, 62, 63, 64]])"
      ]
     },
     "execution_count": 62,
     "metadata": {},
     "output_type": "execute_result"
    }
   ],
   "source": [
    "b[1:3]"
   ]
  },
  {
   "cell_type": "code",
   "execution_count": 63,
   "id": "0689d7d9",
   "metadata": {},
   "outputs": [
    {
     "data": {
      "text/plain": [
       "array([[57, 59],\n",
       "       [62, 64]])"
      ]
     },
     "execution_count": 63,
     "metadata": {},
     "output_type": "execute_result"
    }
   ],
   "source": [
    "b[1:3,[2,4]]"
   ]
  },
  {
   "cell_type": "code",
   "execution_count": 64,
   "id": "4fc00eee",
   "metadata": {},
   "outputs": [
    {
     "data": {
      "text/plain": [
       "array([[69, 66],\n",
       "       [74, 71]])"
      ]
     },
     "execution_count": 64,
     "metadata": {},
     "output_type": "execute_result"
    }
   ],
   "source": [
    "b[3:,[4,1]]"
   ]
  },
  {
   "cell_type": "code",
   "execution_count": 65,
   "id": "9bff9dc3",
   "metadata": {},
   "outputs": [
    {
     "data": {
      "text/plain": [
       "array([[58, 55],\n",
       "       [63, 60]])"
      ]
     },
     "execution_count": 65,
     "metadata": {},
     "output_type": "execute_result"
    }
   ],
   "source": [
    "b[1:3,[3,0]]  # b[row_1 : row_2,[column_1,column2]]"
   ]
  },
  {
   "cell_type": "code",
   "execution_count": 66,
   "id": "ba35f688",
   "metadata": {},
   "outputs": [
    {
     "data": {
      "text/plain": [
       "array([[69, 67, 65],\n",
       "       [74, 72, 70]])"
      ]
     },
     "execution_count": 66,
     "metadata": {},
     "output_type": "execute_result"
    }
   ],
   "source": [
    "b[3:,[4,2,0]]"
   ]
  },
  {
   "cell_type": "code",
   "execution_count": null,
   "id": "ca096b34",
   "metadata": {},
   "outputs": [],
   "source": []
  },
  {
   "cell_type": "markdown",
   "id": "2b7df87c",
   "metadata": {},
   "source": [
    "***"
   ]
  },
  {
   "cell_type": "markdown",
   "id": "7a511e40",
   "metadata": {},
   "source": [
    "# Bollen_Indexing"
   ]
  },
  {
   "cell_type": "code",
   "execution_count": 67,
   "id": "0727fbbd",
   "metadata": {},
   "outputs": [],
   "source": [
    "c = np.arange(5,20)"
   ]
  },
  {
   "cell_type": "code",
   "execution_count": 68,
   "id": "5973a401",
   "metadata": {},
   "outputs": [
    {
     "data": {
      "text/plain": [
       "array([ 5,  6,  7,  8,  9, 10, 11, 12, 13, 14, 15, 16, 17, 18, 19])"
      ]
     },
     "execution_count": 68,
     "metadata": {},
     "output_type": "execute_result"
    }
   ],
   "source": [
    "c"
   ]
  },
  {
   "cell_type": "code",
   "execution_count": 69,
   "id": "3f82a996",
   "metadata": {},
   "outputs": [
    {
     "data": {
      "text/plain": [
       "array([False, False, False, False, False, False,  True,  True,  True,\n",
       "        True,  True,  True,  True,  True,  True])"
      ]
     },
     "execution_count": 69,
     "metadata": {},
     "output_type": "execute_result"
    }
   ],
   "source": [
    "c>10"
   ]
  },
  {
   "cell_type": "code",
   "execution_count": 70,
   "id": "478a0840",
   "metadata": {},
   "outputs": [],
   "source": [
    "amj = c>10 # to store in a variable it display values"
   ]
  },
  {
   "cell_type": "code",
   "execution_count": 71,
   "id": "a807d872",
   "metadata": {},
   "outputs": [
    {
     "data": {
      "text/plain": [
       "array([11, 12, 13, 14, 15, 16, 17, 18, 19])"
      ]
     },
     "execution_count": 71,
     "metadata": {},
     "output_type": "execute_result"
    }
   ],
   "source": [
    "c[amj]"
   ]
  },
  {
   "cell_type": "code",
   "execution_count": 72,
   "id": "3b275fb1",
   "metadata": {},
   "outputs": [
    {
     "data": {
      "text/plain": [
       "array([ True, False, False, False, False, False, False, False, False,\n",
       "       False, False, False, False, False, False])"
      ]
     },
     "execution_count": 72,
     "metadata": {},
     "output_type": "execute_result"
    }
   ],
   "source": [
    "c==5"
   ]
  },
  {
   "cell_type": "code",
   "execution_count": 73,
   "id": "1d89da16",
   "metadata": {},
   "outputs": [
    {
     "data": {
      "text/plain": [
       "array([5])"
      ]
     },
     "execution_count": 73,
     "metadata": {},
     "output_type": "execute_result"
    }
   ],
   "source": [
    "c[c==5]"
   ]
  },
  {
   "cell_type": "markdown",
   "id": "45175cce",
   "metadata": {},
   "source": [
    "***"
   ]
  },
  {
   "cell_type": "markdown",
   "id": "6a99a97f",
   "metadata": {},
   "source": [
    "# Data Types"
   ]
  },
  {
   "cell_type": "code",
   "execution_count": 74,
   "id": "c9d116e7",
   "metadata": {},
   "outputs": [],
   "source": [
    "list = [1,2,3]"
   ]
  },
  {
   "cell_type": "code",
   "execution_count": 75,
   "id": "3f1c2b93",
   "metadata": {},
   "outputs": [
    {
     "data": {
      "text/plain": [
       "[1, 2, 3]"
      ]
     },
     "execution_count": 75,
     "metadata": {},
     "output_type": "execute_result"
    }
   ],
   "source": [
    "list"
   ]
  },
  {
   "cell_type": "code",
   "execution_count": 76,
   "id": "391fb806",
   "metadata": {},
   "outputs": [],
   "source": [
    "d_1 = np.array(list)"
   ]
  },
  {
   "cell_type": "code",
   "execution_count": 77,
   "id": "9573d609",
   "metadata": {},
   "outputs": [
    {
     "data": {
      "text/plain": [
       "array([1, 2, 3])"
      ]
     },
     "execution_count": 77,
     "metadata": {},
     "output_type": "execute_result"
    }
   ],
   "source": [
    "d_1"
   ]
  },
  {
   "cell_type": "code",
   "execution_count": 78,
   "id": "8b02d9e0",
   "metadata": {},
   "outputs": [
    {
     "data": {
      "text/plain": [
       "numpy.ndarray"
      ]
     },
     "execution_count": 78,
     "metadata": {},
     "output_type": "execute_result"
    }
   ],
   "source": [
    "type(d_1) # to check the data type"
   ]
  },
  {
   "cell_type": "markdown",
   "id": "e730e1a1",
   "metadata": {},
   "source": [
    "### 2d_array"
   ]
  },
  {
   "cell_type": "code",
   "execution_count": 79,
   "id": "2616f59a",
   "metadata": {},
   "outputs": [],
   "source": [
    "d_2 = np.array([[1,2,3],[4,5,6]])  #list within a list"
   ]
  },
  {
   "cell_type": "code",
   "execution_count": 80,
   "id": "81eab8c1",
   "metadata": {},
   "outputs": [
    {
     "data": {
      "text/plain": [
       "array([[1, 2, 3],\n",
       "       [4, 5, 6]])"
      ]
     },
     "execution_count": 80,
     "metadata": {},
     "output_type": "execute_result"
    }
   ],
   "source": [
    "d_2"
   ]
  },
  {
   "cell_type": "code",
   "execution_count": 81,
   "id": "412f7c3e",
   "metadata": {},
   "outputs": [
    {
     "data": {
      "text/plain": [
       "numpy.ndarray"
      ]
     },
     "execution_count": 81,
     "metadata": {},
     "output_type": "execute_result"
    }
   ],
   "source": [
    "type(d_2)"
   ]
  },
  {
   "cell_type": "code",
   "execution_count": 82,
   "id": "67e879b6",
   "metadata": {},
   "outputs": [],
   "source": [
    "d_3 = np.array([[1,2,3],[3,4,5],[6,7,8]])"
   ]
  },
  {
   "cell_type": "code",
   "execution_count": 83,
   "id": "03265349",
   "metadata": {},
   "outputs": [
    {
     "data": {
      "text/plain": [
       "array([[1, 2, 3],\n",
       "       [3, 4, 5],\n",
       "       [6, 7, 8]])"
      ]
     },
     "execution_count": 83,
     "metadata": {},
     "output_type": "execute_result"
    }
   ],
   "source": [
    "d_3"
   ]
  },
  {
   "cell_type": "code",
   "execution_count": 84,
   "id": "fd3d78d9",
   "metadata": {},
   "outputs": [
    {
     "data": {
      "text/plain": [
       "numpy.ndarray"
      ]
     },
     "execution_count": 84,
     "metadata": {},
     "output_type": "execute_result"
    }
   ],
   "source": [
    "type(d_3)"
   ]
  },
  {
   "cell_type": "markdown",
   "id": "754c4305",
   "metadata": {},
   "source": [
    "### Float"
   ]
  },
  {
   "cell_type": "code",
   "execution_count": 85,
   "id": "dcec9945",
   "metadata": {},
   "outputs": [
    {
     "data": {
      "text/plain": [
       "array([[ 1.,  2.,  3.],\n",
       "       [ 4.,  5., -6.]])"
      ]
     },
     "execution_count": 85,
     "metadata": {},
     "output_type": "execute_result"
    }
   ],
   "source": [
    "np.array([[1,2,3],[4,5,-6.0]])"
   ]
  },
  {
   "cell_type": "markdown",
   "id": "958ea3e5",
   "metadata": {},
   "source": [
    "***"
   ]
  },
  {
   "cell_type": "markdown",
   "id": "1b782caa",
   "metadata": {},
   "source": [
    "## Explicit Argument"
   ]
  },
  {
   "cell_type": "code",
   "execution_count": 86,
   "id": "a1ac6a63",
   "metadata": {},
   "outputs": [
    {
     "data": {
      "text/plain": [
       "array([[ 0.,  1.,  2.],\n",
       "       [-3.,  4.,  5.]])"
      ]
     },
     "execution_count": 86,
     "metadata": {},
     "output_type": "execute_result"
    }
   ],
   "source": [
    "np.array([[0,1,2],[-3,4,5]],dtype=np.float_)"
   ]
  },
  {
   "cell_type": "code",
   "execution_count": 87,
   "id": "3322d1b7",
   "metadata": {},
   "outputs": [
    {
     "data": {
      "text/plain": [
       "array([[ 0.+0.j,  1.+0.j,  2.+0.j],\n",
       "       [-3.+0.j,  4.+0.j,  5.+0.j]])"
      ]
     },
     "execution_count": 87,
     "metadata": {},
     "output_type": "execute_result"
    }
   ],
   "source": [
    "np.array([[0,1,2],[-3,4,5]],dtype=np.complex_)"
   ]
  },
  {
   "cell_type": "code",
   "execution_count": 88,
   "id": "7644b235",
   "metadata": {},
   "outputs": [
    {
     "data": {
      "text/plain": [
       "array([[False,  True,  True],\n",
       "       [ True,  True,  True]])"
      ]
     },
     "execution_count": 88,
     "metadata": {},
     "output_type": "execute_result"
    }
   ],
   "source": [
    "np.array([[0,1,2],[-3,4,5]],dtype=np.bool_)"
   ]
  },
  {
   "cell_type": "markdown",
   "id": "a1217ca5",
   "metadata": {},
   "source": [
    "### Non-homogenius element"
   ]
  },
  {
   "cell_type": "code",
   "execution_count": 89,
   "id": "7f6140cf",
   "metadata": {},
   "outputs": [
    {
     "data": {
      "text/plain": [
       "array(['amjad', 'True', '23', '6.6'], dtype='<U32')"
      ]
     },
     "execution_count": 89,
     "metadata": {},
     "output_type": "execute_result"
    }
   ],
   "source": [
    "np.array(['amjad',True,23,6.6])"
   ]
  },
  {
   "cell_type": "code",
   "execution_count": null,
   "id": "4c2d9b43",
   "metadata": {},
   "outputs": [],
   "source": []
  }
 ],
 "metadata": {
  "kernelspec": {
   "display_name": "Python 3",
   "language": "python",
   "name": "python3"
  },
  "language_info": {
   "codemirror_mode": {
    "name": "ipython",
    "version": 3
   },
   "file_extension": ".py",
   "mimetype": "text/x-python",
   "name": "python",
   "nbconvert_exporter": "python",
   "pygments_lexer": "ipython3",
   "version": "3.8.8"
  }
 },
 "nbformat": 4,
 "nbformat_minor": 5
}

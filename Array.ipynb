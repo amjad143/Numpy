{
 "cells": [
  {
   "cell_type": "markdown",
   "id": "7982645a",
   "metadata": {},
   "source": [
    "# Array_Manipulation"
   ]
  },
  {
   "cell_type": "code",
   "execution_count": 1,
   "id": "7c69b672",
   "metadata": {},
   "outputs": [],
   "source": [
    "import numpy as np"
   ]
  },
  {
   "cell_type": "code",
   "execution_count": 2,
   "id": "13e4081c",
   "metadata": {},
   "outputs": [
    {
     "name": "stdout",
     "output_type": "stream",
     "text": [
      "[1 2 3]\n"
     ]
    }
   ],
   "source": [
    "# 1_dimensional\n",
    "d_1 = np.array([1,2,3])\n",
    "print(d_1)"
   ]
  },
  {
   "cell_type": "code",
   "execution_count": 3,
   "id": "b0020570",
   "metadata": {},
   "outputs": [
    {
     "name": "stdout",
     "output_type": "stream",
     "text": [
      "[[1 2 3]\n",
      " [4 5 6]]\n"
     ]
    }
   ],
   "source": [
    "# 2_dimensional\n",
    "d_2 = np.array([[1,2,3],[4,5,6]])\n",
    "print(d_2)"
   ]
  },
  {
   "cell_type": "code",
   "execution_count": 4,
   "id": "bc4dcdbe",
   "metadata": {},
   "outputs": [
    {
     "name": "stdout",
     "output_type": "stream",
     "text": [
      "[[[1 2 3]\n",
      "  [4 5 6]\n",
      "  [7 8 9]]]\n"
     ]
    }
   ],
   "source": [
    "# 3_dimensional\n",
    "d_3 = np.array([[[1,2,3],[4,5,6],[7,8,9]]])\n",
    "print(d_3)"
   ]
  },
  {
   "cell_type": "markdown",
   "id": "15b8f3e8",
   "metadata": {},
   "source": [
    "### shape of the columns"
   ]
  },
  {
   "cell_type": "code",
   "execution_count": 5,
   "id": "6ee96df1",
   "metadata": {},
   "outputs": [
    {
     "data": {
      "text/plain": [
       "(3,)"
      ]
     },
     "execution_count": 5,
     "metadata": {},
     "output_type": "execute_result"
    }
   ],
   "source": [
    "d_1.shape #1_row,1_column"
   ]
  },
  {
   "cell_type": "code",
   "execution_count": 6,
   "id": "05d42578",
   "metadata": {},
   "outputs": [
    {
     "data": {
      "text/plain": [
       "(2, 3)"
      ]
     },
     "execution_count": 6,
     "metadata": {},
     "output_type": "execute_result"
    }
   ],
   "source": [
    "d_2.shape #2_row,3_column"
   ]
  },
  {
   "cell_type": "code",
   "execution_count": 7,
   "id": "bf1789c0",
   "metadata": {},
   "outputs": [
    {
     "data": {
      "text/plain": [
       "(1, 3, 3)"
      ]
     },
     "execution_count": 7,
     "metadata": {},
     "output_type": "execute_result"
    }
   ],
   "source": [
    "d_3.shape #hole value,3_rows,3_columns"
   ]
  },
  {
   "cell_type": "markdown",
   "id": "cfabbe03",
   "metadata": {},
   "source": [
    "### length of the functions"
   ]
  },
  {
   "cell_type": "code",
   "execution_count": 8,
   "id": "63a5c82a",
   "metadata": {},
   "outputs": [
    {
     "data": {
      "text/plain": [
       "1"
      ]
     },
     "execution_count": 8,
     "metadata": {},
     "output_type": "execute_result"
    }
   ],
   "source": [
    "len(d_1)\n",
    "len(d_2)\n",
    "len(d_3)"
   ]
  },
  {
   "cell_type": "markdown",
   "id": "4c7d39e0",
   "metadata": {},
   "source": [
    "### checking elements"
   ]
  },
  {
   "cell_type": "code",
   "execution_count": 9,
   "id": "656dedfb",
   "metadata": {},
   "outputs": [
    {
     "data": {
      "text/plain": [
       "3"
      ]
     },
     "execution_count": 9,
     "metadata": {},
     "output_type": "execute_result"
    }
   ],
   "source": [
    "d_1.size"
   ]
  },
  {
   "cell_type": "code",
   "execution_count": 10,
   "id": "82545b97",
   "metadata": {},
   "outputs": [
    {
     "data": {
      "text/plain": [
       "6"
      ]
     },
     "execution_count": 10,
     "metadata": {},
     "output_type": "execute_result"
    }
   ],
   "source": [
    "d_2.size"
   ]
  },
  {
   "cell_type": "code",
   "execution_count": 11,
   "id": "c9ebabbc",
   "metadata": {},
   "outputs": [
    {
     "data": {
      "text/plain": [
       "9"
      ]
     },
     "execution_count": 11,
     "metadata": {},
     "output_type": "execute_result"
    }
   ],
   "source": [
    "d_3.size"
   ]
  },
  {
   "cell_type": "markdown",
   "id": "813d4caa",
   "metadata": {},
   "source": [
    "### Data types"
   ]
  },
  {
   "cell_type": "code",
   "execution_count": 12,
   "id": "af7034fd",
   "metadata": {},
   "outputs": [
    {
     "data": {
      "text/plain": [
       "dtype('int32')"
      ]
     },
     "execution_count": 12,
     "metadata": {},
     "output_type": "execute_result"
    }
   ],
   "source": [
    "d_1.dtype"
   ]
  },
  {
   "cell_type": "code",
   "execution_count": 13,
   "id": "93276531",
   "metadata": {},
   "outputs": [
    {
     "data": {
      "text/plain": [
       "dtype('int32')"
      ]
     },
     "execution_count": 13,
     "metadata": {},
     "output_type": "execute_result"
    }
   ],
   "source": [
    "d_2.dtype"
   ]
  },
  {
   "cell_type": "code",
   "execution_count": 14,
   "id": "9fce8f30",
   "metadata": {},
   "outputs": [
    {
     "data": {
      "text/plain": [
       "dtype('int32')"
      ]
     },
     "execution_count": 14,
     "metadata": {},
     "output_type": "execute_result"
    }
   ],
   "source": [
    "d_3.dtype"
   ]
  },
  {
   "cell_type": "code",
   "execution_count": 15,
   "id": "9fba20b9",
   "metadata": {},
   "outputs": [
    {
     "data": {
      "text/plain": [
       "dtype('float64')"
      ]
     },
     "execution_count": 15,
     "metadata": {},
     "output_type": "execute_result"
    }
   ],
   "source": [
    "np.array([[1,2,3],[4,-5.0,6.6]]).dtype"
   ]
  },
  {
   "cell_type": "markdown",
   "id": "8b4d821e",
   "metadata": {},
   "source": [
    "### To check dimensionals"
   ]
  },
  {
   "cell_type": "code",
   "execution_count": 16,
   "id": "27e00599",
   "metadata": {},
   "outputs": [
    {
     "data": {
      "text/plain": [
       "1"
      ]
     },
     "execution_count": 16,
     "metadata": {},
     "output_type": "execute_result"
    }
   ],
   "source": [
    "d_1.ndim"
   ]
  },
  {
   "cell_type": "code",
   "execution_count": 17,
   "id": "3dc59ccb",
   "metadata": {},
   "outputs": [
    {
     "data": {
      "text/plain": [
       "2"
      ]
     },
     "execution_count": 17,
     "metadata": {},
     "output_type": "execute_result"
    }
   ],
   "source": [
    "d_2.ndim"
   ]
  },
  {
   "cell_type": "code",
   "execution_count": 18,
   "id": "5962f662",
   "metadata": {},
   "outputs": [
    {
     "data": {
      "text/plain": [
       "3"
      ]
     },
     "execution_count": 18,
     "metadata": {},
     "output_type": "execute_result"
    }
   ],
   "source": [
    "d_3.ndim"
   ]
  },
  {
   "cell_type": "code",
   "execution_count": 19,
   "id": "fe4d3652",
   "metadata": {},
   "outputs": [
    {
     "data": {
      "text/plain": [
       "(1, 2, 3)"
      ]
     },
     "execution_count": 19,
     "metadata": {},
     "output_type": "execute_result"
    }
   ],
   "source": [
    "d_1.ndim,d_2.ndim,d_3.ndim"
   ]
  },
  {
   "cell_type": "markdown",
   "id": "23cf0e93",
   "metadata": {},
   "source": [
    "### array manipulation"
   ]
  },
  {
   "cell_type": "code",
   "execution_count": 20,
   "id": "47e6c5f9",
   "metadata": {},
   "outputs": [
    {
     "data": {
      "text/plain": [
       "array([ 0,  1,  2,  3,  4,  5,  6,  7,  8,  9, 10, 11, 12, 13, 14, 15, 16,\n",
       "       17, 18, 19, 20, 21, 22, 23, 24, 25, 26, 27, 28, 29])"
      ]
     },
     "execution_count": 20,
     "metadata": {},
     "output_type": "execute_result"
    }
   ],
   "source": [
    "a = np.arange(30)\n",
    "a"
   ]
  },
  {
   "cell_type": "code",
   "execution_count": 21,
   "id": "483c52d0",
   "metadata": {},
   "outputs": [
    {
     "name": "stdout",
     "output_type": "stream",
     "text": [
      "[ 0  1  2  3  4  5  6  7  8  9 10 11 12 13 14 15 16 17 18 19 20 21 22 23\n",
      " 24 25 26 27 28 29]\n"
     ]
    }
   ],
   "source": [
    "print(a)"
   ]
  },
  {
   "cell_type": "code",
   "execution_count": 22,
   "id": "f59b7e24",
   "metadata": {},
   "outputs": [
    {
     "data": {
      "text/plain": [
       "array([[ 0,  1,  2,  3,  4,  5],\n",
       "       [ 6,  7,  8,  9, 10, 11],\n",
       "       [12, 13, 14, 15, 16, 17],\n",
       "       [18, 19, 20, 21, 22, 23],\n",
       "       [24, 25, 26, 27, 28, 29]])"
      ]
     },
     "execution_count": 22,
     "metadata": {},
     "output_type": "execute_result"
    }
   ],
   "source": [
    "b = a.reshape(5,6)\n",
    "b"
   ]
  },
  {
   "cell_type": "markdown",
   "id": "2af77af5",
   "metadata": {},
   "source": [
    "### flatten function"
   ]
  },
  {
   "cell_type": "code",
   "execution_count": 23,
   "id": "ef516bfc",
   "metadata": {},
   "outputs": [
    {
     "data": {
      "text/plain": [
       "array([ 0,  1,  2,  3,  4,  5,  6,  7,  8,  9, 10, 11, 12, 13, 14, 15, 16,\n",
       "       17, 18, 19, 20, 21, 22, 23, 24, 25, 26, 27, 28, 29])"
      ]
     },
     "execution_count": 23,
     "metadata": {},
     "output_type": "execute_result"
    }
   ],
   "source": [
    "# it will convert our high end data to 1_dimensional\n",
    "b.flatten()"
   ]
  },
  {
   "cell_type": "code",
   "execution_count": 24,
   "id": "6bdf36eb",
   "metadata": {},
   "outputs": [
    {
     "name": "stdout",
     "output_type": "stream",
     "text": [
      "0\n",
      "1\n",
      "2\n",
      "3\n",
      "4\n",
      "5\n",
      "6\n",
      "7\n",
      "8\n",
      "9\n",
      "10\n",
      "11\n",
      "12\n",
      "13\n",
      "14\n",
      "15\n",
      "16\n",
      "17\n",
      "18\n",
      "19\n",
      "20\n",
      "21\n",
      "22\n",
      "23\n",
      "24\n",
      "25\n",
      "26\n",
      "27\n",
      "28\n",
      "29\n"
     ]
    }
   ],
   "source": [
    "# iteration\n",
    "for ele in b.flatten():\n",
    "    print(ele)"
   ]
  },
  {
   "cell_type": "markdown",
   "id": "b213f8ac",
   "metadata": {},
   "source": [
    "### flatten()==ravel()"
   ]
  },
  {
   "cell_type": "code",
   "execution_count": 25,
   "id": "49dc0dc1",
   "metadata": {},
   "outputs": [
    {
     "data": {
      "text/plain": [
       "array([ 0,  1,  2,  3,  4,  5,  6,  7,  8,  9, 10, 11, 12, 13, 14, 15, 16,\n",
       "       17, 18, 19, 20, 21, 22, 23, 24, 25, 26, 27, 28, 29])"
      ]
     },
     "execution_count": 25,
     "metadata": {},
     "output_type": "execute_result"
    }
   ],
   "source": [
    "b.ravel()"
   ]
  },
  {
   "cell_type": "code",
   "execution_count": 26,
   "id": "844a2948",
   "metadata": {},
   "outputs": [
    {
     "data": {
      "text/plain": [
       "array([[ 0,  1,  2,  3,  4,  5],\n",
       "       [ 6,  7,  8,  9, 10, 11],\n",
       "       [12, 13, 14, 15, 16, 17],\n",
       "       [18, 19, 20, 21, 22, 23],\n",
       "       [24, 25, 26, 27, 28, 29]])"
      ]
     },
     "execution_count": 26,
     "metadata": {},
     "output_type": "execute_result"
    }
   ],
   "source": [
    "b"
   ]
  },
  {
   "cell_type": "code",
   "execution_count": 27,
   "id": "3926b1e0",
   "metadata": {},
   "outputs": [
    {
     "data": {
      "text/plain": [
       "array([[ 0,  6, 12, 18, 24],\n",
       "       [ 1,  7, 13, 19, 25],\n",
       "       [ 2,  8, 14, 20, 26],\n",
       "       [ 3,  9, 15, 21, 27],\n",
       "       [ 4, 10, 16, 22, 28],\n",
       "       [ 5, 11, 17, 23, 29]])"
      ]
     },
     "execution_count": 27,
     "metadata": {},
     "output_type": "execute_result"
    }
   ],
   "source": [
    "# changing tabel dimensions\n",
    "b.transpose()"
   ]
  },
  {
   "cell_type": "code",
   "execution_count": 28,
   "id": "a80e6ff4",
   "metadata": {},
   "outputs": [
    {
     "data": {
      "text/plain": [
       "array([ 0,  1,  2,  3,  4,  5,  6,  7,  8,  9, 10, 11, 12, 13, 14, 15, 16,\n",
       "       17, 18, 19, 20, 21, 22, 23, 24, 25, 26, 27, 28, 29])"
      ]
     },
     "execution_count": 28,
     "metadata": {},
     "output_type": "execute_result"
    }
   ],
   "source": [
    "# to print \"column\" continuation in 1_dimension\n",
    "b.ravel('c')"
   ]
  },
  {
   "cell_type": "code",
   "execution_count": 29,
   "id": "45dc6ca8",
   "metadata": {},
   "outputs": [
    {
     "data": {
      "text/plain": [
       "array([ 0,  6, 12, 18, 24,  1,  7, 13, 19, 25,  2,  8, 14, 20, 26,  3,  9,\n",
       "       15, 21, 27,  4, 10, 16, 22, 28,  5, 11, 17, 23, 29])"
      ]
     },
     "execution_count": 29,
     "metadata": {},
     "output_type": "execute_result"
    }
   ],
   "source": [
    "# to print \"row\" continuation in 1_d\n",
    "b.ravel('f')"
   ]
  },
  {
   "cell_type": "code",
   "execution_count": 30,
   "id": "91efcf18",
   "metadata": {},
   "outputs": [
    {
     "data": {
      "text/plain": [
       "array([[ 0,  1,  2,  3,  4,  5],\n",
       "       [ 6,  7,  8,  9, 10, 11],\n",
       "       [12, 13, 14, 15, 16, 17],\n",
       "       [18, 19, 20, 21, 22, 23],\n",
       "       [24, 25, 26, 27, 28, 29]])"
      ]
     },
     "execution_count": 30,
     "metadata": {},
     "output_type": "execute_result"
    }
   ],
   "source": [
    "b"
   ]
  },
  {
   "cell_type": "code",
   "execution_count": 31,
   "id": "fe58ec76",
   "metadata": {},
   "outputs": [
    {
     "data": {
      "text/plain": [
       "array([[ 0,  6, 12, 18, 24],\n",
       "       [ 1,  7, 13, 19, 25],\n",
       "       [ 2,  8, 14, 20, 26],\n",
       "       [ 3,  9, 15, 21, 27],\n",
       "       [ 4, 10, 16, 22, 28],\n",
       "       [ 5, 11, 17, 23, 29]])"
      ]
     },
     "execution_count": 31,
     "metadata": {},
     "output_type": "execute_result"
    }
   ],
   "source": [
    "# transpose\n",
    "b.T"
   ]
  },
  {
   "cell_type": "code",
   "execution_count": null,
   "id": "cdfb0dee",
   "metadata": {},
   "outputs": [],
   "source": []
  },
  {
   "cell_type": "markdown",
   "id": "40aa111e",
   "metadata": {},
   "source": [
    "***"
   ]
  },
  {
   "cell_type": "markdown",
   "id": "0ccf738c",
   "metadata": {},
   "source": [
    "# Concatination"
   ]
  },
  {
   "cell_type": "code",
   "execution_count": 32,
   "id": "970e41dc",
   "metadata": {},
   "outputs": [],
   "source": [
    "c = np.array([[1,2],[3,4]])\n",
    "d = np.array([[5,6],[7,8]])"
   ]
  },
  {
   "cell_type": "code",
   "execution_count": 33,
   "id": "d1345b2d",
   "metadata": {},
   "outputs": [
    {
     "name": "stdout",
     "output_type": "stream",
     "text": [
      "[[1 2]\n",
      " [3 4]]\n",
      "[[5 6]\n",
      " [7 8]]\n"
     ]
    },
    {
     "data": {
      "text/plain": [
       "(None, None)"
      ]
     },
     "execution_count": 33,
     "metadata": {},
     "output_type": "execute_result"
    }
   ],
   "source": [
    "print(c),print(d)"
   ]
  },
  {
   "cell_type": "code",
   "execution_count": 34,
   "id": "c8a988d8",
   "metadata": {},
   "outputs": [
    {
     "data": {
      "text/plain": [
       "array([[1, 2],\n",
       "       [3, 4],\n",
       "       [5, 6],\n",
       "       [7, 8]])"
      ]
     },
     "execution_count": 34,
     "metadata": {},
     "output_type": "execute_result"
    }
   ],
   "source": [
    "np.concatenate((c,d))"
   ]
  },
  {
   "cell_type": "code",
   "execution_count": 35,
   "id": "f78f237d",
   "metadata": {},
   "outputs": [
    {
     "data": {
      "text/plain": [
       "array([[1, 2],\n",
       "       [3, 4],\n",
       "       [5, 6],\n",
       "       [7, 8]])"
      ]
     },
     "execution_count": 35,
     "metadata": {},
     "output_type": "execute_result"
    }
   ],
   "source": [
    "# concatenate == vstack\n",
    "np.vstack((c,d))"
   ]
  },
  {
   "cell_type": "code",
   "execution_count": 36,
   "id": "21127ade",
   "metadata": {},
   "outputs": [
    {
     "data": {
      "text/plain": [
       "array([[1, 2, 5, 6],\n",
       "       [3, 4, 7, 8]])"
      ]
     },
     "execution_count": 36,
     "metadata": {},
     "output_type": "execute_result"
    }
   ],
   "source": [
    "# to display in horizontal\n",
    "np.hstack((c,d))"
   ]
  },
  {
   "cell_type": "markdown",
   "id": "baa9422b",
   "metadata": {},
   "source": [
    "### Splitting"
   ]
  },
  {
   "cell_type": "code",
   "execution_count": 37,
   "id": "6c9532ac",
   "metadata": {},
   "outputs": [
    {
     "data": {
      "text/plain": [
       "array([0, 1, 2, 3, 4, 5, 6, 7, 8, 9])"
      ]
     },
     "execution_count": 37,
     "metadata": {},
     "output_type": "execute_result"
    }
   ],
   "source": [
    "f = np.arange(10)\n",
    "f"
   ]
  },
  {
   "cell_type": "code",
   "execution_count": 38,
   "id": "d8442f0f",
   "metadata": {},
   "outputs": [
    {
     "data": {
      "text/plain": [
       "[array([0, 1]), array([2, 3]), array([4, 5]), array([6, 7]), array([8, 9])]"
      ]
     },
     "execution_count": 38,
     "metadata": {},
     "output_type": "execute_result"
    }
   ],
   "source": [
    "np.split(f,5)"
   ]
  },
  {
   "cell_type": "code",
   "execution_count": 39,
   "id": "0b52107c",
   "metadata": {},
   "outputs": [
    {
     "data": {
      "text/plain": [
       "array([[ 0,  1,  2,  3],\n",
       "       [ 4,  5,  6,  7],\n",
       "       [ 8,  9, 10, 11],\n",
       "       [12, 13, 14, 15]])"
      ]
     },
     "execution_count": 39,
     "metadata": {},
     "output_type": "execute_result"
    }
   ],
   "source": [
    "# 2_dimensional\n",
    "z = np.arange(16).reshape(4,4)\n",
    "z"
   ]
  },
  {
   "cell_type": "code",
   "execution_count": 40,
   "id": "0410e65c",
   "metadata": {},
   "outputs": [
    {
     "data": {
      "text/plain": [
       "[array([[ 0,  1],\n",
       "        [ 4,  5],\n",
       "        [ 8,  9],\n",
       "        [12, 13]]),\n",
       " array([[ 2,  3],\n",
       "        [ 6,  7],\n",
       "        [10, 11],\n",
       "        [14, 15]])]"
      ]
     },
     "execution_count": 40,
     "metadata": {},
     "output_type": "execute_result"
    }
   ],
   "source": [
    "# horzontal split\n",
    "np.hsplit(z,2)"
   ]
  },
  {
   "cell_type": "code",
   "execution_count": 41,
   "id": "1d5de087",
   "metadata": {},
   "outputs": [
    {
     "data": {
      "text/plain": [
       "[array([[0, 1, 2, 3],\n",
       "        [4, 5, 6, 7]]),\n",
       " array([[ 8,  9, 10, 11],\n",
       "        [12, 13, 14, 15]])]"
      ]
     },
     "execution_count": 41,
     "metadata": {},
     "output_type": "execute_result"
    }
   ],
   "source": [
    "# vertical split\n",
    "np.vsplit(z,2)"
   ]
  },
  {
   "cell_type": "markdown",
   "id": "968f641e",
   "metadata": {},
   "source": [
    "### Append"
   ]
  },
  {
   "cell_type": "code",
   "execution_count": 42,
   "id": "82104883",
   "metadata": {},
   "outputs": [
    {
     "data": {
      "text/plain": [
       "array([0, 1, 2, 3, 4, 5, 6, 7, 8, 9])"
      ]
     },
     "execution_count": 42,
     "metadata": {},
     "output_type": "execute_result"
    }
   ],
   "source": [
    "#addding any two number to elements\n",
    "f"
   ]
  },
  {
   "cell_type": "code",
   "execution_count": 43,
   "id": "9a071d94",
   "metadata": {},
   "outputs": [
    {
     "data": {
      "text/plain": [
       "array([ 0,  1,  2,  3,  4,  5,  6,  7,  8,  9, 23])"
      ]
     },
     "execution_count": 43,
     "metadata": {},
     "output_type": "execute_result"
    }
   ],
   "source": [
    "np.append(f,23)"
   ]
  },
  {
   "cell_type": "code",
   "execution_count": 44,
   "id": "85724818",
   "metadata": {},
   "outputs": [
    {
     "data": {
      "text/plain": [
       "array([[ 0,  1,  2,  3],\n",
       "       [ 4,  5,  6,  7],\n",
       "       [ 8,  9, 10, 11],\n",
       "       [12, 13, 14, 15]])"
      ]
     },
     "execution_count": 44,
     "metadata": {},
     "output_type": "execute_result"
    }
   ],
   "source": [
    "z"
   ]
  },
  {
   "cell_type": "code",
   "execution_count": 45,
   "id": "8dac9445",
   "metadata": {},
   "outputs": [
    {
     "data": {
      "text/plain": [
       "array([   0,    1,    2,    3,    4,    5,    6,    7,    8,    9,   10,\n",
       "         11,   12,   13,   14,   15,  100, 1010,  102])"
      ]
     },
     "execution_count": 45,
     "metadata": {},
     "output_type": "execute_result"
    }
   ],
   "source": [
    "np.append(z,[100,1010,102])"
   ]
  },
  {
   "cell_type": "code",
   "execution_count": 46,
   "id": "61ad1b33",
   "metadata": {},
   "outputs": [
    {
     "data": {
      "text/plain": [
       "array([[ 0,  1,  2,  3],\n",
       "       [ 4,  5,  6,  7],\n",
       "       [ 8,  9, 10, 11],\n",
       "       [12, 13, 14, 15],\n",
       "       [21, 31, 41, 51]])"
      ]
     },
     "execution_count": 46,
     "metadata": {},
     "output_type": "execute_result"
    }
   ],
   "source": [
    "np.append(z,[[21,31,41,51]], axis=0)"
   ]
  },
  {
   "cell_type": "code",
   "execution_count": 47,
   "id": "9e414ccb",
   "metadata": {},
   "outputs": [
    {
     "data": {
      "text/plain": [
       "array([0, 1, 2, 3, 4, 5, 6, 7, 8, 9])"
      ]
     },
     "execution_count": 47,
     "metadata": {},
     "output_type": "execute_result"
    }
   ],
   "source": [
    "# insert particuar variable\n",
    "f"
   ]
  },
  {
   "cell_type": "code",
   "execution_count": 48,
   "id": "e9a3a60e",
   "metadata": {},
   "outputs": [
    {
     "data": {
      "text/plain": [
       "array([  0,   1,   2,   3,   4, 100,   5,   6,   7,   8,   9])"
      ]
     },
     "execution_count": 48,
     "metadata": {},
     "output_type": "execute_result"
    }
   ],
   "source": [
    "np.insert(f,5,100)"
   ]
  },
  {
   "cell_type": "markdown",
   "id": "269cb141",
   "metadata": {},
   "source": [
    "### Delete cell"
   ]
  },
  {
   "cell_type": "code",
   "execution_count": 49,
   "id": "b2f30428",
   "metadata": {},
   "outputs": [
    {
     "data": {
      "text/plain": [
       "array([0, 1, 2, 3, 4, 5, 6, 7, 8, 9])"
      ]
     },
     "execution_count": 49,
     "metadata": {},
     "output_type": "execute_result"
    }
   ],
   "source": [
    "f"
   ]
  },
  {
   "cell_type": "code",
   "execution_count": 50,
   "id": "43b98eee",
   "metadata": {},
   "outputs": [
    {
     "data": {
      "text/plain": [
       "array([0, 1, 2, 3, 4, 5, 6, 7, 9])"
      ]
     },
     "execution_count": 50,
     "metadata": {},
     "output_type": "execute_result"
    }
   ],
   "source": [
    "np.delete(f,8)"
   ]
  },
  {
   "cell_type": "markdown",
   "id": "060ad31b",
   "metadata": {},
   "source": [
    "***"
   ]
  },
  {
   "cell_type": "markdown",
   "id": "7ceb4161",
   "metadata": {},
   "source": [
    "### Arange function"
   ]
  },
  {
   "cell_type": "code",
   "execution_count": 51,
   "id": "cd9b1ecb",
   "metadata": {},
   "outputs": [
    {
     "data": {
      "text/plain": [
       "array([0, 1, 2, 3, 4, 5, 6, 7, 8, 9])"
      ]
     },
     "execution_count": 51,
     "metadata": {},
     "output_type": "execute_result"
    }
   ],
   "source": [
    "np.arange(10)"
   ]
  },
  {
   "cell_type": "code",
   "execution_count": 52,
   "id": "2e2d292c",
   "metadata": {},
   "outputs": [
    {
     "data": {
      "text/plain": [
       "array([1, 2, 3, 4, 5, 6, 7, 8, 9])"
      ]
     },
     "execution_count": 52,
     "metadata": {},
     "output_type": "execute_result"
    }
   ],
   "source": [
    "np.arange(1,10)"
   ]
  },
  {
   "cell_type": "code",
   "execution_count": 53,
   "id": "707ac9dd",
   "metadata": {},
   "outputs": [
    {
     "data": {
      "text/plain": [
       "array([-10,  -5,   0,   5])"
      ]
     },
     "execution_count": 53,
     "metadata": {},
     "output_type": "execute_result"
    }
   ],
   "source": [
    "np.arange(-10,10,5)"
   ]
  },
  {
   "cell_type": "markdown",
   "id": "727af0eb",
   "metadata": {},
   "source": [
    "### Line space = np.linspace(start,end,divisible number)"
   ]
  },
  {
   "cell_type": "code",
   "execution_count": 54,
   "id": "2a484aa6",
   "metadata": {},
   "outputs": [
    {
     "data": {
      "text/plain": [
       "array([ 0.        ,  0.20408163,  0.40816327,  0.6122449 ,  0.81632653,\n",
       "        1.02040816,  1.2244898 ,  1.42857143,  1.63265306,  1.83673469,\n",
       "        2.04081633,  2.24489796,  2.44897959,  2.65306122,  2.85714286,\n",
       "        3.06122449,  3.26530612,  3.46938776,  3.67346939,  3.87755102,\n",
       "        4.08163265,  4.28571429,  4.48979592,  4.69387755,  4.89795918,\n",
       "        5.10204082,  5.30612245,  5.51020408,  5.71428571,  5.91836735,\n",
       "        6.12244898,  6.32653061,  6.53061224,  6.73469388,  6.93877551,\n",
       "        7.14285714,  7.34693878,  7.55102041,  7.75510204,  7.95918367,\n",
       "        8.16326531,  8.36734694,  8.57142857,  8.7755102 ,  8.97959184,\n",
       "        9.18367347,  9.3877551 ,  9.59183673,  9.79591837, 10.        ])"
      ]
     },
     "execution_count": 54,
     "metadata": {},
     "output_type": "execute_result"
    }
   ],
   "source": [
    "np.linspace(0,10)"
   ]
  },
  {
   "cell_type": "code",
   "execution_count": 55,
   "id": "c6595b0c",
   "metadata": {},
   "outputs": [
    {
     "data": {
      "text/plain": [
       "array([ 0.,  5., 10.])"
      ]
     },
     "execution_count": 55,
     "metadata": {},
     "output_type": "execute_result"
    }
   ],
   "source": [
    "np.linspace(0,10,3)"
   ]
  },
  {
   "cell_type": "code",
   "execution_count": 56,
   "id": "d5afee6e",
   "metadata": {},
   "outputs": [
    {
     "data": {
      "text/plain": [
       "array([-10.        ,  -7.77777778,  -5.55555556,  -3.33333333,\n",
       "        -1.11111111,   1.11111111,   3.33333333,   5.55555556,\n",
       "         7.77777778,  10.        ])"
      ]
     },
     "execution_count": 56,
     "metadata": {},
     "output_type": "execute_result"
    }
   ],
   "source": [
    "np.linspace(-10,10,10)"
   ]
  },
  {
   "cell_type": "markdown",
   "id": "c894fa36",
   "metadata": {},
   "source": [
    "### Logspace(start,end,divide)"
   ]
  },
  {
   "cell_type": "code",
   "execution_count": 57,
   "id": "1cc2902d",
   "metadata": {},
   "outputs": [
    {
     "data": {
      "text/plain": [
       "array([1.00000000e+00, 1.59985872e+00, 2.55954792e+00, 4.09491506e+00,\n",
       "       6.55128557e+00, 1.04811313e+01, 1.67683294e+01, 2.68269580e+01,\n",
       "       4.29193426e+01, 6.86648845e+01, 1.09854114e+02, 1.75751062e+02,\n",
       "       2.81176870e+02, 4.49843267e+02, 7.19685673e+02, 1.15139540e+03,\n",
       "       1.84206997e+03, 2.94705170e+03, 4.71486636e+03, 7.54312006e+03,\n",
       "       1.20679264e+04, 1.93069773e+04, 3.08884360e+04, 4.94171336e+04,\n",
       "       7.90604321e+04, 1.26485522e+05, 2.02358965e+05, 3.23745754e+05,\n",
       "       5.17947468e+05, 8.28642773e+05, 1.32571137e+06, 2.12095089e+06,\n",
       "       3.39322177e+06, 5.42867544e+06, 8.68511374e+06, 1.38949549e+07,\n",
       "       2.22299648e+07, 3.55648031e+07, 5.68986603e+07, 9.10298178e+07,\n",
       "       1.45634848e+08, 2.32995181e+08, 3.72759372e+08, 5.96362332e+08,\n",
       "       9.54095476e+08, 1.52641797e+09, 2.44205309e+09, 3.90693994e+09,\n",
       "       6.25055193e+09, 1.00000000e+10])"
      ]
     },
     "execution_count": 57,
     "metadata": {},
     "output_type": "execute_result"
    }
   ],
   "source": [
    "np.logspace(0,10)"
   ]
  },
  {
   "cell_type": "code",
   "execution_count": 58,
   "id": "b3c47ac9",
   "metadata": {},
   "outputs": [
    {
     "data": {
      "text/plain": [
       "array([1.e+00, 1.e+05, 1.e+10])"
      ]
     },
     "execution_count": 58,
     "metadata": {},
     "output_type": "execute_result"
    }
   ],
   "source": [
    "np.logspace(0,10,3)"
   ]
  },
  {
   "cell_type": "code",
   "execution_count": 59,
   "id": "52757491",
   "metadata": {},
   "outputs": [
    {
     "data": {
      "text/plain": [
       "array([1.e+01, 1.e+10])"
      ]
     },
     "execution_count": 59,
     "metadata": {},
     "output_type": "execute_result"
    }
   ],
   "source": [
    "np.logspace(1,10,2)"
   ]
  },
  {
   "cell_type": "markdown",
   "id": "4a40a844",
   "metadata": {},
   "source": [
    "### Base genrating\n",
    "### np.logspace(start,end,num=divisble,base=number)"
   ]
  },
  {
   "cell_type": "code",
   "execution_count": 60,
   "id": "3b4eefab",
   "metadata": {},
   "outputs": [
    {
     "data": {
      "text/plain": [
       "array([   2., 1024.])"
      ]
     },
     "execution_count": 60,
     "metadata": {},
     "output_type": "execute_result"
    }
   ],
   "source": [
    "np.logspace(1,10,num=2,base=2)"
   ]
  },
  {
   "cell_type": "code",
   "execution_count": 61,
   "id": "be6e8093",
   "metadata": {},
   "outputs": [
    {
     "data": {
      "text/plain": [
       "array([   2.,    4.,    8.,   16.,   32.,   64.,  128.,  256.,  512.,\n",
       "       1024.])"
      ]
     },
     "execution_count": 61,
     "metadata": {},
     "output_type": "execute_result"
    }
   ],
   "source": [
    "np.logspace(1,10,num=10,base=2)"
   ]
  },
  {
   "cell_type": "markdown",
   "id": "76a5decb",
   "metadata": {},
   "source": [
    "### Zeros"
   ]
  },
  {
   "cell_type": "code",
   "execution_count": 62,
   "id": "106b0546",
   "metadata": {},
   "outputs": [
    {
     "data": {
      "text/plain": [
       "array([0., 0., 0.])"
      ]
     },
     "execution_count": 62,
     "metadata": {},
     "output_type": "execute_result"
    }
   ],
   "source": [
    "np.zeros(3) #1_d"
   ]
  },
  {
   "cell_type": "code",
   "execution_count": 63,
   "id": "7aebc215",
   "metadata": {},
   "outputs": [
    {
     "data": {
      "text/plain": [
       "array([[0., 0., 0., 0., 0.],\n",
       "       [0., 0., 0., 0., 0.],\n",
       "       [0., 0., 0., 0., 0.]])"
      ]
     },
     "execution_count": 63,
     "metadata": {},
     "output_type": "execute_result"
    }
   ],
   "source": [
    "np.zeros((3,5)) #2_d"
   ]
  },
  {
   "cell_type": "code",
   "execution_count": 64,
   "id": "0d0d5a04",
   "metadata": {},
   "outputs": [
    {
     "data": {
      "text/plain": [
       "array([[[0., 0., 0.],\n",
       "        [0., 0., 0.],\n",
       "        [0., 0., 0.]],\n",
       "\n",
       "       [[0., 0., 0.],\n",
       "        [0., 0., 0.],\n",
       "        [0., 0., 0.]],\n",
       "\n",
       "       [[0., 0., 0.],\n",
       "        [0., 0., 0.],\n",
       "        [0., 0., 0.]]])"
      ]
     },
     "execution_count": 64,
     "metadata": {},
     "output_type": "execute_result"
    }
   ],
   "source": [
    "np.zeros(((3,3,3))) #3_d"
   ]
  },
  {
   "cell_type": "code",
   "execution_count": 65,
   "id": "eef3d938",
   "metadata": {},
   "outputs": [
    {
     "data": {
      "text/plain": [
       "array([1., 1., 1.])"
      ]
     },
     "execution_count": 65,
     "metadata": {},
     "output_type": "execute_result"
    }
   ],
   "source": [
    "np.ones(3)"
   ]
  },
  {
   "cell_type": "code",
   "execution_count": 66,
   "id": "2ca9db04",
   "metadata": {},
   "outputs": [
    {
     "data": {
      "text/plain": [
       "array([[[1., 1., 1., 1., 1.],\n",
       "        [1., 1., 1., 1., 1.],\n",
       "        [1., 1., 1., 1., 1.],\n",
       "        [1., 1., 1., 1., 1.]],\n",
       "\n",
       "       [[1., 1., 1., 1., 1.],\n",
       "        [1., 1., 1., 1., 1.],\n",
       "        [1., 1., 1., 1., 1.],\n",
       "        [1., 1., 1., 1., 1.]],\n",
       "\n",
       "       [[1., 1., 1., 1., 1.],\n",
       "        [1., 1., 1., 1., 1.],\n",
       "        [1., 1., 1., 1., 1.],\n",
       "        [1., 1., 1., 1., 1.]]])"
      ]
     },
     "execution_count": 66,
     "metadata": {},
     "output_type": "execute_result"
    }
   ],
   "source": [
    "np.ones(((3,4,5)))"
   ]
  },
  {
   "cell_type": "markdown",
   "id": "2d81eeb4",
   "metadata": {},
   "source": [
    "### filling same matrix"
   ]
  },
  {
   "cell_type": "code",
   "execution_count": 67,
   "id": "482ff359",
   "metadata": {},
   "outputs": [
    {
     "data": {
      "text/plain": [
       "array([[5, 5, 5, 5],\n",
       "       [5, 5, 5, 5],\n",
       "       [5, 5, 5, 5]])"
      ]
     },
     "execution_count": 67,
     "metadata": {},
     "output_type": "execute_result"
    }
   ],
   "source": [
    "# np.full((row,coloum),fill up num=x)\n",
    "np.full((3,4),5)"
   ]
  },
  {
   "cell_type": "markdown",
   "id": "a0fccef2",
   "metadata": {},
   "source": [
    "### Diagonal element"
   ]
  },
  {
   "cell_type": "code",
   "execution_count": 68,
   "id": "612b02db",
   "metadata": {},
   "outputs": [
    {
     "data": {
      "text/plain": [
       "array([[1., 0., 0.],\n",
       "       [0., 1., 0.],\n",
       "       [0., 0., 1.]])"
      ]
     },
     "execution_count": 68,
     "metadata": {},
     "output_type": "execute_result"
    }
   ],
   "source": [
    "#np.eye(number)\n",
    "np.eye(3)"
   ]
  },
  {
   "cell_type": "code",
   "execution_count": 69,
   "id": "63c63378",
   "metadata": {},
   "outputs": [
    {
     "data": {
      "text/plain": [
       "array([[1., 0., 0., 0.],\n",
       "       [0., 1., 0., 0.],\n",
       "       [0., 0., 1., 0.],\n",
       "       [0., 0., 0., 1.]])"
      ]
     },
     "execution_count": 69,
     "metadata": {},
     "output_type": "execute_result"
    }
   ],
   "source": [
    "np.eye(4)"
   ]
  },
  {
   "cell_type": "markdown",
   "id": "858d46ce",
   "metadata": {},
   "source": [
    "### Empty matrix"
   ]
  },
  {
   "cell_type": "code",
   "execution_count": 70,
   "id": "7dc46e5a",
   "metadata": {},
   "outputs": [
    {
     "data": {
      "text/plain": [
       "array([[6.18566960e-312, 5.53353523e-322, 0.00000000e+000,\n",
       "        0.00000000e+000, 1.33511018e-306, 1.15998412e-028],\n",
       "       [2.44171989e+232, 8.00801729e+159, 7.06269593e-077,\n",
       "        2.99067252e-067, 1.28448408e-057, 5.51681714e-048],\n",
       "       [2.36945494e-038, 4.40610747e-062, 3.77780862e+180,\n",
       "        1.15998412e-028, 6.48224638e+170, 3.67145870e+228]])"
      ]
     },
     "execution_count": 70,
     "metadata": {},
     "output_type": "execute_result"
    }
   ],
   "source": [
    "#np.empty(row,coloum)\n",
    "np.empty((3,6))"
   ]
  },
  {
   "cell_type": "markdown",
   "id": "4904951d",
   "metadata": {},
   "source": [
    "***"
   ]
  },
  {
   "cell_type": "markdown",
   "id": "8df8e335",
   "metadata": {},
   "source": [
    "# Array Broadcasting\n",
    "#### When ever we do two arthematic operations with two diffrent set then the result how numpy reacts is called 'Broad casting'"
   ]
  },
  {
   "cell_type": "code",
   "execution_count": 71,
   "id": "72b60d5a",
   "metadata": {},
   "outputs": [],
   "source": [
    "x = np.array([1,2,3])\n",
    "y = np.array([3,4,5])"
   ]
  },
  {
   "cell_type": "code",
   "execution_count": 72,
   "id": "3fe29699",
   "metadata": {},
   "outputs": [
    {
     "data": {
      "text/plain": [
       "(array([1, 2, 3]), array([3, 4, 5]))"
      ]
     },
     "execution_count": 72,
     "metadata": {},
     "output_type": "execute_result"
    }
   ],
   "source": [
    "x,y"
   ]
  },
  {
   "cell_type": "code",
   "execution_count": 73,
   "id": "c7da6ae5",
   "metadata": {},
   "outputs": [
    {
     "data": {
      "text/plain": [
       "array([4, 6, 8])"
      ]
     },
     "execution_count": 73,
     "metadata": {},
     "output_type": "execute_result"
    }
   ],
   "source": [
    "x+y"
   ]
  },
  {
   "cell_type": "code",
   "execution_count": 74,
   "id": "c3b0bc13",
   "metadata": {},
   "outputs": [],
   "source": [
    "c = np.arange(12).reshape(4,3)\n",
    "d = np.array([3,4,5])"
   ]
  },
  {
   "cell_type": "code",
   "execution_count": 75,
   "id": "c2338981",
   "metadata": {},
   "outputs": [
    {
     "data": {
      "text/plain": [
       "(array([[ 0,  1,  2],\n",
       "        [ 3,  4,  5],\n",
       "        [ 6,  7,  8],\n",
       "        [ 9, 10, 11]]),\n",
       " array([3, 4, 5]))"
      ]
     },
     "execution_count": 75,
     "metadata": {},
     "output_type": "execute_result"
    }
   ],
   "source": [
    "c,d"
   ]
  },
  {
   "cell_type": "code",
   "execution_count": 76,
   "id": "db91a5c3",
   "metadata": {},
   "outputs": [
    {
     "data": {
      "text/plain": [
       "array([[ 3,  5,  7],\n",
       "       [ 6,  8, 10],\n",
       "       [ 9, 11, 13],\n",
       "       [12, 14, 16]])"
      ]
     },
     "execution_count": 76,
     "metadata": {},
     "output_type": "execute_result"
    }
   ],
   "source": [
    "c+d"
   ]
  },
  {
   "cell_type": "code",
   "execution_count": 77,
   "id": "11629ae6",
   "metadata": {},
   "outputs": [
    {
     "data": {
      "text/plain": [
       "array([[ 0,  4, 10],\n",
       "       [ 9, 16, 25],\n",
       "       [18, 28, 40],\n",
       "       [27, 40, 55]])"
      ]
     },
     "execution_count": 77,
     "metadata": {},
     "output_type": "execute_result"
    }
   ],
   "source": [
    "c*d"
   ]
  },
  {
   "cell_type": "code",
   "execution_count": 78,
   "id": "fb2a77a1",
   "metadata": {},
   "outputs": [
    {
     "data": {
      "text/plain": [
       "array([[0.  , 0.25, 0.4 ],\n",
       "       [1.  , 1.  , 1.  ],\n",
       "       [2.  , 1.75, 1.6 ],\n",
       "       [3.  , 2.5 , 2.2 ]])"
      ]
     },
     "execution_count": 78,
     "metadata": {},
     "output_type": "execute_result"
    }
   ],
   "source": [
    "c/d"
   ]
  },
  {
   "cell_type": "markdown",
   "id": "da041677",
   "metadata": {},
   "source": [
    "# Iterating array\n",
    "#### your are trying out every single element inarray.Which is not inbuilt in the nuppy array \"for-loop\" is used for iterating array.\n",
    "### for ele in np.nditer(variable):"
   ]
  },
  {
   "cell_type": "code",
   "execution_count": 79,
   "id": "b906361d",
   "metadata": {},
   "outputs": [],
   "source": [
    "e = np.array([2,4,5])"
   ]
  },
  {
   "cell_type": "code",
   "execution_count": 80,
   "id": "4f6518fa",
   "metadata": {},
   "outputs": [
    {
     "name": "stdout",
     "output_type": "stream",
     "text": [
      "2\n",
      "4\n",
      "5\n"
     ]
    }
   ],
   "source": [
    "for ele in np.nditer(e):\n",
    "    print(ele)"
   ]
  },
  {
   "cell_type": "code",
   "execution_count": 81,
   "id": "9fa5360c",
   "metadata": {},
   "outputs": [],
   "source": [
    "f = np.arange(0,1000,5)"
   ]
  },
  {
   "cell_type": "code",
   "execution_count": 82,
   "id": "11ee629e",
   "metadata": {},
   "outputs": [
    {
     "name": "stdout",
     "output_type": "stream",
     "text": [
      "0\n",
      "5\n",
      "10\n",
      "15\n",
      "20\n",
      "25\n",
      "30\n",
      "35\n",
      "40\n",
      "45\n",
      "50\n",
      "55\n",
      "60\n",
      "65\n",
      "70\n",
      "75\n",
      "80\n",
      "85\n",
      "90\n",
      "95\n",
      "100\n",
      "105\n",
      "110\n",
      "115\n",
      "120\n",
      "125\n",
      "130\n",
      "135\n",
      "140\n",
      "145\n",
      "150\n",
      "155\n",
      "160\n",
      "165\n",
      "170\n",
      "175\n",
      "180\n",
      "185\n",
      "190\n",
      "195\n",
      "200\n",
      "205\n",
      "210\n",
      "215\n",
      "220\n",
      "225\n",
      "230\n",
      "235\n",
      "240\n",
      "245\n",
      "250\n",
      "255\n",
      "260\n",
      "265\n",
      "270\n",
      "275\n",
      "280\n",
      "285\n",
      "290\n",
      "295\n",
      "300\n",
      "305\n",
      "310\n",
      "315\n",
      "320\n",
      "325\n",
      "330\n",
      "335\n",
      "340\n",
      "345\n",
      "350\n",
      "355\n",
      "360\n",
      "365\n",
      "370\n",
      "375\n",
      "380\n",
      "385\n",
      "390\n",
      "395\n",
      "400\n",
      "405\n",
      "410\n",
      "415\n",
      "420\n",
      "425\n",
      "430\n",
      "435\n",
      "440\n",
      "445\n",
      "450\n",
      "455\n",
      "460\n",
      "465\n",
      "470\n",
      "475\n",
      "480\n",
      "485\n",
      "490\n",
      "495\n",
      "500\n",
      "505\n",
      "510\n",
      "515\n",
      "520\n",
      "525\n",
      "530\n",
      "535\n",
      "540\n",
      "545\n",
      "550\n",
      "555\n",
      "560\n",
      "565\n",
      "570\n",
      "575\n",
      "580\n",
      "585\n",
      "590\n",
      "595\n",
      "600\n",
      "605\n",
      "610\n",
      "615\n",
      "620\n",
      "625\n",
      "630\n",
      "635\n",
      "640\n",
      "645\n",
      "650\n",
      "655\n",
      "660\n",
      "665\n",
      "670\n",
      "675\n",
      "680\n",
      "685\n",
      "690\n",
      "695\n",
      "700\n",
      "705\n",
      "710\n",
      "715\n",
      "720\n",
      "725\n",
      "730\n",
      "735\n",
      "740\n",
      "745\n",
      "750\n",
      "755\n",
      "760\n",
      "765\n",
      "770\n",
      "775\n",
      "780\n",
      "785\n",
      "790\n",
      "795\n",
      "800\n",
      "805\n",
      "810\n",
      "815\n",
      "820\n",
      "825\n",
      "830\n",
      "835\n",
      "840\n",
      "845\n",
      "850\n",
      "855\n",
      "860\n",
      "865\n",
      "870\n",
      "875\n",
      "880\n",
      "885\n",
      "890\n",
      "895\n",
      "900\n",
      "905\n",
      "910\n",
      "915\n",
      "920\n",
      "925\n",
      "930\n",
      "935\n",
      "940\n",
      "945\n",
      "950\n",
      "955\n",
      "960\n",
      "965\n",
      "970\n",
      "975\n",
      "980\n",
      "985\n",
      "990\n",
      "995\n"
     ]
    }
   ],
   "source": [
    "for ele in np.nditer(f):\n",
    "    print(ele)"
   ]
  },
  {
   "cell_type": "code",
   "execution_count": 83,
   "id": "bc5e564c",
   "metadata": {},
   "outputs": [
    {
     "name": "stdout",
     "output_type": "stream",
     "text": [
      "3\n",
      "8\n",
      "13\n",
      "18\n",
      "23\n",
      "28\n",
      "33\n",
      "38\n",
      "43\n",
      "48\n",
      "53\n",
      "58\n",
      "63\n",
      "68\n",
      "73\n",
      "78\n",
      "83\n",
      "88\n",
      "93\n",
      "98\n",
      "103\n",
      "108\n",
      "113\n",
      "118\n",
      "123\n",
      "128\n",
      "133\n",
      "138\n",
      "143\n",
      "148\n",
      "153\n",
      "158\n",
      "163\n",
      "168\n",
      "173\n",
      "178\n",
      "183\n",
      "188\n",
      "193\n",
      "198\n",
      "203\n",
      "208\n",
      "213\n",
      "218\n",
      "223\n",
      "228\n",
      "233\n",
      "238\n",
      "243\n",
      "248\n",
      "253\n",
      "258\n",
      "263\n",
      "268\n",
      "273\n",
      "278\n",
      "283\n",
      "288\n",
      "293\n",
      "298\n",
      "303\n",
      "308\n",
      "313\n",
      "318\n",
      "323\n",
      "328\n",
      "333\n",
      "338\n",
      "343\n",
      "348\n",
      "353\n",
      "358\n",
      "363\n",
      "368\n",
      "373\n",
      "378\n",
      "383\n",
      "388\n",
      "393\n",
      "398\n",
      "403\n",
      "408\n",
      "413\n",
      "418\n",
      "423\n",
      "428\n",
      "433\n",
      "438\n",
      "443\n",
      "448\n",
      "453\n",
      "458\n",
      "463\n",
      "468\n",
      "473\n",
      "478\n",
      "483\n",
      "488\n",
      "493\n",
      "498\n",
      "503\n",
      "508\n",
      "513\n",
      "518\n",
      "523\n",
      "528\n",
      "533\n",
      "538\n",
      "543\n",
      "548\n",
      "553\n",
      "558\n",
      "563\n",
      "568\n",
      "573\n",
      "578\n",
      "583\n",
      "588\n",
      "593\n",
      "598\n",
      "603\n",
      "608\n",
      "613\n",
      "618\n",
      "623\n",
      "628\n",
      "633\n",
      "638\n",
      "643\n",
      "648\n",
      "653\n",
      "658\n",
      "663\n",
      "668\n",
      "673\n",
      "678\n",
      "683\n",
      "688\n",
      "693\n",
      "698\n",
      "703\n",
      "708\n",
      "713\n",
      "718\n",
      "723\n",
      "728\n",
      "733\n",
      "738\n",
      "743\n",
      "748\n",
      "753\n",
      "758\n",
      "763\n",
      "768\n",
      "773\n",
      "778\n",
      "783\n",
      "788\n",
      "793\n",
      "798\n",
      "803\n",
      "808\n",
      "813\n",
      "818\n",
      "823\n",
      "828\n",
      "833\n",
      "838\n",
      "843\n",
      "848\n",
      "853\n",
      "858\n",
      "863\n",
      "868\n",
      "873\n",
      "878\n",
      "883\n",
      "888\n",
      "893\n",
      "898\n",
      "903\n",
      "908\n",
      "913\n",
      "918\n",
      "923\n",
      "928\n",
      "933\n",
      "938\n",
      "943\n",
      "948\n",
      "953\n",
      "958\n",
      "963\n",
      "968\n",
      "973\n",
      "978\n",
      "983\n",
      "988\n",
      "993\n",
      "998\n"
     ]
    }
   ],
   "source": [
    "for ele in np.nditer(f):\n",
    "    print(ele+3)"
   ]
  },
  {
   "cell_type": "code",
   "execution_count": 84,
   "id": "8225d9b9",
   "metadata": {},
   "outputs": [
    {
     "name": "stdout",
     "output_type": "stream",
     "text": [
      "0.4\n",
      "0.8\n",
      "1.0\n"
     ]
    }
   ],
   "source": [
    "for ele in np.nditer(e):\n",
    "    print(ele/5)"
   ]
  },
  {
   "cell_type": "code",
   "execution_count": 85,
   "id": "fdce9862",
   "metadata": {},
   "outputs": [
    {
     "name": "stdout",
     "output_type": "stream",
     "text": [
      "0.6666666666666666\n",
      "1.3333333333333333\n",
      "1.6666666666666667\n"
     ]
    }
   ],
   "source": [
    "for ele in np.nditer(e):\n",
    "    print(ele/3)"
   ]
  },
  {
   "cell_type": "markdown",
   "id": "96d622ec",
   "metadata": {},
   "source": [
    "## Arthematic Operation"
   ]
  },
  {
   "cell_type": "code",
   "execution_count": 86,
   "id": "c6f9349b",
   "metadata": {},
   "outputs": [],
   "source": [
    "j = np.array([2,3,4])\n",
    "f = np.array([5,6,7])"
   ]
  },
  {
   "cell_type": "code",
   "execution_count": 87,
   "id": "70d3cf96",
   "metadata": {},
   "outputs": [
    {
     "data": {
      "text/plain": [
       "array([ 7,  9, 11])"
      ]
     },
     "execution_count": 87,
     "metadata": {},
     "output_type": "execute_result"
    }
   ],
   "source": [
    "j+f"
   ]
  },
  {
   "cell_type": "code",
   "execution_count": 88,
   "id": "30f13b09",
   "metadata": {},
   "outputs": [
    {
     "data": {
      "text/plain": [
       "array([10, 18, 28])"
      ]
     },
     "execution_count": 88,
     "metadata": {},
     "output_type": "execute_result"
    }
   ],
   "source": [
    "j*f"
   ]
  },
  {
   "cell_type": "code",
   "execution_count": 89,
   "id": "500bce8f",
   "metadata": {},
   "outputs": [
    {
     "data": {
      "text/plain": [
       "array([0.4       , 0.5       , 0.57142857])"
      ]
     },
     "execution_count": 89,
     "metadata": {},
     "output_type": "execute_result"
    }
   ],
   "source": [
    "j/f"
   ]
  },
  {
   "cell_type": "code",
   "execution_count": 90,
   "id": "4ece9722",
   "metadata": {},
   "outputs": [
    {
     "data": {
      "text/plain": [
       "array([-3, -3, -3])"
      ]
     },
     "execution_count": 90,
     "metadata": {},
     "output_type": "execute_result"
    }
   ],
   "source": [
    "j - f"
   ]
  },
  {
   "cell_type": "code",
   "execution_count": 91,
   "id": "0f270a2a",
   "metadata": {},
   "outputs": [
    {
     "data": {
      "text/plain": [
       "array([ 7,  9, 11])"
      ]
     },
     "execution_count": 91,
     "metadata": {},
     "output_type": "execute_result"
    }
   ],
   "source": [
    "np.add(j,f)"
   ]
  },
  {
   "cell_type": "code",
   "execution_count": 92,
   "id": "3f3f03c7",
   "metadata": {},
   "outputs": [
    {
     "data": {
      "text/plain": [
       "array([-3, -3, -3])"
      ]
     },
     "execution_count": 92,
     "metadata": {},
     "output_type": "execute_result"
    }
   ],
   "source": [
    "np.subtract(j,f)"
   ]
  },
  {
   "cell_type": "code",
   "execution_count": 93,
   "id": "a34bb077",
   "metadata": {},
   "outputs": [
    {
     "data": {
      "text/plain": [
       "array([10, 18, 28])"
      ]
     },
     "execution_count": 93,
     "metadata": {},
     "output_type": "execute_result"
    }
   ],
   "source": [
    "np.multiply(j,f)"
   ]
  },
  {
   "cell_type": "code",
   "execution_count": 94,
   "id": "c9c4b3ca",
   "metadata": {},
   "outputs": [
    {
     "data": {
      "text/plain": [
       "array([0.4       , 0.5       , 0.57142857])"
      ]
     },
     "execution_count": 94,
     "metadata": {},
     "output_type": "execute_result"
    }
   ],
   "source": [
    "np.divide(j,f)"
   ]
  },
  {
   "cell_type": "markdown",
   "id": "52faa368",
   "metadata": {},
   "source": [
    "### Recipocal <which is always divide by -1"
   ]
  },
  {
   "cell_type": "code",
   "execution_count": 95,
   "id": "ab6929e1",
   "metadata": {},
   "outputs": [
    {
     "data": {
      "text/plain": [
       "array([2, 3, 4])"
      ]
     },
     "execution_count": 95,
     "metadata": {},
     "output_type": "execute_result"
    }
   ],
   "source": [
    "j"
   ]
  },
  {
   "cell_type": "code",
   "execution_count": 96,
   "id": "0af27e3d",
   "metadata": {},
   "outputs": [
    {
     "data": {
      "text/plain": [
       "array([[0, 0, 0]], dtype=int32)"
      ]
     },
     "execution_count": 96,
     "metadata": {},
     "output_type": "execute_result"
    }
   ],
   "source": [
    "np.reciprocal([j])"
   ]
  },
  {
   "cell_type": "code",
   "execution_count": 97,
   "id": "c25c08f5",
   "metadata": {},
   "outputs": [
    {
     "data": {
      "text/plain": [
       "array([0.5       , 0.33333333, 2.5       ])"
      ]
     },
     "execution_count": 97,
     "metadata": {},
     "output_type": "execute_result"
    }
   ],
   "source": [
    "np.reciprocal([2,3,0.4])"
   ]
  },
  {
   "cell_type": "code",
   "execution_count": 98,
   "id": "ed9dcde1",
   "metadata": {},
   "outputs": [
    {
     "data": {
      "text/plain": [
       "array([100, 400], dtype=int32)"
      ]
     },
     "execution_count": 98,
     "metadata": {},
     "output_type": "execute_result"
    }
   ],
   "source": [
    "np.power([10,20],2)"
   ]
  },
  {
   "cell_type": "markdown",
   "id": "941a9e43",
   "metadata": {},
   "source": [
    "### Module function\n",
    "#### divide by one number into another"
   ]
  },
  {
   "cell_type": "code",
   "execution_count": 99,
   "id": "b9fac84f",
   "metadata": {},
   "outputs": [
    {
     "data": {
      "text/plain": [
       "array([3, 6, 2], dtype=int32)"
      ]
     },
     "execution_count": 99,
     "metadata": {},
     "output_type": "execute_result"
    }
   ],
   "source": [
    "np.mod([10,20,30],7)"
   ]
  },
  {
   "cell_type": "code",
   "execution_count": 100,
   "id": "5184cad1",
   "metadata": {},
   "outputs": [
    {
     "data": {
      "text/plain": [
       "array([0, 2, 0], dtype=int32)"
      ]
     },
     "execution_count": 100,
     "metadata": {},
     "output_type": "execute_result"
    }
   ],
   "source": [
    "np.mod([10,20,30],[2,3,5])"
   ]
  },
  {
   "cell_type": "code",
   "execution_count": null,
   "id": "eb77b8dd",
   "metadata": {},
   "outputs": [],
   "source": []
  },
  {
   "cell_type": "markdown",
   "id": "4a867a33",
   "metadata": {},
   "source": [
    "***"
   ]
  },
  {
   "cell_type": "markdown",
   "id": "28be87de",
   "metadata": {},
   "source": [
    "# Statistical Function"
   ]
  },
  {
   "cell_type": "code",
   "execution_count": 101,
   "id": "573dde08",
   "metadata": {},
   "outputs": [
    {
     "data": {
      "text/plain": [
       "array([[ 0,  1,  2,  3],\n",
       "       [ 4,  5,  6,  7],\n",
       "       [ 8,  9, 10, 11],\n",
       "       [12, 13, 14, 15]])"
      ]
     },
     "execution_count": 101,
     "metadata": {},
     "output_type": "execute_result"
    }
   ],
   "source": [
    "a = np.arange(16).reshape(4,4)\n",
    "a"
   ]
  },
  {
   "cell_type": "code",
   "execution_count": 102,
   "id": "aa39acef",
   "metadata": {},
   "outputs": [
    {
     "data": {
      "text/plain": [
       "15"
      ]
     },
     "execution_count": 102,
     "metadata": {},
     "output_type": "execute_result"
    }
   ],
   "source": [
    "#maximum value\n",
    "np.amax(a)"
   ]
  },
  {
   "cell_type": "code",
   "execution_count": 103,
   "id": "c1a88495",
   "metadata": {},
   "outputs": [
    {
     "data": {
      "text/plain": [
       "array([12, 13, 14, 15])"
      ]
     },
     "execution_count": 103,
     "metadata": {},
     "output_type": "execute_result"
    }
   ],
   "source": [
    "#colmun max\n",
    "np.amax(a,axis=0)"
   ]
  },
  {
   "cell_type": "code",
   "execution_count": 104,
   "id": "846c55ca",
   "metadata": {},
   "outputs": [
    {
     "data": {
      "text/plain": [
       "array([ 3,  7, 11, 15])"
      ]
     },
     "execution_count": 104,
     "metadata": {},
     "output_type": "execute_result"
    }
   ],
   "source": [
    "#row maximum\n",
    "np.amax(a,axis=1)"
   ]
  },
  {
   "cell_type": "code",
   "execution_count": 105,
   "id": "1651fbc8",
   "metadata": {},
   "outputs": [
    {
     "data": {
      "text/plain": [
       "0"
      ]
     },
     "execution_count": 105,
     "metadata": {},
     "output_type": "execute_result"
    }
   ],
   "source": [
    "#eqivalent function\n",
    "np.amin(a)"
   ]
  },
  {
   "cell_type": "code",
   "execution_count": 106,
   "id": "cf6f171e",
   "metadata": {},
   "outputs": [
    {
     "data": {
      "text/plain": [
       "array([0, 1, 2, 3])"
      ]
     },
     "execution_count": 106,
     "metadata": {},
     "output_type": "execute_result"
    }
   ],
   "source": [
    "np.amin(a,axis=0)"
   ]
  },
  {
   "cell_type": "code",
   "execution_count": 107,
   "id": "6b707248",
   "metadata": {},
   "outputs": [
    {
     "data": {
      "text/plain": [
       "array([ 0,  4,  8, 12])"
      ]
     },
     "execution_count": 107,
     "metadata": {},
     "output_type": "execute_result"
    }
   ],
   "source": [
    "np.amin(a,axis=1)"
   ]
  },
  {
   "cell_type": "markdown",
   "id": "955a58d3",
   "metadata": {},
   "source": [
    "### The diffrence b/w min value and maximumvalue"
   ]
  },
  {
   "cell_type": "code",
   "execution_count": 108,
   "id": "0712bc18",
   "metadata": {},
   "outputs": [
    {
     "data": {
      "text/plain": [
       "array([[ 0,  1,  2,  3],\n",
       "       [ 4,  5,  6,  7],\n",
       "       [ 8,  9, 10, 11],\n",
       "       [12, 13, 14, 15]])"
      ]
     },
     "execution_count": 108,
     "metadata": {},
     "output_type": "execute_result"
    }
   ],
   "source": [
    "a"
   ]
  },
  {
   "cell_type": "code",
   "execution_count": 109,
   "id": "c83e03e7",
   "metadata": {},
   "outputs": [
    {
     "data": {
      "text/plain": [
       "7.5"
      ]
     },
     "execution_count": 109,
     "metadata": {},
     "output_type": "execute_result"
    }
   ],
   "source": [
    "np.mean(a)"
   ]
  },
  {
   "cell_type": "code",
   "execution_count": 110,
   "id": "2c0f93ef",
   "metadata": {},
   "outputs": [
    {
     "data": {
      "text/plain": [
       "15"
      ]
     },
     "execution_count": 110,
     "metadata": {},
     "output_type": "execute_result"
    }
   ],
   "source": [
    "np.ptp(a)"
   ]
  },
  {
   "cell_type": "code",
   "execution_count": 111,
   "id": "8456cb1c",
   "metadata": {},
   "outputs": [
    {
     "data": {
      "text/plain": [
       "array([6., 7., 8., 9.])"
      ]
     },
     "execution_count": 111,
     "metadata": {},
     "output_type": "execute_result"
    }
   ],
   "source": [
    "np.mean(a,axis=0)"
   ]
  },
  {
   "cell_type": "code",
   "execution_count": 112,
   "id": "d5ff301a",
   "metadata": {},
   "outputs": [
    {
     "data": {
      "text/plain": [
       "array([ 1.5,  5.5,  9.5, 13.5])"
      ]
     },
     "execution_count": 112,
     "metadata": {},
     "output_type": "execute_result"
    }
   ],
   "source": [
    "np.mean(a,axis=1)"
   ]
  },
  {
   "cell_type": "code",
   "execution_count": 113,
   "id": "26ad78d6",
   "metadata": {},
   "outputs": [
    {
     "data": {
      "text/plain": [
       "7.5"
      ]
     },
     "execution_count": 113,
     "metadata": {},
     "output_type": "execute_result"
    }
   ],
   "source": [
    "#median== middle value\n",
    "np.median(a)"
   ]
  },
  {
   "cell_type": "code",
   "execution_count": 114,
   "id": "4b045b17",
   "metadata": {},
   "outputs": [
    {
     "data": {
      "text/plain": [
       "array([6., 7., 8., 9.])"
      ]
     },
     "execution_count": 114,
     "metadata": {},
     "output_type": "execute_result"
    }
   ],
   "source": [
    "np.median(a,axis=0)"
   ]
  },
  {
   "cell_type": "code",
   "execution_count": 115,
   "id": "d7212d7a",
   "metadata": {},
   "outputs": [
    {
     "data": {
      "text/plain": [
       "array([ 1.5,  5.5,  9.5, 13.5])"
      ]
     },
     "execution_count": 115,
     "metadata": {},
     "output_type": "execute_result"
    }
   ],
   "source": [
    "np.median(a,axis=1)"
   ]
  },
  {
   "cell_type": "markdown",
   "id": "e069daad",
   "metadata": {},
   "source": [
    "#### Percentail"
   ]
  },
  {
   "cell_type": "code",
   "execution_count": 116,
   "id": "5cf9aaac",
   "metadata": {},
   "outputs": [
    {
     "data": {
      "text/plain": [
       "7.5"
      ]
     },
     "execution_count": 116,
     "metadata": {},
     "output_type": "execute_result"
    }
   ],
   "source": [
    "#np.percentai(variable,how much percentage to be caliculated)\n",
    "np.percentile(a,50)"
   ]
  },
  {
   "cell_type": "code",
   "execution_count": 117,
   "id": "2fc975c7",
   "metadata": {},
   "outputs": [
    {
     "data": {
      "text/plain": [
       "3.75"
      ]
     },
     "execution_count": 117,
     "metadata": {},
     "output_type": "execute_result"
    }
   ],
   "source": [
    "np.percentile(a,25)"
   ]
  },
  {
   "cell_type": "markdown",
   "id": "35c35f9b",
   "metadata": {},
   "source": [
    "#### Caliculating Standard devation"
   ]
  },
  {
   "cell_type": "code",
   "execution_count": 118,
   "id": "42ccfd32",
   "metadata": {},
   "outputs": [
    {
     "data": {
      "text/plain": [
       "array([[ 0,  1,  2,  3],\n",
       "       [ 4,  5,  6,  7],\n",
       "       [ 8,  9, 10, 11],\n",
       "       [12, 13, 14, 15]])"
      ]
     },
     "execution_count": 118,
     "metadata": {},
     "output_type": "execute_result"
    }
   ],
   "source": [
    "a"
   ]
  },
  {
   "cell_type": "code",
   "execution_count": 119,
   "id": "71033467",
   "metadata": {},
   "outputs": [
    {
     "data": {
      "text/plain": [
       "4.6097722286464435"
      ]
     },
     "execution_count": 119,
     "metadata": {},
     "output_type": "execute_result"
    }
   ],
   "source": [
    "np.std(a)"
   ]
  },
  {
   "cell_type": "markdown",
   "id": "a43f4b14",
   "metadata": {},
   "source": [
    "#### Variance is the square of \"std\""
   ]
  },
  {
   "cell_type": "code",
   "execution_count": 120,
   "id": "65054cba",
   "metadata": {},
   "outputs": [
    {
     "data": {
      "text/plain": [
       "array([[ 0,  1,  2,  3],\n",
       "       [ 4,  5,  6,  7],\n",
       "       [ 8,  9, 10, 11],\n",
       "       [12, 13, 14, 15]])"
      ]
     },
     "execution_count": 120,
     "metadata": {},
     "output_type": "execute_result"
    }
   ],
   "source": [
    "a"
   ]
  },
  {
   "cell_type": "code",
   "execution_count": 121,
   "id": "f6dadc9b",
   "metadata": {},
   "outputs": [
    {
     "data": {
      "text/plain": [
       "21.25"
      ]
     },
     "execution_count": 121,
     "metadata": {},
     "output_type": "execute_result"
    }
   ],
   "source": [
    "np.var(a)"
   ]
  },
  {
   "cell_type": "code",
   "execution_count": null,
   "id": "65d2b9f1",
   "metadata": {},
   "outputs": [],
   "source": []
  },
  {
   "cell_type": "markdown",
   "id": "faf5c46d",
   "metadata": {},
   "source": [
    "***"
   ]
  },
  {
   "cell_type": "markdown",
   "id": "1d0fc78c",
   "metadata": {},
   "source": [
    "# Mathamatical functions"
   ]
  },
  {
   "cell_type": "code",
   "execution_count": 122,
   "id": "b01186c7",
   "metadata": {},
   "outputs": [
    {
     "data": {
      "text/plain": [
       "3.141592653589793"
      ]
     },
     "execution_count": 122,
     "metadata": {},
     "output_type": "execute_result"
    }
   ],
   "source": [
    "np.pi"
   ]
  },
  {
   "cell_type": "code",
   "execution_count": 123,
   "id": "e11ab5a1",
   "metadata": {},
   "outputs": [
    {
     "data": {
      "text/plain": [
       "180.0"
      ]
     },
     "execution_count": 123,
     "metadata": {},
     "output_type": "execute_result"
    }
   ],
   "source": [
    "#converting radian value to degree\n",
    "np.degrees(np.pi)"
   ]
  },
  {
   "cell_type": "code",
   "execution_count": 124,
   "id": "0a00d9f6",
   "metadata": {},
   "outputs": [
    {
     "data": {
      "text/plain": [
       "3.141592653589793"
      ]
     },
     "execution_count": 124,
     "metadata": {},
     "output_type": "execute_result"
    }
   ],
   "source": [
    "# converting degrees to radians\n",
    "np.deg2rad(180)"
   ]
  },
  {
   "cell_type": "markdown",
   "id": "f13b32b2",
   "metadata": {},
   "source": [
    "### Trignometry function"
   ]
  },
  {
   "cell_type": "code",
   "execution_count": 125,
   "id": "e491f980",
   "metadata": {},
   "outputs": [
    {
     "data": {
      "text/plain": [
       "array([0, 1, 2, 3, 4])"
      ]
     },
     "execution_count": 125,
     "metadata": {},
     "output_type": "execute_result"
    }
   ],
   "source": [
    "x = np.arange(5)\n",
    "x"
   ]
  },
  {
   "cell_type": "code",
   "execution_count": 126,
   "id": "e83ece81",
   "metadata": {},
   "outputs": [
    {
     "data": {
      "text/plain": [
       "array([ 0.        ,  0.84147098,  0.90929743,  0.14112001, -0.7568025 ])"
      ]
     },
     "execution_count": 126,
     "metadata": {},
     "output_type": "execute_result"
    }
   ],
   "source": [
    "np.sin(x)"
   ]
  },
  {
   "cell_type": "code",
   "execution_count": 127,
   "id": "0c8b72a8",
   "metadata": {},
   "outputs": [
    {
     "data": {
      "text/plain": [
       "array([[ 1.        ,  0.54030231, -0.41614684, -0.9899925 ],\n",
       "       [-0.65364362,  0.28366219,  0.96017029,  0.75390225],\n",
       "       [-0.14550003, -0.91113026, -0.83907153,  0.0044257 ],\n",
       "       [ 0.84385396,  0.90744678,  0.13673722, -0.75968791]])"
      ]
     },
     "execution_count": 127,
     "metadata": {},
     "output_type": "execute_result"
    }
   ],
   "source": [
    "np.cos(a)"
   ]
  },
  {
   "cell_type": "code",
   "execution_count": 128,
   "id": "cc7b9bab",
   "metadata": {},
   "outputs": [
    {
     "data": {
      "text/plain": [
       "array([[ 0.00000000e+00,  1.55740772e+00, -2.18503986e+00,\n",
       "        -1.42546543e-01],\n",
       "       [ 1.15782128e+00, -3.38051501e+00, -2.91006191e-01,\n",
       "         8.71447983e-01],\n",
       "       [-6.79971146e+00, -4.52315659e-01,  6.48360827e-01,\n",
       "        -2.25950846e+02],\n",
       "       [-6.35859929e-01,  4.63021133e-01,  7.24460662e+00,\n",
       "        -8.55993401e-01]])"
      ]
     },
     "execution_count": 128,
     "metadata": {},
     "output_type": "execute_result"
    }
   ],
   "source": [
    "np.tan(a)"
   ]
  },
  {
   "cell_type": "markdown",
   "id": "5c334af0",
   "metadata": {},
   "source": [
    "### Inverse function"
   ]
  },
  {
   "cell_type": "code",
   "execution_count": 129,
   "id": "e378e2be",
   "metadata": {},
   "outputs": [
    {
     "data": {
      "text/plain": [
       "array([0, 1, 2, 3, 4])"
      ]
     },
     "execution_count": 129,
     "metadata": {},
     "output_type": "execute_result"
    }
   ],
   "source": [
    "x"
   ]
  },
  {
   "cell_type": "code",
   "execution_count": 130,
   "id": "4091ab9f",
   "metadata": {},
   "outputs": [
    {
     "name": "stderr",
     "output_type": "stream",
     "text": [
      "<ipython-input-130-a6357a09db4c>:1: RuntimeWarning: invalid value encountered in arcsin\n",
      "  np.arcsin(x)\n"
     ]
    },
    {
     "data": {
      "text/plain": [
       "array([0.        , 1.57079633,        nan,        nan,        nan])"
      ]
     },
     "execution_count": 130,
     "metadata": {},
     "output_type": "execute_result"
    }
   ],
   "source": [
    "np.arcsin(x)"
   ]
  },
  {
   "cell_type": "code",
   "execution_count": 131,
   "id": "5911ac12",
   "metadata": {},
   "outputs": [
    {
     "name": "stderr",
     "output_type": "stream",
     "text": [
      "<ipython-input-131-d36a14897903>:1: RuntimeWarning: invalid value encountered in arccos\n",
      "  np.arccos(a)\n"
     ]
    },
    {
     "data": {
      "text/plain": [
       "array([[1.57079633, 0.        ,        nan,        nan],\n",
       "       [       nan,        nan,        nan,        nan],\n",
       "       [       nan,        nan,        nan,        nan],\n",
       "       [       nan,        nan,        nan,        nan]])"
      ]
     },
     "execution_count": 131,
     "metadata": {},
     "output_type": "execute_result"
    }
   ],
   "source": [
    "np.arccos(a)"
   ]
  },
  {
   "cell_type": "code",
   "execution_count": 132,
   "id": "063e3303",
   "metadata": {},
   "outputs": [
    {
     "data": {
      "text/plain": [
       "array([[0.        , 0.78539816, 1.10714872, 1.24904577],\n",
       "       [1.32581766, 1.37340077, 1.40564765, 1.42889927],\n",
       "       [1.44644133, 1.46013911, 1.47112767, 1.48013644],\n",
       "       [1.48765509, 1.49402444, 1.49948886, 1.50422816]])"
      ]
     },
     "execution_count": 132,
     "metadata": {},
     "output_type": "execute_result"
    }
   ],
   "source": [
    "np.arctan(a)"
   ]
  },
  {
   "cell_type": "markdown",
   "id": "7f760a1e",
   "metadata": {},
   "source": [
    "### Hyperbolic"
   ]
  },
  {
   "cell_type": "code",
   "execution_count": 133,
   "id": "791a473a",
   "metadata": {},
   "outputs": [
    {
     "data": {
      "text/plain": [
       "array([0, 1, 2, 3, 4])"
      ]
     },
     "execution_count": 133,
     "metadata": {},
     "output_type": "execute_result"
    }
   ],
   "source": [
    "x"
   ]
  },
  {
   "cell_type": "code",
   "execution_count": 134,
   "id": "d0d33d46",
   "metadata": {},
   "outputs": [
    {
     "data": {
      "text/plain": [
       "array([0.        , 0.88137359, 1.44363548, 1.81844646, 2.09471255])"
      ]
     },
     "execution_count": 134,
     "metadata": {},
     "output_type": "execute_result"
    }
   ],
   "source": [
    "np.arcsinh(x)"
   ]
  },
  {
   "cell_type": "code",
   "execution_count": 135,
   "id": "068e4221",
   "metadata": {},
   "outputs": [
    {
     "name": "stderr",
     "output_type": "stream",
     "text": [
      "<ipython-input-135-874a41cc42cc>:1: RuntimeWarning: invalid value encountered in arccosh\n",
      "  np.arccosh(x)\n"
     ]
    },
    {
     "data": {
      "text/plain": [
       "array([       nan, 0.        , 1.3169579 , 1.76274717, 2.06343707])"
      ]
     },
     "execution_count": 135,
     "metadata": {},
     "output_type": "execute_result"
    }
   ],
   "source": [
    "np.arccosh(x)"
   ]
  },
  {
   "cell_type": "code",
   "execution_count": 136,
   "id": "ba7818ea",
   "metadata": {},
   "outputs": [
    {
     "name": "stderr",
     "output_type": "stream",
     "text": [
      "<ipython-input-136-f3c4d45a4462>:1: RuntimeWarning: divide by zero encountered in arctanh\n",
      "  np.arctanh(a)\n",
      "<ipython-input-136-f3c4d45a4462>:1: RuntimeWarning: invalid value encountered in arctanh\n",
      "  np.arctanh(a)\n"
     ]
    },
    {
     "data": {
      "text/plain": [
       "array([[ 0., inf, nan, nan],\n",
       "       [nan, nan, nan, nan],\n",
       "       [nan, nan, nan, nan],\n",
       "       [nan, nan, nan, nan]])"
      ]
     },
     "execution_count": 136,
     "metadata": {},
     "output_type": "execute_result"
    }
   ],
   "source": [
    "np.arctanh(a)"
   ]
  },
  {
   "cell_type": "markdown",
   "id": "d59dc5c0",
   "metadata": {},
   "source": [
    "#### Round values"
   ]
  },
  {
   "cell_type": "code",
   "execution_count": 137,
   "id": "d27842d6",
   "metadata": {},
   "outputs": [
    {
     "data": {
      "text/plain": [
       "5.0"
      ]
     },
     "execution_count": 137,
     "metadata": {},
     "output_type": "execute_result"
    }
   ],
   "source": [
    "np.round(5.4)"
   ]
  },
  {
   "cell_type": "code",
   "execution_count": 138,
   "id": "8d0178ae",
   "metadata": {},
   "outputs": [
    {
     "data": {
      "text/plain": [
       "5.0"
      ]
     },
     "execution_count": 138,
     "metadata": {},
     "output_type": "execute_result"
    }
   ],
   "source": [
    "np.round(4.9)"
   ]
  },
  {
   "cell_type": "markdown",
   "id": "3edf879c",
   "metadata": {},
   "source": [
    "#### Ceil"
   ]
  },
  {
   "cell_type": "code",
   "execution_count": 139,
   "id": "74df9709",
   "metadata": {},
   "outputs": [
    {
     "data": {
      "text/plain": [
       "4.0"
      ]
     },
     "execution_count": 139,
     "metadata": {},
     "output_type": "execute_result"
    }
   ],
   "source": [
    "np.ceil(3.4)"
   ]
  },
  {
   "cell_type": "code",
   "execution_count": 140,
   "id": "ad9c8a58",
   "metadata": {},
   "outputs": [
    {
     "data": {
      "text/plain": [
       "5.0"
      ]
     },
     "execution_count": 140,
     "metadata": {},
     "output_type": "execute_result"
    }
   ],
   "source": [
    "np.ceil(4.9)"
   ]
  },
  {
   "cell_type": "code",
   "execution_count": 141,
   "id": "03d30493",
   "metadata": {},
   "outputs": [
    {
     "data": {
      "text/plain": [
       "5.0"
      ]
     },
     "execution_count": 141,
     "metadata": {},
     "output_type": "execute_result"
    }
   ],
   "source": [
    "np.ceil(4.5)"
   ]
  },
  {
   "cell_type": "markdown",
   "id": "1a7cebc2",
   "metadata": {},
   "source": [
    "#### Floor"
   ]
  },
  {
   "cell_type": "code",
   "execution_count": 142,
   "id": "0da53097",
   "metadata": {},
   "outputs": [
    {
     "data": {
      "text/plain": [
       "3.0"
      ]
     },
     "execution_count": 142,
     "metadata": {},
     "output_type": "execute_result"
    }
   ],
   "source": [
    "np.floor(3.2)"
   ]
  },
  {
   "cell_type": "markdown",
   "id": "d27b4966",
   "metadata": {},
   "source": [
    "#### Absolute value"
   ]
  },
  {
   "cell_type": "code",
   "execution_count": 143,
   "id": "af5897f0",
   "metadata": {},
   "outputs": [
    {
     "data": {
      "text/plain": [
       "5"
      ]
     },
     "execution_count": 143,
     "metadata": {},
     "output_type": "execute_result"
    }
   ],
   "source": [
    "np.abs(-5)"
   ]
  },
  {
   "cell_type": "code",
   "execution_count": 144,
   "id": "1bce7336",
   "metadata": {},
   "outputs": [
    {
     "data": {
      "text/plain": [
       "5"
      ]
     },
     "execution_count": 144,
     "metadata": {},
     "output_type": "execute_result"
    }
   ],
   "source": [
    "np.abs(5)"
   ]
  },
  {
   "cell_type": "code",
   "execution_count": null,
   "id": "16b5226f",
   "metadata": {},
   "outputs": [],
   "source": []
  },
  {
   "cell_type": "markdown",
   "id": "a03fd633",
   "metadata": {},
   "source": [
    "***"
   ]
  },
  {
   "cell_type": "markdown",
   "id": "57041268",
   "metadata": {},
   "source": [
    "# Identifiers"
   ]
  },
  {
   "cell_type": "code",
   "execution_count": 145,
   "id": "cad3780a",
   "metadata": {},
   "outputs": [
    {
     "data": {
      "text/plain": [
       "array([2, 3, 4])"
      ]
     },
     "execution_count": 145,
     "metadata": {},
     "output_type": "execute_result"
    }
   ],
   "source": [
    "y = np.array([2,3,4])\n",
    "y"
   ]
  },
  {
   "cell_type": "code",
   "execution_count": 146,
   "id": "3ae766af",
   "metadata": {},
   "outputs": [
    {
     "data": {
      "text/plain": [
       "1252063634320"
      ]
     },
     "execution_count": 146,
     "metadata": {},
     "output_type": "execute_result"
    }
   ],
   "source": [
    "#if we want to fimd the adress or memory location\n",
    "id(y)"
   ]
  },
  {
   "cell_type": "code",
   "execution_count": 147,
   "id": "1bb40c81",
   "metadata": {},
   "outputs": [],
   "source": [
    "g = y"
   ]
  },
  {
   "cell_type": "code",
   "execution_count": 148,
   "id": "2860ab79",
   "metadata": {},
   "outputs": [
    {
     "data": {
      "text/plain": [
       "1252063634320"
      ]
     },
     "execution_count": 148,
     "metadata": {},
     "output_type": "execute_result"
    }
   ],
   "source": [
    "id(g)\n",
    "#This means same adress our data will be stored \n",
    "#if we want to change any number and it will display same number\n",
    "#this means there is no storage in that location"
   ]
  },
  {
   "cell_type": "code",
   "execution_count": 149,
   "id": "609f83f8",
   "metadata": {},
   "outputs": [],
   "source": [
    "y[0] = -5"
   ]
  },
  {
   "cell_type": "code",
   "execution_count": 150,
   "id": "f0b6bc89",
   "metadata": {},
   "outputs": [
    {
     "data": {
      "text/plain": [
       "(array([-5,  3,  4]), array([-5,  3,  4]))"
      ]
     },
     "execution_count": 150,
     "metadata": {},
     "output_type": "execute_result"
    }
   ],
   "source": [
    "y,g"
   ]
  },
  {
   "cell_type": "markdown",
   "id": "2cf9d211",
   "metadata": {},
   "source": [
    "### View"
   ]
  },
  {
   "cell_type": "code",
   "execution_count": 151,
   "id": "f8d8b873",
   "metadata": {},
   "outputs": [
    {
     "data": {
      "text/plain": [
       "array([2, 3, 4])"
      ]
     },
     "execution_count": 151,
     "metadata": {},
     "output_type": "execute_result"
    }
   ],
   "source": [
    "a = np.array([2,3,4])\n",
    "a"
   ]
  },
  {
   "cell_type": "code",
   "execution_count": 152,
   "id": "2df1e18d",
   "metadata": {},
   "outputs": [
    {
     "data": {
      "text/plain": [
       "1252064038704"
      ]
     },
     "execution_count": 152,
     "metadata": {},
     "output_type": "execute_result"
    }
   ],
   "source": [
    "id(a)"
   ]
  },
  {
   "cell_type": "code",
   "execution_count": 153,
   "id": "8aff504c",
   "metadata": {},
   "outputs": [],
   "source": [
    "b = a.view() # Two diffrent memory location for same array"
   ]
  },
  {
   "cell_type": "code",
   "execution_count": 154,
   "id": "22d4e181",
   "metadata": {},
   "outputs": [
    {
     "data": {
      "text/plain": [
       "1252064066704"
      ]
     },
     "execution_count": 154,
     "metadata": {},
     "output_type": "execute_result"
    }
   ],
   "source": [
    "id(b) "
   ]
  },
  {
   "cell_type": "code",
   "execution_count": 155,
   "id": "55fdee71",
   "metadata": {},
   "outputs": [],
   "source": [
    "a[0] = -5"
   ]
  },
  {
   "cell_type": "code",
   "execution_count": 156,
   "id": "1fabbc6a",
   "metadata": {},
   "outputs": [
    {
     "data": {
      "text/plain": [
       "(array([-5,  3,  4]), array([-5,  3,  4]))"
      ]
     },
     "execution_count": 156,
     "metadata": {},
     "output_type": "execute_result"
    }
   ],
   "source": [
    "a,b #whenever you change the array it will effect to same array"
   ]
  },
  {
   "cell_type": "markdown",
   "id": "f26c6ce5",
   "metadata": {},
   "source": [
    "### Copy"
   ]
  },
  {
   "cell_type": "code",
   "execution_count": 157,
   "id": "06f5a72d",
   "metadata": {},
   "outputs": [],
   "source": [
    "h = np.array([2,3,4])"
   ]
  },
  {
   "cell_type": "code",
   "execution_count": 158,
   "id": "3111c0f1",
   "metadata": {},
   "outputs": [
    {
     "data": {
      "text/plain": [
       "1252064063632"
      ]
     },
     "execution_count": 158,
     "metadata": {},
     "output_type": "execute_result"
    }
   ],
   "source": [
    "id(h)"
   ]
  },
  {
   "cell_type": "code",
   "execution_count": 159,
   "id": "9824cc6a",
   "metadata": {},
   "outputs": [],
   "source": [
    "k = h.copy()"
   ]
  },
  {
   "cell_type": "code",
   "execution_count": 160,
   "id": "2d7adb03",
   "metadata": {},
   "outputs": [
    {
     "data": {
      "text/plain": [
       "1252064037456"
      ]
     },
     "execution_count": 160,
     "metadata": {},
     "output_type": "execute_result"
    }
   ],
   "source": [
    "id(k)"
   ]
  },
  {
   "cell_type": "code",
   "execution_count": 161,
   "id": "9a780dc6",
   "metadata": {},
   "outputs": [],
   "source": [
    "k[1] =400 "
   ]
  },
  {
   "cell_type": "code",
   "execution_count": 162,
   "id": "f077c8e6",
   "metadata": {},
   "outputs": [
    {
     "data": {
      "text/plain": [
       "(array([2, 3, 4]), array([  2, 400,   4]))"
      ]
     },
     "execution_count": 162,
     "metadata": {},
     "output_type": "execute_result"
    }
   ],
   "source": [
    "h,k  # it doesnt effect to another array"
   ]
  },
  {
   "cell_type": "code",
   "execution_count": null,
   "id": "d9b373f8",
   "metadata": {},
   "outputs": [],
   "source": []
  }
 ],
 "metadata": {
  "kernelspec": {
   "display_name": "Python 3",
   "language": "python",
   "name": "python3"
  },
  "language_info": {
   "codemirror_mode": {
    "name": "ipython",
    "version": 3
   },
   "file_extension": ".py",
   "mimetype": "text/x-python",
   "name": "python",
   "nbconvert_exporter": "python",
   "pygments_lexer": "ipython3",
   "version": "3.8.8"
  }
 },
 "nbformat": 4,
 "nbformat_minor": 5
}

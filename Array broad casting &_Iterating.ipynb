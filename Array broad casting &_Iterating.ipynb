{
 "cells": [
  {
   "cell_type": "markdown",
   "metadata": {},
   "source": [
    "# Array Broadcasting\n",
    "#when ever we do two arthamtic operations with two diffrent set then result how numpy reacts is called 'Broad casting'"
   ]
  },
  {
   "cell_type": "code",
   "execution_count": 1,
   "metadata": {},
   "outputs": [],
   "source": [
    "import numpy as np"
   ]
  },
  {
   "cell_type": "code",
   "execution_count": 2,
   "metadata": {
    "scrolled": true
   },
   "outputs": [],
   "source": [
    "a = np.array([1,2,3])\n",
    "b = np.array([3,4,5])\n"
   ]
  },
  {
   "cell_type": "code",
   "execution_count": 3,
   "metadata": {},
   "outputs": [
    {
     "data": {
      "text/plain": [
       "(array([1, 2, 3]), array([3, 4, 5]))"
      ]
     },
     "execution_count": 3,
     "metadata": {},
     "output_type": "execute_result"
    }
   ],
   "source": [
    "a,b"
   ]
  },
  {
   "cell_type": "code",
   "execution_count": 4,
   "metadata": {},
   "outputs": [
    {
     "data": {
      "text/plain": [
       "array([4, 6, 8])"
      ]
     },
     "execution_count": 4,
     "metadata": {},
     "output_type": "execute_result"
    }
   ],
   "source": [
    "a+b"
   ]
  },
  {
   "cell_type": "code",
   "execution_count": 5,
   "metadata": {},
   "outputs": [],
   "source": [
    "#same arthimatic on diffrent sets\n",
    "c = np.arange(12).reshape(4,3)\n",
    "d = np.array([3,4,5])"
   ]
  },
  {
   "cell_type": "code",
   "execution_count": 6,
   "metadata": {},
   "outputs": [
    {
     "data": {
      "text/plain": [
       "(array([[ 0,  1,  2],\n",
       "        [ 3,  4,  5],\n",
       "        [ 6,  7,  8],\n",
       "        [ 9, 10, 11]]),\n",
       " array([3, 4, 5]))"
      ]
     },
     "execution_count": 6,
     "metadata": {},
     "output_type": "execute_result"
    }
   ],
   "source": [
    "c,d"
   ]
  },
  {
   "cell_type": "code",
   "execution_count": 7,
   "metadata": {},
   "outputs": [
    {
     "data": {
      "text/plain": [
       "array([[ 3,  5,  7],\n",
       "       [ 6,  8, 10],\n",
       "       [ 9, 11, 13],\n",
       "       [12, 14, 16]])"
      ]
     },
     "execution_count": 7,
     "metadata": {},
     "output_type": "execute_result"
    }
   ],
   "source": [
    "c + d"
   ]
  },
  {
   "cell_type": "code",
   "execution_count": 8,
   "metadata": {},
   "outputs": [
    {
     "data": {
      "text/plain": [
       "array([[ 0,  4, 10],\n",
       "       [ 9, 16, 25],\n",
       "       [18, 28, 40],\n",
       "       [27, 40, 55]])"
      ]
     },
     "execution_count": 8,
     "metadata": {},
     "output_type": "execute_result"
    }
   ],
   "source": [
    "c * d"
   ]
  },
  {
   "cell_type": "code",
   "execution_count": 9,
   "metadata": {},
   "outputs": [
    {
     "data": {
      "text/plain": [
       "(array([[ 0,  1,  2],\n",
       "        [ 3,  4,  5],\n",
       "        [ 6,  7,  8],\n",
       "        [ 9, 10, 11]]),\n",
       " array([3, 4, 5]))"
      ]
     },
     "execution_count": 9,
     "metadata": {},
     "output_type": "execute_result"
    }
   ],
   "source": [
    "c,d"
   ]
  },
  {
   "cell_type": "code",
   "execution_count": 10,
   "metadata": {},
   "outputs": [
    {
     "data": {
      "text/plain": [
       "array([[0.  , 0.25, 0.4 ],\n",
       "       [1.  , 1.  , 1.  ],\n",
       "       [2.  , 1.75, 1.6 ],\n",
       "       [3.  , 2.5 , 2.2 ]])"
      ]
     },
     "execution_count": 10,
     "metadata": {},
     "output_type": "execute_result"
    }
   ],
   "source": [
    "c/d"
   ]
  },
  {
   "cell_type": "markdown",
   "metadata": {},
   "source": [
    "# Iterating array\n",
    "#your are trying to walk through out every single element in array.\n",
    "#which is not inbuilt in the numpy array\n",
    "#for-loop is used for iterating array\n",
    "# syn : for ele in np.nditer(variable):\n",
    "                                   print(ele)\n"
   ]
  },
  {
   "cell_type": "code",
   "execution_count": 11,
   "metadata": {},
   "outputs": [],
   "source": [
    "e  = np.array([2,4,5])"
   ]
  },
  {
   "cell_type": "code",
   "execution_count": 12,
   "metadata": {},
   "outputs": [
    {
     "name": "stdout",
     "output_type": "stream",
     "text": [
      "2\n",
      "4\n",
      "5\n"
     ]
    }
   ],
   "source": [
    "for ele in np.nditer(e):\n",
    "    print(ele)"
   ]
  },
  {
   "cell_type": "code",
   "execution_count": 13,
   "metadata": {},
   "outputs": [],
   "source": [
    "f = np.arange(0,1000,5)"
   ]
  },
  {
   "cell_type": "code",
   "execution_count": 14,
   "metadata": {},
   "outputs": [
    {
     "name": "stdout",
     "output_type": "stream",
     "text": [
      "0\n",
      "5\n",
      "10\n",
      "15\n",
      "20\n",
      "25\n",
      "30\n",
      "35\n",
      "40\n",
      "45\n",
      "50\n",
      "55\n",
      "60\n",
      "65\n",
      "70\n",
      "75\n",
      "80\n",
      "85\n",
      "90\n",
      "95\n",
      "100\n",
      "105\n",
      "110\n",
      "115\n",
      "120\n",
      "125\n",
      "130\n",
      "135\n",
      "140\n",
      "145\n",
      "150\n",
      "155\n",
      "160\n",
      "165\n",
      "170\n",
      "175\n",
      "180\n",
      "185\n",
      "190\n",
      "195\n",
      "200\n",
      "205\n",
      "210\n",
      "215\n",
      "220\n",
      "225\n",
      "230\n",
      "235\n",
      "240\n",
      "245\n",
      "250\n",
      "255\n",
      "260\n",
      "265\n",
      "270\n",
      "275\n",
      "280\n",
      "285\n",
      "290\n",
      "295\n",
      "300\n",
      "305\n",
      "310\n",
      "315\n",
      "320\n",
      "325\n",
      "330\n",
      "335\n",
      "340\n",
      "345\n",
      "350\n",
      "355\n",
      "360\n",
      "365\n",
      "370\n",
      "375\n",
      "380\n",
      "385\n",
      "390\n",
      "395\n",
      "400\n",
      "405\n",
      "410\n",
      "415\n",
      "420\n",
      "425\n",
      "430\n",
      "435\n",
      "440\n",
      "445\n",
      "450\n",
      "455\n",
      "460\n",
      "465\n",
      "470\n",
      "475\n",
      "480\n",
      "485\n",
      "490\n",
      "495\n",
      "500\n",
      "505\n",
      "510\n",
      "515\n",
      "520\n",
      "525\n",
      "530\n",
      "535\n",
      "540\n",
      "545\n",
      "550\n",
      "555\n",
      "560\n",
      "565\n",
      "570\n",
      "575\n",
      "580\n",
      "585\n",
      "590\n",
      "595\n",
      "600\n",
      "605\n",
      "610\n",
      "615\n",
      "620\n",
      "625\n",
      "630\n",
      "635\n",
      "640\n",
      "645\n",
      "650\n",
      "655\n",
      "660\n",
      "665\n",
      "670\n",
      "675\n",
      "680\n",
      "685\n",
      "690\n",
      "695\n",
      "700\n",
      "705\n",
      "710\n",
      "715\n",
      "720\n",
      "725\n",
      "730\n",
      "735\n",
      "740\n",
      "745\n",
      "750\n",
      "755\n",
      "760\n",
      "765\n",
      "770\n",
      "775\n",
      "780\n",
      "785\n",
      "790\n",
      "795\n",
      "800\n",
      "805\n",
      "810\n",
      "815\n",
      "820\n",
      "825\n",
      "830\n",
      "835\n",
      "840\n",
      "845\n",
      "850\n",
      "855\n",
      "860\n",
      "865\n",
      "870\n",
      "875\n",
      "880\n",
      "885\n",
      "890\n",
      "895\n",
      "900\n",
      "905\n",
      "910\n",
      "915\n",
      "920\n",
      "925\n",
      "930\n",
      "935\n",
      "940\n",
      "945\n",
      "950\n",
      "955\n",
      "960\n",
      "965\n",
      "970\n",
      "975\n",
      "980\n",
      "985\n",
      "990\n",
      "995\n"
     ]
    }
   ],
   "source": [
    "for ele in np.nditer(f):\n",
    "    print(ele)"
   ]
  },
  {
   "cell_type": "code",
   "execution_count": 15,
   "metadata": {},
   "outputs": [
    {
     "name": "stdout",
     "output_type": "stream",
     "text": [
      "3\n",
      "8\n",
      "13\n",
      "18\n",
      "23\n",
      "28\n",
      "33\n",
      "38\n",
      "43\n",
      "48\n",
      "53\n",
      "58\n",
      "63\n",
      "68\n",
      "73\n",
      "78\n",
      "83\n",
      "88\n",
      "93\n",
      "98\n",
      "103\n",
      "108\n",
      "113\n",
      "118\n",
      "123\n",
      "128\n",
      "133\n",
      "138\n",
      "143\n",
      "148\n",
      "153\n",
      "158\n",
      "163\n",
      "168\n",
      "173\n",
      "178\n",
      "183\n",
      "188\n",
      "193\n",
      "198\n",
      "203\n",
      "208\n",
      "213\n",
      "218\n",
      "223\n",
      "228\n",
      "233\n",
      "238\n",
      "243\n",
      "248\n",
      "253\n",
      "258\n",
      "263\n",
      "268\n",
      "273\n",
      "278\n",
      "283\n",
      "288\n",
      "293\n",
      "298\n",
      "303\n",
      "308\n",
      "313\n",
      "318\n",
      "323\n",
      "328\n",
      "333\n",
      "338\n",
      "343\n",
      "348\n",
      "353\n",
      "358\n",
      "363\n",
      "368\n",
      "373\n",
      "378\n",
      "383\n",
      "388\n",
      "393\n",
      "398\n",
      "403\n",
      "408\n",
      "413\n",
      "418\n",
      "423\n",
      "428\n",
      "433\n",
      "438\n",
      "443\n",
      "448\n",
      "453\n",
      "458\n",
      "463\n",
      "468\n",
      "473\n",
      "478\n",
      "483\n",
      "488\n",
      "493\n",
      "498\n",
      "503\n",
      "508\n",
      "513\n",
      "518\n",
      "523\n",
      "528\n",
      "533\n",
      "538\n",
      "543\n",
      "548\n",
      "553\n",
      "558\n",
      "563\n",
      "568\n",
      "573\n",
      "578\n",
      "583\n",
      "588\n",
      "593\n",
      "598\n",
      "603\n",
      "608\n",
      "613\n",
      "618\n",
      "623\n",
      "628\n",
      "633\n",
      "638\n",
      "643\n",
      "648\n",
      "653\n",
      "658\n",
      "663\n",
      "668\n",
      "673\n",
      "678\n",
      "683\n",
      "688\n",
      "693\n",
      "698\n",
      "703\n",
      "708\n",
      "713\n",
      "718\n",
      "723\n",
      "728\n",
      "733\n",
      "738\n",
      "743\n",
      "748\n",
      "753\n",
      "758\n",
      "763\n",
      "768\n",
      "773\n",
      "778\n",
      "783\n",
      "788\n",
      "793\n",
      "798\n",
      "803\n",
      "808\n",
      "813\n",
      "818\n",
      "823\n",
      "828\n",
      "833\n",
      "838\n",
      "843\n",
      "848\n",
      "853\n",
      "858\n",
      "863\n",
      "868\n",
      "873\n",
      "878\n",
      "883\n",
      "888\n",
      "893\n",
      "898\n",
      "903\n",
      "908\n",
      "913\n",
      "918\n",
      "923\n",
      "928\n",
      "933\n",
      "938\n",
      "943\n",
      "948\n",
      "953\n",
      "958\n",
      "963\n",
      "968\n",
      "973\n",
      "978\n",
      "983\n",
      "988\n",
      "993\n",
      "998\n"
     ]
    }
   ],
   "source": [
    "for ele in np.nditer(f):\n",
    "    print(ele+3)"
   ]
  },
  {
   "cell_type": "code",
   "execution_count": 16,
   "metadata": {},
   "outputs": [
    {
     "name": "stdout",
     "output_type": "stream",
     "text": [
      "0.4\n",
      "0.8\n",
      "1.0\n"
     ]
    }
   ],
   "source": [
    "for ele in np.nditer(e):\n",
    "    print(ele/5)"
   ]
  },
  {
   "cell_type": "code",
   "execution_count": 17,
   "metadata": {},
   "outputs": [
    {
     "name": "stdout",
     "output_type": "stream",
     "text": [
      "0.6666666666666666\n",
      "1.3333333333333333\n",
      "1.6666666666666667\n"
     ]
    }
   ],
   "source": [
    "for ele in np.nditer(e):\n",
    "    print(ele/3)"
   ]
  },
  {
   "cell_type": "code",
   "execution_count": null,
   "metadata": {},
   "outputs": [],
   "source": []
  },
  {
   "cell_type": "code",
   "execution_count": null,
   "metadata": {},
   "outputs": [],
   "source": []
  },
  {
   "cell_type": "code",
   "execution_count": null,
   "metadata": {},
   "outputs": [],
   "source": []
  }
 ],
 "metadata": {
  "celltoolbar": "Raw Cell Format",
  "kernelspec": {
   "display_name": "Python 3",
   "language": "python",
   "name": "python3"
  },
  "language_info": {
   "codemirror_mode": {
    "name": "ipython",
    "version": 3
   },
   "file_extension": ".py",
   "mimetype": "text/x-python",
   "name": "python",
   "nbconvert_exporter": "python",
   "pygments_lexer": "ipython3",
   "version": "3.8.8"
  }
 },
 "nbformat": 4,
 "nbformat_minor": 2
}

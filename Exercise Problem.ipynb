{
 "cells": [
  {
   "cell_type": "markdown",
   "metadata": {},
   "source": [
    "# Numpy Exerise problem\n",
    "\n",
    "#1.Given below numpy array.write an expression which will replace all negative values with 1000\n",
    "  #  .arr=np.array([5,0,-3,9,10,-5,-1])"
   ]
  },
  {
   "cell_type": "code",
   "execution_count": 1,
   "metadata": {},
   "outputs": [],
   "source": [
    "#replace all negative values with 1000"
   ]
  },
  {
   "cell_type": "code",
   "execution_count": 2,
   "metadata": {},
   "outputs": [],
   "source": [
    "import numpy as np"
   ]
  },
  {
   "cell_type": "code",
   "execution_count": 3,
   "metadata": {},
   "outputs": [],
   "source": [
    "arr = np.array([5,0,-3,9,10,-5,-1])"
   ]
  },
  {
   "cell_type": "code",
   "execution_count": 4,
   "metadata": {},
   "outputs": [],
   "source": [
    "#arr[2] = 1000"
   ]
  },
  {
   "cell_type": "code",
   "execution_count": 5,
   "metadata": {},
   "outputs": [],
   "source": [
    "#arr"
   ]
  },
  {
   "cell_type": "code",
   "execution_count": 6,
   "metadata": {},
   "outputs": [
    {
     "data": {
      "text/plain": [
       "array([False, False,  True, False, False,  True,  True])"
      ]
     },
     "execution_count": 6,
     "metadata": {},
     "output_type": "execute_result"
    }
   ],
   "source": [
    "arr = np.array([5,0,-3,9,10,-5,-1])\n",
    "arr<0"
   ]
  },
  {
   "cell_type": "code",
   "execution_count": 7,
   "metadata": {},
   "outputs": [
    {
     "data": {
      "text/plain": [
       "array([ 5,  0, -3,  9, 10, -5, -1])"
      ]
     },
     "execution_count": 7,
     "metadata": {},
     "output_type": "execute_result"
    }
   ],
   "source": [
    "arr"
   ]
  },
  {
   "cell_type": "code",
   "execution_count": 8,
   "metadata": {},
   "outputs": [
    {
     "data": {
      "text/plain": [
       "array([False, False,  True, False, False,  True,  True])"
      ]
     },
     "execution_count": 8,
     "metadata": {},
     "output_type": "execute_result"
    }
   ],
   "source": [
    "arr<0"
   ]
  },
  {
   "cell_type": "code",
   "execution_count": 9,
   "metadata": {},
   "outputs": [],
   "source": [
    "arr[arr<0]=1000"
   ]
  },
  {
   "cell_type": "code",
   "execution_count": 10,
   "metadata": {},
   "outputs": [
    {
     "data": {
      "text/plain": [
       "array([   5,    0, 1000,    9,   10, 1000, 1000])"
      ]
     },
     "execution_count": 10,
     "metadata": {},
     "output_type": "execute_result"
    }
   ],
   "source": [
    "arr"
   ]
  },
  {
   "cell_type": "markdown",
   "metadata": {},
   "source": [
    "# 3.Create numpy array values between 1000 and 2000,all numbers\n",
    "# divisible by 5 but not 15."
   ]
  },
  {
   "cell_type": "code",
   "execution_count": 11,
   "metadata": {},
   "outputs": [
    {
     "name": "stdout",
     "output_type": "stream",
     "text": [
      "1000\n",
      "1010\n",
      "1015\n",
      "1025\n",
      "1030\n",
      "1040\n",
      "1045\n",
      "1055\n",
      "1060\n",
      "1070\n",
      "1075\n",
      "1085\n",
      "1090\n",
      "1100\n",
      "1105\n",
      "1115\n",
      "1120\n",
      "1130\n",
      "1135\n",
      "1145\n",
      "1150\n",
      "1160\n",
      "1165\n",
      "1175\n",
      "1180\n",
      "1190\n",
      "1195\n",
      "1205\n",
      "1210\n",
      "1220\n",
      "1225\n",
      "1235\n",
      "1240\n",
      "1250\n",
      "1255\n",
      "1265\n",
      "1270\n",
      "1280\n",
      "1285\n",
      "1295\n",
      "1300\n",
      "1310\n",
      "1315\n",
      "1325\n",
      "1330\n",
      "1340\n",
      "1345\n",
      "1355\n",
      "1360\n",
      "1370\n",
      "1375\n",
      "1385\n",
      "1390\n",
      "1400\n",
      "1405\n",
      "1415\n",
      "1420\n",
      "1430\n",
      "1435\n",
      "1445\n",
      "1450\n",
      "1460\n",
      "1465\n",
      "1475\n",
      "1480\n",
      "1490\n",
      "1495\n",
      "1505\n",
      "1510\n",
      "1520\n",
      "1525\n",
      "1535\n",
      "1540\n",
      "1550\n",
      "1555\n",
      "1565\n",
      "1570\n",
      "1580\n",
      "1585\n",
      "1595\n",
      "1600\n",
      "1610\n",
      "1615\n",
      "1625\n",
      "1630\n",
      "1640\n",
      "1645\n",
      "1655\n",
      "1660\n",
      "1670\n",
      "1675\n",
      "1685\n",
      "1690\n",
      "1700\n",
      "1705\n",
      "1715\n",
      "1720\n",
      "1730\n",
      "1735\n",
      "1745\n",
      "1750\n",
      "1760\n",
      "1765\n",
      "1775\n",
      "1780\n",
      "1790\n",
      "1795\n",
      "1805\n",
      "1810\n",
      "1820\n",
      "1825\n",
      "1835\n",
      "1840\n",
      "1850\n",
      "1855\n",
      "1865\n",
      "1870\n",
      "1880\n",
      "1885\n",
      "1895\n",
      "1900\n",
      "1910\n",
      "1915\n",
      "1925\n",
      "1930\n",
      "1940\n",
      "1945\n",
      "1955\n",
      "1960\n",
      "1970\n",
      "1975\n",
      "1985\n",
      "1990\n"
     ]
    }
   ],
   "source": [
    "for i in range(1000,2000,5):\n",
    "    if (i % 15 !=0):\n",
    "        print(i)"
   ]
  },
  {
   "cell_type": "code",
   "execution_count": 12,
   "metadata": {},
   "outputs": [
    {
     "data": {
      "text/plain": [
       "array([1000, 1010, 1015, 1025, 1030, 1040, 1045, 1055, 1060, 1070, 1075,\n",
       "       1085, 1090, 1100, 1105, 1115, 1120, 1130, 1135, 1145, 1150, 1160,\n",
       "       1165, 1175, 1180, 1190, 1195, 1205, 1210, 1220, 1225, 1235, 1240,\n",
       "       1250, 1255, 1265, 1270, 1280, 1285, 1295, 1300, 1310, 1315, 1325,\n",
       "       1330, 1340, 1345, 1355, 1360, 1370, 1375, 1385, 1390, 1400, 1405,\n",
       "       1415, 1420, 1430, 1435, 1445, 1450, 1460, 1465, 1475, 1480, 1490,\n",
       "       1495, 1505, 1510, 1520, 1525, 1535, 1540, 1550, 1555, 1565, 1570,\n",
       "       1580, 1585, 1595, 1600, 1610, 1615, 1625, 1630, 1640, 1645, 1655,\n",
       "       1660, 1670, 1675, 1685, 1690, 1700, 1705, 1715, 1720, 1730, 1735,\n",
       "       1745, 1750, 1760, 1765, 1775, 1780, 1790, 1795, 1805, 1810, 1820,\n",
       "       1825, 1835, 1840, 1850, 1855, 1865, 1870, 1880, 1885, 1895, 1900,\n",
       "       1910, 1915, 1925, 1930, 1940, 1945, 1955, 1960, 1970, 1975, 1985,\n",
       "       1990])"
      ]
     },
     "execution_count": 12,
     "metadata": {},
     "output_type": "execute_result"
    }
   ],
   "source": [
    "arr=np.arange(1000,2000,5)\n",
    "arr[arr % 15!=0]"
   ]
  },
  {
   "cell_type": "markdown",
   "metadata": {},
   "source": [
    "# 4.Write a funtion which caliculate std of 1-d array result with inbuilt function\n",
    "#defcal_std(arr)\n"
   ]
  },
  {
   "cell_type": "code",
   "execution_count": 13,
   "metadata": {
    "scrolled": true
   },
   "outputs": [
    {
     "data": {
      "text/plain": [
       "array([ -0.74588005,  -6.65308128,  -2.43979153,  -8.09295899,\n",
       "       -11.09501807,   5.92350906,  10.12307202,   1.56902884,\n",
       "        -5.6771885 ,   0.76425999,   8.60806148,  28.19033484,\n",
       "        -5.75874502, -15.27930594,  -8.28412144,  10.32625589,\n",
       "         1.09407754,  11.15987334,   2.17761187,  -4.77332301,\n",
       "       -15.81293142,  -7.75445492,   1.90350583,   4.69398421,\n",
       "       -15.60574195,   3.03029007,   6.53336395,  -1.46731327,\n",
       "        -8.28937985,  -0.44016339,   9.50116728,  -0.11371762,\n",
       "         3.62181295,  -3.03922921,   2.23780596,  -3.15886571,\n",
       "       -18.32298987,  -0.91132135,   7.35845653,   6.84472592,\n",
       "        30.52387721,   7.04585082,  -0.22230663,  -8.95920988,\n",
       "        -7.35542754,   6.13989585,   3.94684885,   1.75283716,\n",
       "       -18.40373139,   4.56861408, -18.05453071,   7.29506178,\n",
       "       -11.74882793,   1.07119462,   4.05724255,   7.10112505,\n",
       "        -4.00681845,  12.64287135,   3.28582871,   5.51531914,\n",
       "        14.04174506,  18.33931701,  -5.54485404,  12.04094952,\n",
       "        -4.05234643, -10.09770204,  -4.21286983,   4.03836062,\n",
       "         7.41408833,  -5.88727912,   7.31695868,   4.46706949,\n",
       "         9.87324817,  -4.56055351,   7.57111675, -13.63753345,\n",
       "        -4.6333925 , -12.54718628,  -2.47598453,  11.87173365,\n",
       "         6.0228048 ,   3.96378591,   6.04173904,   0.81539397,\n",
       "        13.40685051,   5.9160603 , -10.15152882,   0.93019405,\n",
       "        12.39534323, -12.80468883,   1.45500201,  -2.15744521,\n",
       "         4.17333557,  -6.73811356,   8.64157599,   1.06784372,\n",
       "        17.1843707 ,  -8.84567829,   8.99693474,  10.70584117])"
      ]
     },
     "execution_count": 13,
     "metadata": {},
     "output_type": "execute_result"
    }
   ],
   "source": [
    "a = np.random.normal(0,10,100)\n",
    "a"
   ]
  },
  {
   "cell_type": "code",
   "execution_count": 14,
   "metadata": {},
   "outputs": [
    {
     "data": {
      "text/plain": [
       "9.237412747883337"
      ]
     },
     "execution_count": 14,
     "metadata": {},
     "output_type": "execute_result"
    }
   ],
   "source": [
    "np.std(a)"
   ]
  },
  {
   "cell_type": "code",
   "execution_count": 15,
   "metadata": {},
   "outputs": [],
   "source": [
    "#numpy formate\n",
    "#new function\n",
    "def cal_std(arr):\n",
    "    mean = np.mean(a)\n",
    "    diff = a - mean       #diff= define new value\n",
    "    square = np.sum(np.power(diff , 2))/len(a) \n",
    "    root = np.power(square,0.5)        # 0.5 is the exponent\n",
    "    return root"
   ]
  },
  {
   "cell_type": "code",
   "execution_count": 16,
   "metadata": {},
   "outputs": [
    {
     "data": {
      "text/plain": [
       "9.237412747883337"
      ]
     },
     "execution_count": 16,
     "metadata": {},
     "output_type": "execute_result"
    }
   ],
   "source": [
    "cal_std(a)"
   ]
  },
  {
   "cell_type": "code",
   "execution_count": null,
   "metadata": {},
   "outputs": [],
   "source": []
  }
 ],
 "metadata": {
  "kernelspec": {
   "display_name": "Python 3",
   "language": "python",
   "name": "python3"
  },
  "language_info": {
   "codemirror_mode": {
    "name": "ipython",
    "version": 3
   },
   "file_extension": ".py",
   "mimetype": "text/x-python",
   "name": "python",
   "nbconvert_exporter": "python",
   "pygments_lexer": "ipython3",
   "version": "3.8.8"
  }
 },
 "nbformat": 4,
 "nbformat_minor": 2
}

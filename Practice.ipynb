{
 "cells": [
  {
   "cell_type": "code",
   "execution_count": 1,
   "id": "0f4a5c3b",
   "metadata": {},
   "outputs": [],
   "source": [
    "import numpy as np"
   ]
  },
  {
   "cell_type": "code",
   "execution_count": 2,
   "id": "62edbb1d",
   "metadata": {},
   "outputs": [
    {
     "data": {
      "text/plain": [
       "array([[1, 2, 3]])"
      ]
     },
     "execution_count": 2,
     "metadata": {},
     "output_type": "execute_result"
    }
   ],
   "source": [
    "np.array([1,2,3],ndmin=2)"
   ]
  },
  {
   "cell_type": "code",
   "execution_count": 3,
   "id": "0902ee8b",
   "metadata": {},
   "outputs": [
    {
     "data": {
      "text/plain": [
       "array([[[1, 2, 3],\n",
       "        [3, 4, 5]]])"
      ]
     },
     "execution_count": 3,
     "metadata": {},
     "output_type": "execute_result"
    }
   ],
   "source": [
    "np.array([[1,2,3],[3,4,5]],ndmin=3)"
   ]
  },
  {
   "cell_type": "code",
   "execution_count": 4,
   "id": "ec33800a",
   "metadata": {},
   "outputs": [
    {
     "data": {
      "text/plain": [
       "array([[[[[[[[[[[[[[[[[[[[[[[[[[[[[[1, 2, 3],\n",
       "                                   [4, 5, 6],\n",
       "                                   [7, 8, 9]]]]]]]]]]]]]]]]]]]]]]]]]]]]]])"
      ]
     },
     "execution_count": 4,
     "metadata": {},
     "output_type": "execute_result"
    }
   ],
   "source": [
    "np.array([[1,2,3],[4,5,6],[7,8,9]],ndmin=30)"
   ]
  },
  {
   "cell_type": "code",
   "execution_count": 5,
   "id": "5e0695a8",
   "metadata": {},
   "outputs": [
    {
     "data": {
      "text/plain": [
       "array([[1, 2, 3],\n",
       "       [4, 5, 6],\n",
       "       [7, 8, 9]])"
      ]
     },
     "execution_count": 5,
     "metadata": {},
     "output_type": "execute_result"
    }
   ],
   "source": [
    "x = np.array([[1,2,3],[4,5,6],[7,8,9]],ndmin=2)\n",
    "x"
   ]
  },
  {
   "cell_type": "code",
   "execution_count": 6,
   "id": "aba77790",
   "metadata": {},
   "outputs": [
    {
     "data": {
      "text/plain": [
       "1"
      ]
     },
     "execution_count": 6,
     "metadata": {},
     "output_type": "execute_result"
    }
   ],
   "source": [
    "x[0,0]"
   ]
  },
  {
   "cell_type": "code",
   "execution_count": 7,
   "id": "bf0c5efe",
   "metadata": {},
   "outputs": [
    {
     "data": {
      "text/plain": [
       "array([[[1, 2, 3],\n",
       "        [4, 5, 6],\n",
       "        [7, 8, 9]]])"
      ]
     },
     "execution_count": 7,
     "metadata": {},
     "output_type": "execute_result"
    }
   ],
   "source": [
    "x = np.array([[1,2,3],[4,5,6],[7,8,9]],ndmin=3)\n",
    "x"
   ]
  },
  {
   "cell_type": "code",
   "execution_count": 8,
   "id": "c308ca3c",
   "metadata": {},
   "outputs": [
    {
     "data": {
      "text/plain": [
       "array([1, 2, 3])"
      ]
     },
     "execution_count": 8,
     "metadata": {},
     "output_type": "execute_result"
    }
   ],
   "source": [
    "x[0,0]"
   ]
  },
  {
   "cell_type": "code",
   "execution_count": 9,
   "id": "6ef0341d",
   "metadata": {},
   "outputs": [
    {
     "data": {
      "text/plain": [
       "array([(1, 2), (3, 4)], dtype=[('a', '<i4'), ('b', '<i4')])"
      ]
     },
     "execution_count": 9,
     "metadata": {},
     "output_type": "execute_result"
    }
   ],
   "source": [
    "# data type consisting of more than one element\n",
    "x = np.array([(1,2),(3,4)], dtype=[('a','<i4'),('b','<i4')])\n",
    "x"
   ]
  },
  {
   "cell_type": "code",
   "execution_count": 10,
   "id": "5c106621",
   "metadata": {},
   "outputs": [
    {
     "data": {
      "text/plain": [
       "numpy.int32"
      ]
     },
     "execution_count": 10,
     "metadata": {},
     "output_type": "execute_result"
    }
   ],
   "source": [
    "type(x[0][0])"
   ]
  },
  {
   "cell_type": "code",
   "execution_count": 11,
   "id": "ad07e338",
   "metadata": {},
   "outputs": [
    {
     "data": {
      "text/plain": [
       "array([1, 3])"
      ]
     },
     "execution_count": 11,
     "metadata": {},
     "output_type": "execute_result"
    }
   ],
   "source": [
    "x['a']"
   ]
  },
  {
   "cell_type": "code",
   "execution_count": 12,
   "id": "53c557b2",
   "metadata": {},
   "outputs": [
    {
     "data": {
      "text/plain": [
       "array([2, 4])"
      ]
     },
     "execution_count": 12,
     "metadata": {},
     "output_type": "execute_result"
    }
   ],
   "source": [
    "x['b']"
   ]
  },
  {
   "cell_type": "code",
   "execution_count": 13,
   "id": "576438be",
   "metadata": {},
   "outputs": [
    {
     "data": {
      "text/plain": [
       "array([(1., 2), (3., 4)], dtype=[('a', '<f2'), ('b', '<i4')])"
      ]
     },
     "execution_count": 13,
     "metadata": {},
     "output_type": "execute_result"
    }
   ],
   "source": [
    "x = np.array([(1,2),(3,4)], dtype=[('a','<f2'),('b','<i4')])\n",
    "x"
   ]
  },
  {
   "cell_type": "code",
   "execution_count": 14,
   "id": "332f083c",
   "metadata": {},
   "outputs": [
    {
     "data": {
      "text/plain": [
       "numpy.float16"
      ]
     },
     "execution_count": 14,
     "metadata": {},
     "output_type": "execute_result"
    }
   ],
   "source": [
    "type(x[0][0])"
   ]
  },
  {
   "cell_type": "code",
   "execution_count": 15,
   "id": "06fd1d2a",
   "metadata": {},
   "outputs": [
    {
     "data": {
      "text/plain": [
       "array([2, 4])"
      ]
     },
     "execution_count": 15,
     "metadata": {},
     "output_type": "execute_result"
    }
   ],
   "source": [
    "x['b']"
   ]
  },
  {
   "cell_type": "code",
   "execution_count": 16,
   "id": "b2d5d5d6",
   "metadata": {},
   "outputs": [
    {
     "data": {
      "text/plain": [
       "array([1., 3.], dtype=float16)"
      ]
     },
     "execution_count": 16,
     "metadata": {},
     "output_type": "execute_result"
    }
   ],
   "source": [
    "x['a']"
   ]
  },
  {
   "cell_type": "markdown",
   "id": "cc8ec6a8",
   "metadata": {},
   "source": [
    "#### creating a array for sub_classes"
   ]
  },
  {
   "cell_type": "code",
   "execution_count": 17,
   "id": "b1bfc990",
   "metadata": {},
   "outputs": [
    {
     "data": {
      "text/plain": [
       "array([[1, 2],\n",
       "       [3, 4]])"
      ]
     },
     "execution_count": 17,
     "metadata": {},
     "output_type": "execute_result"
    }
   ],
   "source": [
    "np.array(np.mat('1 2; 3 4'))"
   ]
  },
  {
   "cell_type": "code",
   "execution_count": 18,
   "id": "77cf1167",
   "metadata": {},
   "outputs": [
    {
     "data": {
      "text/plain": [
       "matrix([[1, 2],\n",
       "        [3, 4]])"
      ]
     },
     "execution_count": 18,
     "metadata": {},
     "output_type": "execute_result"
    }
   ],
   "source": [
    "np.array(np.mat('1 2 ; 3 4'),subok=True)"
   ]
  },
  {
   "cell_type": "markdown",
   "id": "d8803eb4",
   "metadata": {},
   "source": [
    "### convert the input to anarray"
   ]
  },
  {
   "cell_type": "code",
   "execution_count": 19,
   "id": "cb7548d0",
   "metadata": {},
   "outputs": [
    {
     "data": {
      "text/plain": [
       "array([1, 2])"
      ]
     },
     "execution_count": 19,
     "metadata": {},
     "output_type": "execute_result"
    }
   ],
   "source": [
    "a = np.array([1,2]) #exsisting array are not copied\n",
    "a"
   ]
  },
  {
   "cell_type": "code",
   "execution_count": 20,
   "id": "ef0f0743",
   "metadata": {},
   "outputs": [
    {
     "data": {
      "text/plain": [
       "True"
      ]
     },
     "execution_count": 20,
     "metadata": {},
     "output_type": "execute_result"
    }
   ],
   "source": [
    "np.asarray(a) is a"
   ]
  },
  {
   "cell_type": "code",
   "execution_count": 21,
   "id": "7d773649",
   "metadata": {},
   "outputs": [
    {
     "data": {
      "text/plain": [
       "array([1., 2.], dtype=float32)"
      ]
     },
     "execution_count": 21,
     "metadata": {},
     "output_type": "execute_result"
    }
   ],
   "source": [
    "# if dtype is set array is copied only if dtype does not match\n",
    "a = np.array([1,2],dtype=np.float32)\n",
    "a"
   ]
  },
  {
   "cell_type": "markdown",
   "id": "6102c735",
   "metadata": {},
   "source": [
    "#### ndarray subclasses are not passed through"
   ]
  },
  {
   "cell_type": "code",
   "execution_count": 22,
   "id": "ac784550",
   "metadata": {},
   "outputs": [
    {
     "data": {
      "text/plain": [
       "True"
      ]
     },
     "execution_count": 22,
     "metadata": {},
     "output_type": "execute_result"
    }
   ],
   "source": [
    "issubclass(np.matrix,np.ndarray)"
   ]
  },
  {
   "cell_type": "code",
   "execution_count": 23,
   "id": "0444f190",
   "metadata": {},
   "outputs": [
    {
     "data": {
      "text/plain": [
       "matrix([[1, 2]])"
      ]
     },
     "execution_count": 23,
     "metadata": {},
     "output_type": "execute_result"
    }
   ],
   "source": [
    "a = np.matrix([[1,2]])\n",
    "a"
   ]
  },
  {
   "cell_type": "markdown",
   "id": "57c6ab32",
   "metadata": {},
   "source": [
    "### numpy.asanyarray"
   ]
  },
  {
   "cell_type": "code",
   "execution_count": 24,
   "id": "8043efdf",
   "metadata": {},
   "outputs": [
    {
     "data": {
      "text/plain": [
       "numpy.ndarray"
      ]
     },
     "execution_count": 24,
     "metadata": {},
     "output_type": "execute_result"
    }
   ],
   "source": [
    "a = [1,2]\n",
    "b = np.asanyarray(a)\n",
    "type(b)"
   ]
  },
  {
   "cell_type": "code",
   "execution_count": 25,
   "id": "d86de55b",
   "metadata": {},
   "outputs": [
    {
     "data": {
      "text/plain": [
       "matrix([[1, 2]])"
      ]
     },
     "execution_count": 25,
     "metadata": {},
     "output_type": "execute_result"
    }
   ],
   "source": [
    "a = np.matrix([1,2])\n",
    "np.asanyarray(a)"
   ]
  },
  {
   "cell_type": "code",
   "execution_count": 26,
   "id": "bff96e5b",
   "metadata": {},
   "outputs": [],
   "source": [
    "#numpy.copy"
   ]
  },
  {
   "cell_type": "code",
   "execution_count": 27,
   "id": "fcc07dc7",
   "metadata": {},
   "outputs": [
    {
     "data": {
      "text/plain": [
       "array([[1, 2]])"
      ]
     },
     "execution_count": 27,
     "metadata": {},
     "output_type": "execute_result"
    }
   ],
   "source": [
    "np.array(a,copy=True)"
   ]
  },
  {
   "cell_type": "markdown",
   "id": "0324aca1",
   "metadata": {},
   "source": [
    "create an array x, with a reference y and a copy z:"
   ]
  },
  {
   "cell_type": "code",
   "execution_count": 28,
   "id": "110be00d",
   "metadata": {},
   "outputs": [],
   "source": [
    "x = np.array([1,2,3])"
   ]
  },
  {
   "cell_type": "code",
   "execution_count": 29,
   "id": "92a9d4df",
   "metadata": {},
   "outputs": [
    {
     "data": {
      "text/plain": [
       "array([1, 2, 3])"
      ]
     },
     "execution_count": 29,
     "metadata": {},
     "output_type": "execute_result"
    }
   ],
   "source": [
    "y = x\n",
    "y"
   ]
  },
  {
   "cell_type": "code",
   "execution_count": 30,
   "id": "d1f53cf0",
   "metadata": {},
   "outputs": [
    {
     "data": {
      "text/plain": [
       "1"
      ]
     },
     "execution_count": 30,
     "metadata": {},
     "output_type": "execute_result"
    }
   ],
   "source": [
    "y[0]"
   ]
  },
  {
   "cell_type": "code",
   "execution_count": 31,
   "id": "2c5a34b7",
   "metadata": {},
   "outputs": [
    {
     "data": {
      "text/plain": [
       "array([10,  2,  3])"
      ]
     },
     "execution_count": 31,
     "metadata": {},
     "output_type": "execute_result"
    }
   ],
   "source": [
    "y[0] = 10\n",
    "y"
   ]
  },
  {
   "cell_type": "code",
   "execution_count": 32,
   "id": "dd8fd1dd",
   "metadata": {},
   "outputs": [
    {
     "data": {
      "text/plain": [
       "array([10,  2,  3])"
      ]
     },
     "execution_count": 32,
     "metadata": {},
     "output_type": "execute_result"
    }
   ],
   "source": [
    "x"
   ]
  },
  {
   "cell_type": "markdown",
   "id": "45201d81",
   "metadata": {},
   "source": [
    "## numpy.fromfunction"
   ]
  },
  {
   "cell_type": "code",
   "execution_count": 33,
   "id": "faa3ada5",
   "metadata": {},
   "outputs": [
    {
     "data": {
      "text/plain": [
       "array([[ True, False, False],\n",
       "       [False,  True, False],\n",
       "       [False, False,  True]])"
      ]
     },
     "execution_count": 33,
     "metadata": {},
     "output_type": "execute_result"
    }
   ],
   "source": [
    "#construct an array by executing a function over each condition\n",
    "np.fromfunction(lambda i, j: i ==j,(3,3),dtype=int)"
   ]
  },
  {
   "cell_type": "code",
   "execution_count": 34,
   "id": "c30c3c74",
   "metadata": {},
   "outputs": [
    {
     "data": {
      "text/plain": [
       "array([[0, 1, 2],\n",
       "       [1, 2, 3],\n",
       "       [2, 3, 4]])"
      ]
     },
     "execution_count": 34,
     "metadata": {},
     "output_type": "execute_result"
    }
   ],
   "source": [
    "np.fromfunction(lambda i, j: i + j,(3,3),dtype =int)"
   ]
  },
  {
   "cell_type": "code",
   "execution_count": 35,
   "id": "dd48f626",
   "metadata": {},
   "outputs": [
    {
     "data": {
      "text/plain": [
       "array([[0, 1, 2, 3],\n",
       "       [1, 2, 3, 4],\n",
       "       [2, 3, 4, 5],\n",
       "       [3, 4, 5, 6]])"
      ]
     },
     "execution_count": 35,
     "metadata": {},
     "output_type": "execute_result"
    }
   ],
   "source": [
    "np.fromfunction(lambda i, j: i + j,(4,4),dtype =int)"
   ]
  },
  {
   "cell_type": "markdown",
   "id": "6cc38ab0",
   "metadata": {},
   "source": [
    "## Create a new 1_d array from an iterable object"
   ]
  },
  {
   "cell_type": "code",
   "execution_count": 36,
   "id": "4c451cff",
   "metadata": {},
   "outputs": [],
   "source": [
    "iterable = (x*x for x in range(5))"
   ]
  },
  {
   "cell_type": "code",
   "execution_count": 37,
   "id": "4c95455a",
   "metadata": {},
   "outputs": [
    {
     "data": {
      "text/plain": [
       "array([ 0.,  1.,  4.,  9., 16.])"
      ]
     },
     "execution_count": 37,
     "metadata": {},
     "output_type": "execute_result"
    }
   ],
   "source": [
    "np.fromiter(iterable,float)"
   ]
  },
  {
   "cell_type": "code",
   "execution_count": 38,
   "id": "5e3660f7",
   "metadata": {},
   "outputs": [
    {
     "name": "stdout",
     "output_type": "stream",
     "text": [
      "0\n",
      "1\n",
      "2\n",
      "3\n",
      "4\n",
      "5\n",
      "6\n",
      "7\n",
      "8\n",
      "9\n"
     ]
    }
   ],
   "source": [
    "for i in range(10):\n",
    "    print(i)"
   ]
  },
  {
   "cell_type": "code",
   "execution_count": 39,
   "id": "ff9b5527",
   "metadata": {},
   "outputs": [
    {
     "data": {
      "text/plain": [
       "array([0, 1, 2, 3, 4, 5, 6, 7, 8, 9])"
      ]
     },
     "execution_count": 39,
     "metadata": {},
     "output_type": "execute_result"
    }
   ],
   "source": [
    "np.fromiter(range(10),int)"
   ]
  },
  {
   "cell_type": "code",
   "execution_count": 40,
   "id": "a1235a56",
   "metadata": {},
   "outputs": [
    {
     "data": {
      "text/plain": [
       "array([], dtype=float64)"
      ]
     },
     "execution_count": 40,
     "metadata": {},
     "output_type": "execute_result"
    }
   ],
   "source": [
    "np.fromiter(iterable, float)"
   ]
  },
  {
   "cell_type": "markdown",
   "id": "32a6d8fd",
   "metadata": {},
   "source": [
    "## diffrence b/w array & asanyarray"
   ]
  },
  {
   "cell_type": "code",
   "execution_count": 41,
   "id": "23666cff",
   "metadata": {},
   "outputs": [
    {
     "data": {
      "text/plain": [
       "array([0, 1, 2, 3, 4, 5, 6, 7, 8, 9])"
      ]
     },
     "execution_count": 41,
     "metadata": {},
     "output_type": "execute_result"
    }
   ],
   "source": [
    "np.array(list(range(10)))"
   ]
  },
  {
   "cell_type": "code",
   "execution_count": 42,
   "id": "f7663bfe",
   "metadata": {},
   "outputs": [
    {
     "data": {
      "text/plain": [
       "array([0, 1, 2, 3, 4, 5, 6, 7, 8, 9])"
      ]
     },
     "execution_count": 42,
     "metadata": {},
     "output_type": "execute_result"
    }
   ],
   "source": [
    "np.asanyarray(list(range(10)))"
   ]
  },
  {
   "cell_type": "markdown",
   "id": "3b3b84db",
   "metadata": {},
   "source": [
    "### A new 1_d array intialized from text data in a string : sep(' ') ,sep(',')"
   ]
  },
  {
   "cell_type": "code",
   "execution_count": 43,
   "id": "635d97e3",
   "metadata": {},
   "outputs": [
    {
     "data": {
      "text/plain": [
       "array([1, 2])"
      ]
     },
     "execution_count": 43,
     "metadata": {},
     "output_type": "execute_result"
    }
   ],
   "source": [
    "np.fromstring('1 2',dtype=int,sep = ' ')"
   ]
  },
  {
   "cell_type": "code",
   "execution_count": 44,
   "id": "dccc1f64",
   "metadata": {},
   "outputs": [
    {
     "data": {
      "text/plain": [
       "array([1, 2])"
      ]
     },
     "execution_count": 44,
     "metadata": {},
     "output_type": "execute_result"
    }
   ],
   "source": [
    "np.fromstring('1, 2',dtype=int,sep=',')"
   ]
  },
  {
   "cell_type": "markdown",
   "id": "f6fc3719",
   "metadata": {},
   "source": [
    "## Converting list to array"
   ]
  },
  {
   "cell_type": "code",
   "execution_count": 45,
   "id": "0d7f6d56",
   "metadata": {},
   "outputs": [
    {
     "data": {
      "text/plain": [
       "array([1, 2, 3])"
      ]
     },
     "execution_count": 45,
     "metadata": {},
     "output_type": "execute_result"
    }
   ],
   "source": [
    "my_list = [1,2,3]\n",
    "arr = np.array(my_list)\n",
    "arr"
   ]
  },
  {
   "cell_type": "code",
   "execution_count": 46,
   "id": "63c5c98c",
   "metadata": {},
   "outputs": [
    {
     "name": "stdout",
     "output_type": "stream",
     "text": [
      "Type/class of this object: <class 'numpy.ndarray'>\n",
      "Here is the matrix\n",
      "...\n",
      " [[1 2 3]\n",
      " [4 5 6]\n",
      " [7 8 9]] \n",
      "........\n",
      "Dimension of this matrix: 2\n",
      "Size of this matrix:  9\n",
      "Shape of this matrix:  (3, 3)\n",
      "Data type of this matrix:  int32\n"
     ]
    }
   ],
   "source": [
    "my_mat = [[1,2,3],[4,5,6],[7,8,9]]\n",
    "mat = np.array(my_mat)\n",
    "print(\"Type/class of this object:\",type(mat))\n",
    "print(\"Here is the matrix\\n...\\n\",mat,\"\\n........\")\n",
    "print(\"Dimension of this matrix: \",mat.ndim,sep='') #ndim gives the dimension 2 for a matrix for a vector\n",
    "print(\"Size of this matrix: \",mat.size,sep=' ')#size gives the total number of elements\n",
    "print(\"Shape of this matrix: \",mat.shape,sep=' ')#shape gives the no of ele along each axes(d)\n",
    "print(\"Data type of this matrix: \",mat.dtype,sep=' ')#dtype gives the data type contained in this array"
   ]
  },
  {
   "cell_type": "markdown",
   "id": "548c18aa",
   "metadata": {},
   "source": [
    "### Converting Tuples, List to Array"
   ]
  },
  {
   "cell_type": "code",
   "execution_count": 47,
   "id": "a0b97f59",
   "metadata": {},
   "outputs": [
    {
     "name": "stdout",
     "output_type": "stream",
     "text": [
      "Data type of the modified matrix:  float64\n",
      "\n",
      "\n",
      "Even tuples can be converted to ndarray...\n"
     ]
    },
    {
     "data": {
      "text/plain": [
       "array([[1.1, 2. , 3. ],\n",
       "       [4. , 5.2, 6. ],\n",
       "       [7. , 8.3, 9. ]])"
      ]
     },
     "execution_count": 47,
     "metadata": {},
     "output_type": "execute_result"
    }
   ],
   "source": [
    "my_mat = [[1.1,2,3],[4,5.2,6],[7,8.3,9]]\n",
    "mat = np.array(my_mat)\n",
    "print(\"Data type of the modified matrix: \",mat.dtype,sep=' ')#dtype gives the data type contained in the array\n",
    "print(\"\\n\\nEven tuples can be converted to ndarray...\")\n",
    "mat"
   ]
  },
  {
   "cell_type": "code",
   "execution_count": 48,
   "id": "c08a8a9f",
   "metadata": {},
   "outputs": [
    {
     "name": "stdout",
     "output_type": "stream",
     "text": [
      "We write b = np.array([(1.5,2,3),(4,5,6)])\n",
      "[[1.5 2.  3. ]\n",
      " [4.  5.  6. ]]\n"
     ]
    }
   ],
   "source": [
    "b = np.array([(1.5,2,3),(4,5,6)])\n",
    "print(\"We write b = np.array([(1.5,2,3),(4,5,6)])\")\n",
    "print(b)"
   ]
  },
  {
   "cell_type": "markdown",
   "id": "5ee54815",
   "metadata": {},
   "source": [
    "## arange and linspace"
   ]
  },
  {
   "cell_type": "code",
   "execution_count": 49,
   "id": "7a03344a",
   "metadata": {},
   "outputs": [],
   "source": [
    "#list(range(10.34))"
   ]
  },
  {
   "cell_type": "code",
   "execution_count": 50,
   "id": "5d18dcf6",
   "metadata": {},
   "outputs": [
    {
     "data": {
      "text/plain": [
       "array([ 0.,  1.,  2.,  3.,  4.,  5.,  6.,  7.,  8.,  9., 10.])"
      ]
     },
     "execution_count": 50,
     "metadata": {},
     "output_type": "execute_result"
    }
   ],
   "source": [
    "np.arange(10.34)"
   ]
  },
  {
   "cell_type": "code",
   "execution_count": 51,
   "id": "95e6334c",
   "metadata": {},
   "outputs": [
    {
     "name": "stdout",
     "output_type": "stream",
     "text": [
      "A series of numbers:  [ 5  6  7  8  9 10 11 12 13 14 15]\n"
     ]
    }
   ],
   "source": [
    "print(\"A series of numbers: \",np.arange(5,16)) # A series of numbers from low to high"
   ]
  },
  {
   "cell_type": "code",
   "execution_count": 52,
   "id": "12691872",
   "metadata": {},
   "outputs": [
    {
     "name": "stdout",
     "output_type": "stream",
     "text": [
      "Number spaced apart by 2:  [ 0  2  4  6  8 10]\n"
     ]
    }
   ],
   "source": [
    "print(\"Number spaced apart by 2: \",np.arange(0,11,2)) #number spaced apart by 2"
   ]
  },
  {
   "cell_type": "code",
   "execution_count": 53,
   "id": "92754e59",
   "metadata": {},
   "outputs": [
    {
     "name": "stdout",
     "output_type": "stream",
     "text": [
      "Numnber spaced apart by float:  [ 0.   2.5  5.   7.5 10. ]\n"
     ]
    }
   ],
   "source": [
    "print(\"Numnber spaced apart by float: \",np.arange(0,11,2.5)) # number spaced apart by 2.5"
   ]
  },
  {
   "cell_type": "code",
   "execution_count": 54,
   "id": "9cbddd87",
   "metadata": {},
   "outputs": [
    {
     "name": "stdout",
     "output_type": "stream",
     "text": [
      "Every 5th number from 50 in reverse order\n",
      " [50 45 40 35 30 25 20 15 10  5  0]\n"
     ]
    }
   ],
   "source": [
    "print(\"Every 5th number from 50 in reverse order\\n\",np.arange(50,-1,-5))"
   ]
  },
  {
   "cell_type": "code",
   "execution_count": 55,
   "id": "75cc7847",
   "metadata": {},
   "outputs": [
    {
     "name": "stdout",
     "output_type": "stream",
     "text": [
      "23 linearly spaced number b/w 1 and 5\n",
      "...............\n",
      "[1.  1.2 1.4 1.6 1.8 2.  2.2 2.4 2.6 2.8 3.  3.2 3.4 3.6 3.8 4.  4.2 4.4\n",
      " 4.6 4.8 5. ]\n"
     ]
    }
   ],
   "source": [
    "print(\"23 linearly spaced number b/w 1 and 5\\n...............\")\n",
    "print(np.linspace(1,5,21))"
   ]
  },
  {
   "cell_type": "markdown",
   "id": "98991ba8",
   "metadata": {},
   "source": [
    "## Matrix creation"
   ]
  },
  {
   "cell_type": "code",
   "execution_count": 56,
   "id": "5be798bf",
   "metadata": {},
   "outputs": [
    {
     "name": "stdout",
     "output_type": "stream",
     "text": [
      "vector of zeros\n",
      "................\n",
      "[0. 0. 0. 0. 0. 0. 0. 0. 0. 0. 0. 0. 0. 0. 0. 0. 0. 0. 0. 0. 0. 0. 0. 0.\n",
      " 0. 0. 0. 0. 0. 0. 0. 0. 0. 0. 0. 0. 0. 0. 0. 0. 0. 0. 0. 0. 0. 0. 0. 0.\n",
      " 0. 0.]\n"
     ]
    }
   ],
   "source": [
    "print(\"vector of zeros\\n................\")\n",
    "print(np.zeros(50))"
   ]
  },
  {
   "cell_type": "code",
   "execution_count": 57,
   "id": "ed9e9888",
   "metadata": {},
   "outputs": [
    {
     "name": "stdout",
     "output_type": "stream",
     "text": [
      "Matrix of zeros\n",
      ".................\n",
      "[[0. 0. 0. 0.]\n",
      " [0. 0. 0. 0.]\n",
      " [0. 0. 0. 0.]]\n"
     ]
    }
   ],
   "source": [
    "print(\"Matrix of zeros\\n.................\")\n",
    "print(np.zeros((3,4)))  #Notice tupels"
   ]
  },
  {
   "cell_type": "code",
   "execution_count": 58,
   "id": "92fc0b65",
   "metadata": {},
   "outputs": [
    {
     "name": "stdout",
     "output_type": "stream",
     "text": [
      "vector of ones\n",
      "..............\n",
      "[1. 1. 1. 1. 1.]\n"
     ]
    }
   ],
   "source": [
    "print(\"vector of ones\\n..............\")\n",
    "print(np.ones(5))"
   ]
  },
  {
   "cell_type": "code",
   "execution_count": 59,
   "id": "6ff09835",
   "metadata": {},
   "outputs": [
    {
     "name": "stdout",
     "output_type": "stream",
     "text": [
      "Matrix of ones\n",
      "...............\n",
      "[[1. 1.]\n",
      " [1. 1.]\n",
      " [1. 1.]\n",
      " [1. 1.]\n",
      " [1. 1.]]\n"
     ]
    }
   ],
   "source": [
    "print(\"Matrix of ones\\n...............\")\n",
    "print(np.ones((5,2))) #Note matrix dimensions specified by tupels"
   ]
  },
  {
   "cell_type": "code",
   "execution_count": 60,
   "id": "51014e3d",
   "metadata": {},
   "outputs": [
    {
     "name": "stdout",
     "output_type": "stream",
     "text": [
      "[[[0. 0.]\n",
      "  [0. 0.]\n",
      "  [0. 0.]\n",
      "  [0. 0.]]\n",
      "\n",
      " [[0. 0.]\n",
      "  [0. 0.]\n",
      "  [0. 0.]\n",
      "  [0. 0.]]\n",
      "\n",
      " [[0. 0.]\n",
      "  [0. 0.]\n",
      "  [0. 0.]\n",
      "  [0. 0.]]]\n"
     ]
    }
   ],
   "source": [
    "print(np.zeros((3,4,2))) #notice tupels"
   ]
  },
  {
   "cell_type": "code",
   "execution_count": 61,
   "id": "8f359f89",
   "metadata": {},
   "outputs": [
    {
     "name": "stdout",
     "output_type": "stream",
     "text": [
      "vector of matrix\n",
      "....................\n",
      "[1. 1. 1. 1. 1.]\n"
     ]
    }
   ],
   "source": [
    "print(\"vector of matrix\\n....................\")\n",
    "print(np.ones((5)))"
   ]
  },
  {
   "cell_type": "code",
   "execution_count": 62,
   "id": "cd2bdb9b",
   "metadata": {},
   "outputs": [
    {
     "name": "stdout",
     "output_type": "stream",
     "text": [
      "Identity matrix of dimensions (4, 4)\n",
      "[[1. 0. 0. 0.]\n",
      " [0. 1. 0. 0.]\n",
      " [0. 0. 1. 0.]\n",
      " [0. 0. 0. 1.]]\n"
     ]
    }
   ],
   "source": [
    "mat1 = np.eye(4)\n",
    "print(\"Identity matrix of dimensions\",mat1.shape)\n",
    "print(mat1)"
   ]
  },
  {
   "cell_type": "code",
   "execution_count": 63,
   "id": "2ec5d732",
   "metadata": {},
   "outputs": [
    {
     "data": {
      "text/plain": [
       "array([2.  , 2.25, 2.5 , 2.75, 3.  ])"
      ]
     },
     "execution_count": 63,
     "metadata": {},
     "output_type": "execute_result"
    }
   ],
   "source": [
    "np.linspace(2.0,3.0,num=5)"
   ]
  },
  {
   "cell_type": "code",
   "execution_count": 64,
   "id": "b544073d",
   "metadata": {},
   "outputs": [
    {
     "data": {
      "text/plain": [
       "array([2. , 2.2, 2.4, 2.6, 2.8])"
      ]
     },
     "execution_count": 64,
     "metadata": {},
     "output_type": "execute_result"
    }
   ],
   "source": [
    "np.linspace(2.0,3.0,num=5,endpoint=False) # if i dont want 3 in my line space"
   ]
  },
  {
   "cell_type": "code",
   "execution_count": 65,
   "id": "af100e64",
   "metadata": {},
   "outputs": [
    {
     "data": {
      "text/plain": [
       "(array([2.  , 2.25, 2.5 , 2.75, 3.  ]), 0.25)"
      ]
     },
     "execution_count": 65,
     "metadata": {},
     "output_type": "execute_result"
    }
   ],
   "source": [
    "np.linspace(2.0,3.0,num=5,retstep=True)  #if i want seperate distance b/w lines we use"
   ]
  },
  {
   "cell_type": "code",
   "execution_count": 66,
   "id": "0fbfb224",
   "metadata": {},
   "outputs": [
    {
     "data": {
      "text/plain": [
       "(array([2.        , 2.02040816, 2.04081633, 2.06122449, 2.08163265,\n",
       "        2.10204082, 2.12244898, 2.14285714, 2.16326531, 2.18367347,\n",
       "        2.20408163, 2.2244898 , 2.24489796, 2.26530612, 2.28571429,\n",
       "        2.30612245, 2.32653061, 2.34693878, 2.36734694, 2.3877551 ,\n",
       "        2.40816327, 2.42857143, 2.44897959, 2.46938776, 2.48979592,\n",
       "        2.51020408, 2.53061224, 2.55102041, 2.57142857, 2.59183673,\n",
       "        2.6122449 , 2.63265306, 2.65306122, 2.67346939, 2.69387755,\n",
       "        2.71428571, 2.73469388, 2.75510204, 2.7755102 , 2.79591837,\n",
       "        2.81632653, 2.83673469, 2.85714286, 2.87755102, 2.89795918,\n",
       "        2.91836735, 2.93877551, 2.95918367, 2.97959184, 3.        ]),\n",
       " 0.02040816326530612)"
      ]
     },
     "execution_count": 66,
     "metadata": {},
     "output_type": "execute_result"
    }
   ],
   "source": [
    "np.linspace(2.0,3.0,num=50,retstep=True)"
   ]
  },
  {
   "cell_type": "markdown",
   "id": "e2f142be",
   "metadata": {},
   "source": [
    "## logerthermic(only diff is it gives log values) == linspace"
   ]
  },
  {
   "cell_type": "code",
   "execution_count": 67,
   "id": "a1336410",
   "metadata": {},
   "outputs": [
    {
     "data": {
      "text/plain": [
       "array([ 100.        ,  177.827941  ,  316.22776602,  562.34132519,\n",
       "       1000.        ])"
      ]
     },
     "execution_count": 67,
     "metadata": {},
     "output_type": "execute_result"
    }
   ],
   "source": [
    "np.logspace(2.0,3.0,num=5)"
   ]
  },
  {
   "cell_type": "code",
   "execution_count": 68,
   "id": "e64adf36",
   "metadata": {},
   "outputs": [
    {
     "data": {
      "text/plain": [
       "array([100.        , 177.827941  , 316.22776602, 562.34132519])"
      ]
     },
     "execution_count": 68,
     "metadata": {},
     "output_type": "execute_result"
    }
   ],
   "source": [
    "np.logspace(2.0,3.0,num=4,endpoint=False)"
   ]
  },
  {
   "cell_type": "code",
   "execution_count": 69,
   "id": "ae2fcbcd",
   "metadata": {},
   "outputs": [
    {
     "data": {
      "text/plain": [
       "array([4.        , 5.0396842 , 6.34960421, 8.        ])"
      ]
     },
     "execution_count": 69,
     "metadata": {},
     "output_type": "execute_result"
    }
   ],
   "source": [
    "np.logspace(2.0,3.0,num=4,base=2.0)"
   ]
  },
  {
   "cell_type": "markdown",
   "id": "b469f3f8",
   "metadata": {},
   "source": [
    "### Extract a diagonal or construct a diagonal array"
   ]
  },
  {
   "cell_type": "code",
   "execution_count": 70,
   "id": "8fef5b39",
   "metadata": {},
   "outputs": [
    {
     "data": {
      "text/plain": [
       "array([[0, 1, 2],\n",
       "       [3, 4, 5],\n",
       "       [6, 7, 8]])"
      ]
     },
     "execution_count": 70,
     "metadata": {},
     "output_type": "execute_result"
    }
   ],
   "source": [
    "x = np.arange(9).reshape((3,3))\n",
    "x"
   ]
  },
  {
   "cell_type": "code",
   "execution_count": 71,
   "id": "77317162",
   "metadata": {},
   "outputs": [
    {
     "data": {
      "text/plain": [
       "array([[0],\n",
       "       [1],\n",
       "       [2],\n",
       "       [3],\n",
       "       [4],\n",
       "       [5],\n",
       "       [6],\n",
       "       [7],\n",
       "       [8]])"
      ]
     },
     "execution_count": 71,
     "metadata": {},
     "output_type": "execute_result"
    }
   ],
   "source": [
    "x.reshape((9,1))"
   ]
  },
  {
   "cell_type": "code",
   "execution_count": 72,
   "id": "32c8eb3f",
   "metadata": {},
   "outputs": [
    {
     "data": {
      "text/plain": [
       "array([[[0],\n",
       "        [1],\n",
       "        [2]],\n",
       "\n",
       "       [[3],\n",
       "        [4],\n",
       "        [5]],\n",
       "\n",
       "       [[6],\n",
       "        [7],\n",
       "        [8]]])"
      ]
     },
     "execution_count": 72,
     "metadata": {},
     "output_type": "execute_result"
    }
   ],
   "source": [
    "x = np.arange(9).reshape((3,3,1))\n",
    "x"
   ]
  },
  {
   "cell_type": "code",
   "execution_count": 73,
   "id": "903fb221",
   "metadata": {},
   "outputs": [
    {
     "data": {
      "text/plain": [
       "array([[0],\n",
       "       [1],\n",
       "       [2],\n",
       "       [3],\n",
       "       [4],\n",
       "       [5],\n",
       "       [6],\n",
       "       [7],\n",
       "       [8]])"
      ]
     },
     "execution_count": 73,
     "metadata": {},
     "output_type": "execute_result"
    }
   ],
   "source": [
    "x.reshape(-36575,1)  #it will assigh to 9"
   ]
  },
  {
   "cell_type": "code",
   "execution_count": 74,
   "id": "8698e123",
   "metadata": {},
   "outputs": [],
   "source": [
    "x = np.arange(9).reshape((3,3))"
   ]
  },
  {
   "cell_type": "code",
   "execution_count": 75,
   "id": "1eb5da5b",
   "metadata": {},
   "outputs": [
    {
     "data": {
      "text/plain": [
       "array([0, 4, 8])"
      ]
     },
     "execution_count": 75,
     "metadata": {},
     "output_type": "execute_result"
    }
   ],
   "source": [
    "np.diag(x)"
   ]
  },
  {
   "cell_type": "code",
   "execution_count": 76,
   "id": "5e44b3cd",
   "metadata": {},
   "outputs": [
    {
     "data": {
      "text/plain": [
       "array([1, 5])"
      ]
     },
     "execution_count": 76,
     "metadata": {},
     "output_type": "execute_result"
    }
   ],
   "source": [
    "np.diag(x, k=1)"
   ]
  },
  {
   "cell_type": "code",
   "execution_count": 77,
   "id": "589f9b9e",
   "metadata": {},
   "outputs": [
    {
     "data": {
      "text/plain": [
       "array([3, 7])"
      ]
     },
     "execution_count": 77,
     "metadata": {},
     "output_type": "execute_result"
    }
   ],
   "source": [
    "np.diag(x, k=-1)"
   ]
  },
  {
   "cell_type": "code",
   "execution_count": 78,
   "id": "e79b0f2b",
   "metadata": {},
   "outputs": [
    {
     "data": {
      "text/plain": [
       "array([2])"
      ]
     },
     "execution_count": 78,
     "metadata": {},
     "output_type": "execute_result"
    }
   ],
   "source": [
    "np.diag(x, k=2)"
   ]
  },
  {
   "cell_type": "code",
   "execution_count": 79,
   "id": "983c55ff",
   "metadata": {},
   "outputs": [
    {
     "data": {
      "text/plain": [
       "array([[0, 0, 0],\n",
       "       [0, 4, 0],\n",
       "       [0, 0, 8]])"
      ]
     },
     "execution_count": 79,
     "metadata": {},
     "output_type": "execute_result"
    }
   ],
   "source": [
    "np.diag(np.diag(x))  #diagonal inside a diagonal"
   ]
  },
  {
   "cell_type": "markdown",
   "id": "4d1995ad",
   "metadata": {},
   "source": [
    "### Create a two-dimensional array with the flattend input as a diagonal"
   ]
  },
  {
   "cell_type": "code",
   "execution_count": 80,
   "id": "d46b537a",
   "metadata": {},
   "outputs": [
    {
     "data": {
      "text/plain": [
       "array([[1, 0, 0, 0],\n",
       "       [0, 2, 0, 0],\n",
       "       [0, 0, 3, 0],\n",
       "       [0, 0, 0, 4]])"
      ]
     },
     "execution_count": 80,
     "metadata": {},
     "output_type": "execute_result"
    }
   ],
   "source": [
    "np.diagflat([[1,2],[3,4]])  #list within a list creating diag"
   ]
  },
  {
   "cell_type": "code",
   "execution_count": 81,
   "id": "611c2442",
   "metadata": {},
   "outputs": [
    {
     "data": {
      "text/plain": [
       "array([[0, 1, 0],\n",
       "       [0, 0, 2],\n",
       "       [0, 0, 0]])"
      ]
     },
     "execution_count": 81,
     "metadata": {},
     "output_type": "execute_result"
    }
   ],
   "source": [
    "np.diagflat([1,2],1)  #its represnting k value"
   ]
  },
  {
   "cell_type": "markdown",
   "id": "100f94f8",
   "metadata": {},
   "source": [
    "#### An array with ones at and below the given diagonal and zeros elsewhere"
   ]
  },
  {
   "cell_type": "code",
   "execution_count": 82,
   "id": "331a46ae",
   "metadata": {},
   "outputs": [
    {
     "data": {
      "text/plain": [
       "array([[1, 0, 0, 0, 0],\n",
       "       [1, 1, 0, 0, 0],\n",
       "       [1, 1, 1, 0, 0]])"
      ]
     },
     "execution_count": 82,
     "metadata": {},
     "output_type": "execute_result"
    }
   ],
   "source": [
    "np.tri(3,5,0,dtype=int)"
   ]
  },
  {
   "cell_type": "code",
   "execution_count": 83,
   "id": "c5bb1d0b",
   "metadata": {},
   "outputs": [
    {
     "data": {
      "text/plain": [
       "array([[1, 1, 0, 0, 0],\n",
       "       [1, 1, 1, 0, 0],\n",
       "       [1, 1, 1, 1, 0]])"
      ]
     },
     "execution_count": 83,
     "metadata": {},
     "output_type": "execute_result"
    }
   ],
   "source": [
    "np.tri(3,5,1,dtype=int)"
   ]
  },
  {
   "cell_type": "code",
   "execution_count": 84,
   "id": "939c2556",
   "metadata": {},
   "outputs": [
    {
     "data": {
      "text/plain": [
       "array([[0, 0, 0, 0, 0],\n",
       "       [1, 0, 0, 0, 0],\n",
       "       [1, 1, 0, 0, 0]])"
      ]
     },
     "execution_count": 84,
     "metadata": {},
     "output_type": "execute_result"
    }
   ],
   "source": [
    "np.tri(3,5,-1,dtype=int)"
   ]
  },
  {
   "cell_type": "code",
   "execution_count": 85,
   "id": "78e76774",
   "metadata": {},
   "outputs": [
    {
     "data": {
      "text/plain": [
       "array([[ 1,  0,  0],\n",
       "       [ 4,  5,  0],\n",
       "       [ 7,  8,  9],\n",
       "       [10, 11, 12]])"
      ]
     },
     "execution_count": 85,
     "metadata": {},
     "output_type": "execute_result"
    }
   ],
   "source": [
    "# creating a list in a list  \"Lower triangular matrix\" if 'k=0'\n",
    "np.tril(([1,2,3],[4,5,6],[7,8,9],[10,11,12]))"
   ]
  },
  {
   "cell_type": "code",
   "execution_count": 86,
   "id": "1ce816b1",
   "metadata": {},
   "outputs": [
    {
     "data": {
      "text/plain": [
       "array([[ 1,  2,  3],\n",
       "       [ 4,  5,  6],\n",
       "       [ 7,  8,  9],\n",
       "       [10, 11, 12]])"
      ]
     },
     "execution_count": 86,
     "metadata": {},
     "output_type": "execute_result"
    }
   ],
   "source": [
    "np.tril([[1,2,3],[4,5,6],[7,8,9],[10,11,12]],k=2)"
   ]
  },
  {
   "cell_type": "code",
   "execution_count": 87,
   "id": "7c73f4aa",
   "metadata": {},
   "outputs": [
    {
     "data": {
      "text/plain": [
       "array([[ 1,  2,  0],\n",
       "       [ 4,  5,  6],\n",
       "       [ 7,  8,  9],\n",
       "       [10, 11, 12]])"
      ]
     },
     "execution_count": 87,
     "metadata": {},
     "output_type": "execute_result"
    }
   ],
   "source": [
    "np.tril([[1,2,3],[4,5,6],[7,8,9],[10,11,12]],k=1)"
   ]
  },
  {
   "cell_type": "markdown",
   "id": "0dac4f0e",
   "metadata": {},
   "source": [
    "### create an upper triangle of an array"
   ]
  },
  {
   "cell_type": "code",
   "execution_count": 88,
   "id": "51b62483",
   "metadata": {},
   "outputs": [
    {
     "data": {
      "text/plain": [
       "array([[ 1,  2,  3],\n",
       "       [ 4,  5,  6],\n",
       "       [ 0,  8,  9],\n",
       "       [ 0,  0, 12]])"
      ]
     },
     "execution_count": 88,
     "metadata": {},
     "output_type": "execute_result"
    }
   ],
   "source": [
    "np.triu([[1,2,3],[4,5,6],[7,8,9],[10,11,12]],k= -1)"
   ]
  },
  {
   "cell_type": "code",
   "execution_count": 89,
   "id": "bc6cc46b",
   "metadata": {},
   "outputs": [
    {
     "data": {
      "text/plain": [
       "array([[ 1,  2,  3],\n",
       "       [ 4,  5,  6],\n",
       "       [ 0,  8,  9],\n",
       "       [ 0,  0, 12]])"
      ]
     },
     "execution_count": 89,
     "metadata": {},
     "output_type": "execute_result"
    }
   ],
   "source": [
    "np.triu([[1,2,3],[4,5,6],[7,8,9],[10,11,12]], -1)"
   ]
  },
  {
   "cell_type": "markdown",
   "id": "c0674a27",
   "metadata": {},
   "source": [
    "## Random number generating"
   ]
  },
  {
   "cell_type": "code",
   "execution_count": 90,
   "id": "f3941583",
   "metadata": {},
   "outputs": [
    {
     "name": "stdout",
     "output_type": "stream",
     "text": [
      "Random number generating (from uniform distribution)\n",
      "[[0.47539983 0.02368902 0.92408912]\n",
      " [0.4058222  0.8655018  0.02831686]]\n"
     ]
    }
   ],
   "source": [
    "print(\"Random number generating (from uniform distribution)\")\n",
    "print(np.random.rand(2,3)) #2 by 3 matrix with random number ranging from 0 to 1, note no tuple is necessary"
   ]
  },
  {
   "cell_type": "code",
   "execution_count": 91,
   "id": "b9b142f3",
   "metadata": {},
   "outputs": [
    {
     "data": {
      "text/plain": [
       "array([[[0.09199664, 0.78256434, 0.09121897, 0.38314113, 0.62408974],\n",
       "        [0.44482348, 0.87728624, 0.82825792, 0.95549536, 0.39750469],\n",
       "        [0.55037645, 0.67744222, 0.11233684, 0.37434728, 0.81258074]],\n",
       "\n",
       "       [[0.59050536, 0.57886073, 0.86659976, 0.94865677, 0.68091598],\n",
       "        [0.94823313, 0.54637032, 0.80677651, 0.9664482 , 0.14747498],\n",
       "        [0.44748543, 0.88389955, 0.56239172, 0.28075965, 0.02516039]]])"
      ]
     },
     "execution_count": 91,
     "metadata": {},
     "output_type": "execute_result"
    }
   ],
   "source": [
    "np.random.rand(2,3,5)"
   ]
  },
  {
   "cell_type": "code",
   "execution_count": 92,
   "id": "627b76a2",
   "metadata": {},
   "outputs": [
    {
     "name": "stdout",
     "output_type": "stream",
     "text": [
      "number from Normal distribution with zero and standard devation 1 i.e ,standard normal\n",
      "[[-1.0268856   0.58435408 -0.42341779]\n",
      " [ 0.41702773  0.6500723   0.60659218]\n",
      " [ 2.49232075  1.12873949  1.37531516]\n",
      " [ 0.32376243  0.69795088  0.89022292]]\n"
     ]
    }
   ],
   "source": [
    "print(\"number from Normal distribution with zero and standard devation 1 i.e ,standard normal\")\n",
    "print(np.random.randn(4,3))"
   ]
  },
  {
   "cell_type": "code",
   "execution_count": 93,
   "id": "0911fb9f",
   "metadata": {},
   "outputs": [
    {
     "name": "stdout",
     "output_type": "stream",
     "text": [
      "Random integer vector : [31 26 58 84 68 77 52 52 80 18]\n",
      "\n",
      "Random integer matrix\n"
     ]
    },
    {
     "data": {
      "text/plain": [
       "array([[45, 67],\n",
       "       [99, 80],\n",
       "       [29, 15],\n",
       "       [23,  4],\n",
       "       [ 7, 46]])"
      ]
     },
     "execution_count": 93,
     "metadata": {},
     "output_type": "execute_result"
    }
   ],
   "source": [
    "print(\"Random integer vector :\",np.random.randint(1,100,10)) #randint(low,high,# of samples to be drawn)\n",
    "print(\"\\nRandom integer matrix\")\n",
    "np.random.randint(1,100,10).reshape(5,2)"
   ]
  },
  {
   "cell_type": "code",
   "execution_count": 94,
   "id": "a9deacf4",
   "metadata": {},
   "outputs": [
    {
     "name": "stdout",
     "output_type": "stream",
     "text": [
      "[[24  9 26 36]\n",
      " [69 87 61 70]\n",
      " [64 65 51 28]\n",
      " [36 38  8 31]]\n",
      "\n",
      "20 samples drawn from a dice throw:  [4 4 6 3 2 6 6 2 2 1 3 1 4 1 6 2 4 3 3 1]\n"
     ]
    }
   ],
   "source": [
    "print(np.random.randint(1,100,(4,4))) #randint(low,high,# of samplesto be drawn ina tuple to form a matrix)\n",
    "print(\"\\n20 samples drawn from a dice throw: \",np.random.randint(1,7,20)) # 20 samples drawn from a dice throw"
   ]
  },
  {
   "cell_type": "markdown",
   "id": "1f48f4af",
   "metadata": {},
   "source": [
    "## Reshaping"
   ]
  },
  {
   "cell_type": "code",
   "execution_count": 95,
   "id": "85a55286",
   "metadata": {},
   "outputs": [],
   "source": [
    "from numpy .random import randint as ri"
   ]
  },
  {
   "cell_type": "code",
   "execution_count": 96,
   "id": "57f5a362",
   "metadata": {},
   "outputs": [],
   "source": [
    "a = ri(1,100,30)\n",
    "b = a.reshape(2,3,5)\n",
    "c = a.reshape(6,5)"
   ]
  },
  {
   "cell_type": "code",
   "execution_count": 97,
   "id": "337c2ee2",
   "metadata": {},
   "outputs": [
    {
     "name": "stdout",
     "output_type": "stream",
     "text": [
      "shape of a:  (30,)\n",
      "shape of b:  (2, 3, 5)\n",
      "shape of c:  (6, 5)\n"
     ]
    }
   ],
   "source": [
    "print(\"shape of a: \",a.shape)\n",
    "print(\"shape of b: \",b.shape)\n",
    "print(\"shape of c: \",c.shape)"
   ]
  },
  {
   "cell_type": "code",
   "execution_count": 98,
   "id": "62f162bc",
   "metadata": {},
   "outputs": [
    {
     "name": "stdout",
     "output_type": "stream",
     "text": [
      "\n",
      "a looks like\n",
      " -------------------- \n",
      " [ 2 70 96 73 42 96  3 73 57 94 74 56 38  6 32  8 90 75 63 62 27 37 65 81\n",
      "  4  1 39 35 91 35] \n",
      " --------------------\n",
      "\n",
      "b looks like\n",
      " -------------------- \n",
      " [[[ 2 70 96 73 42]\n",
      "  [96  3 73 57 94]\n",
      "  [74 56 38  6 32]]\n",
      "\n",
      " [[ 8 90 75 63 62]\n",
      "  [27 37 65 81  4]\n",
      "  [ 1 39 35 91 35]]] \n",
      " --------------------\n",
      "\n",
      "c looks like\n",
      " -------------------- \n",
      " [[ 2 70 96 73 42]\n",
      " [96  3 73 57 94]\n",
      " [74 56 38  6 32]\n",
      " [ 8 90 75 63 62]\n",
      " [27 37 65 81  4]\n",
      " [ 1 39 35 91 35]] \n",
      " --------------------\n"
     ]
    }
   ],
   "source": [
    "print(\"\\na looks like\\n\",'-'*20,\"\\n\",a,\"\\n\",'-'*20)\n",
    "print(\"\\nb looks like\\n\",'-'*20,\"\\n\",b,\"\\n\",'-'*20)\n",
    "print(\"\\nc looks like\\n\",'-'*20,\"\\n\",c,\"\\n\",'-'*20)"
   ]
  },
  {
   "cell_type": "code",
   "execution_count": 99,
   "id": "48d7bf20",
   "metadata": {},
   "outputs": [
    {
     "name": "stdout",
     "output_type": "stream",
     "text": [
      "\n",
      "vector of random integers\n",
      " -------------------------------------------------- \n",
      " [67 84  4 69 72 73 34 62 36 70]\n",
      "\n",
      "Here is the sorted vector\n",
      " -------------------------------------------------- \n",
      " [ 4 34 36 62 67 69 70 72 73 84]\n"
     ]
    }
   ],
   "source": [
    "A = ri(1,100,10) #vector of random integer\n",
    "print(\"\\nvector of random integers\\n\",'-'*50,\"\\n\",A)\n",
    "print(\"\\nHere is the sorted vector\\n\",'-'*50,\"\\n\",np.sort(A,kind='mergesort'))"
   ]
  },
  {
   "cell_type": "code",
   "execution_count": 100,
   "id": "91529db0",
   "metadata": {},
   "outputs": [
    {
     "name": "stdout",
     "output_type": "stream",
     "text": [
      "\n",
      "5x5 Matrix of random integer\n",
      " -------------------------------------------------- \n",
      " [[51 28 90 62 33]\n",
      " [38 16 92 52 21]\n",
      " [20 94 30 80 34]\n",
      " [28 30 72 69 18]\n",
      " [16 29 88 81 26]]\n",
      "\n",
      "Here is the sorted matrix along each row\n",
      " -------------------------------------------------- \n",
      " [[28 33 51 62 90]\n",
      " [16 21 38 52 92]\n",
      " [20 30 34 80 94]\n",
      " [18 28 30 69 72]\n",
      " [16 26 29 81 88]]\n",
      "\n",
      "Here is the sorted matrix along each row\n",
      " -------------------------------------------------- \n",
      " [[16 16 30 52 18]\n",
      " [20 28 72 62 21]\n",
      " [28 29 88 69 26]\n",
      " [38 30 90 80 33]\n",
      " [51 94 92 81 34]]\n"
     ]
    }
   ],
   "source": [
    "M = ri(1,100,25).reshape(5,5) #matrix of random integers\n",
    "print(\"\\n5x5 Matrix of random integer\\n\",'-'*50,\"\\n\",M)\n",
    "print(\"\\nHere is the sorted matrix along each row\\n\",'-'*50,\"\\n\",np.sort(M,kind='mergesort'))\n",
    "print(\"\\nHere is the sorted matrix along each row\\n\",'-'*50,\"\\n\",np.sort(M,axis=0,kind='mergesort'))"
   ]
  },
  {
   "cell_type": "code",
   "execution_count": 101,
   "id": "0f785279",
   "metadata": {},
   "outputs": [
    {
     "data": {
      "text/plain": [
       "array([[19, 99, 61, 80, 38],\n",
       "       [43, 27, 92, 51, 72],\n",
       "       [66, 70, 49, 55,  1],\n",
       "       [48, 52, 30, 34, 80],\n",
       "       [68, 66, 62, 64, 14]])"
      ]
     },
     "execution_count": 101,
     "metadata": {},
     "output_type": "execute_result"
    }
   ],
   "source": [
    "M = ri(1,100,25).reshape(5,5)\n",
    "M"
   ]
  },
  {
   "cell_type": "markdown",
   "id": "d196966a",
   "metadata": {},
   "source": [
    "#### To perform Row wise operations"
   ]
  },
  {
   "cell_type": "code",
   "execution_count": 102,
   "id": "0c084bfa",
   "metadata": {},
   "outputs": [
    {
     "data": {
      "text/plain": [
       "array([[19, 27, 30, 34,  1],\n",
       "       [43, 52, 49, 51, 14],\n",
       "       [48, 66, 61, 55, 38],\n",
       "       [66, 70, 62, 64, 72],\n",
       "       [68, 99, 92, 80, 80]])"
      ]
     },
     "execution_count": 102,
     "metadata": {},
     "output_type": "execute_result"
    }
   ],
   "source": [
    "np.sort(M,kind='mergesort',axis = 0)"
   ]
  },
  {
   "cell_type": "code",
   "execution_count": 103,
   "id": "d45a3da8",
   "metadata": {},
   "outputs": [
    {
     "data": {
      "text/plain": [
       "array([ 2, 70, 96, 73, 42, 96,  3, 73, 57, 94, 74, 56, 38,  6, 32,  8, 90,\n",
       "       75, 63, 62, 27, 37, 65, 81,  4,  1, 39, 35, 91, 35])"
      ]
     },
     "execution_count": 103,
     "metadata": {},
     "output_type": "execute_result"
    }
   ],
   "source": [
    "a"
   ]
  },
  {
   "cell_type": "code",
   "execution_count": 104,
   "id": "26d9da91",
   "metadata": {},
   "outputs": [
    {
     "name": "stdout",
     "output_type": "stream",
     "text": [
      "Max of a : 96\n",
      "Max of b : 96\n"
     ]
    }
   ],
   "source": [
    "print(\"Max of a :\",a.max())\n",
    "print(\"Max of b :\",b.max())"
   ]
  },
  {
   "cell_type": "code",
   "execution_count": 105,
   "id": "c617d54e",
   "metadata": {},
   "outputs": [
    {
     "name": "stdout",
     "output_type": "stream",
     "text": [
      "Max of a location : 2\n",
      "Max of b location : 2\n",
      "Max of c location : 2\n"
     ]
    }
   ],
   "source": [
    "print(\"Max of a location :\",a.argmax()) # it gives location of maximum data \"arguments\"\n",
    "print(\"Max of b location :\",b.argmax())\n",
    "print(\"Max of c location :\",c.argmax())"
   ]
  },
  {
   "cell_type": "code",
   "execution_count": null,
   "id": "f7c90253",
   "metadata": {},
   "outputs": [],
   "source": []
  }
 ],
 "metadata": {
  "kernelspec": {
   "display_name": "Python 3",
   "language": "python",
   "name": "python3"
  },
  "language_info": {
   "codemirror_mode": {
    "name": "ipython",
    "version": 3
   },
   "file_extension": ".py",
   "mimetype": "text/x-python",
   "name": "python",
   "nbconvert_exporter": "python",
   "pygments_lexer": "ipython3",
   "version": "3.8.8"
  }
 },
 "nbformat": 4,
 "nbformat_minor": 5
}
